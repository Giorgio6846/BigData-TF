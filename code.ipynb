{
 "cells": [
  {
   "cell_type": "code",
   "execution_count": null,
   "id": "7da46c85",
   "metadata": {},
   "outputs": [],
   "source": [
    "import os\n",
    "import h2o\n",
    "import kagglehub\n",
    "import seaborn as sns\n",
    "import matplotlib.pyplot as plt\n",
    "from h2o.automl import H2OAutoML\n",
    "from h2o.estimators import H2ODeepLearningEstimator"
   ]
  },
  {
   "cell_type": "markdown",
   "id": "02547f18",
   "metadata": {},
   "source": [
    "# Descarga de dataset Kaggle"
   ]
  },
  {
   "cell_type": "code",
   "execution_count": 35,
   "id": "513b932a",
   "metadata": {},
   "outputs": [
    {
     "name": "stdout",
     "output_type": "stream",
     "text": [
      "Dataset downloaded to: /home/giorgio6846/.cache/kagglehub/datasets/dev7halo/wine-information/versions/7\n"
     ]
    },
    {
     "data": {
      "text/plain": [
       "['cleansingWine.csv', 'wine_info.csv']"
      ]
     },
     "execution_count": 35,
     "metadata": {},
     "output_type": "execute_result"
    }
   ],
   "source": [
    "path = kagglehub.dataset_download(\"dev7halo/wine-information\", force_download=False)\n",
    "print(\"Dataset downloaded to:\", path)\n",
    "os.listdir(path)"
   ]
  },
  {
   "cell_type": "markdown",
   "id": "57876095",
   "metadata": {},
   "source": [
    "# Inicializacion de h2o"
   ]
  },
  {
   "cell_type": "code",
   "execution_count": 36,
   "id": "067f7401",
   "metadata": {},
   "outputs": [
    {
     "name": "stdout",
     "output_type": "stream",
     "text": [
      "Checking whether there is an H2O instance running at http://172.25.197.59:54323. connected.\n",
      "Warning: Your H2O cluster version is (3 months and 15 days) old.  There may be a newer version available.\n",
      "Please download and install the latest version from: https://h2o-release.s3.amazonaws.com/h2o/latest_stable.html\n"
     ]
    },
    {
     "data": {
      "text/html": [
       "\n",
       "<style>\n",
       "\n",
       "#h2o-table-4.h2o-container {\n",
       "  overflow-x: auto;\n",
       "}\n",
       "#h2o-table-4 .h2o-table {\n",
       "  /* width: 100%; */\n",
       "  margin-top: 1em;\n",
       "  margin-bottom: 1em;\n",
       "}\n",
       "#h2o-table-4 .h2o-table caption {\n",
       "  white-space: nowrap;\n",
       "  caption-side: top;\n",
       "  text-align: left;\n",
       "  /* margin-left: 1em; */\n",
       "  margin: 0;\n",
       "  font-size: larger;\n",
       "}\n",
       "#h2o-table-4 .h2o-table thead {\n",
       "  white-space: nowrap; \n",
       "  position: sticky;\n",
       "  top: 0;\n",
       "  box-shadow: 0 -1px inset;\n",
       "}\n",
       "#h2o-table-4 .h2o-table tbody {\n",
       "  overflow: auto;\n",
       "}\n",
       "#h2o-table-4 .h2o-table th,\n",
       "#h2o-table-4 .h2o-table td {\n",
       "  text-align: right;\n",
       "  /* border: 1px solid; */\n",
       "}\n",
       "#h2o-table-4 .h2o-table tr:nth-child(even) {\n",
       "  /* background: #F5F5F5 */\n",
       "}\n",
       "\n",
       "</style>      \n",
       "<div id=\"h2o-table-4\" class=\"h2o-container\">\n",
       "  <table class=\"h2o-table\">\n",
       "    <caption></caption>\n",
       "    <thead></thead>\n",
       "    <tbody><tr><td>H2O_cluster_uptime:</td>\n",
       "<td>4 hours 0 mins</td></tr>\n",
       "<tr><td>H2O_cluster_timezone:</td>\n",
       "<td>America/Lima</td></tr>\n",
       "<tr><td>H2O_data_parsing_timezone:</td>\n",
       "<td>UTC</td></tr>\n",
       "<tr><td>H2O_cluster_version:</td>\n",
       "<td>3.46.0.7</td></tr>\n",
       "<tr><td>H2O_cluster_version_age:</td>\n",
       "<td>3 months and 15 days</td></tr>\n",
       "<tr><td>H2O_cluster_name:</td>\n",
       "<td>MyH2OCluster</td></tr>\n",
       "<tr><td>H2O_cluster_total_nodes:</td>\n",
       "<td>2</td></tr>\n",
       "<tr><td>H2O_cluster_free_memory:</td>\n",
       "<td>31.21 Gb</td></tr>\n",
       "<tr><td>H2O_cluster_total_cores:</td>\n",
       "<td>28</td></tr>\n",
       "<tr><td>H2O_cluster_allowed_cores:</td>\n",
       "<td>28</td></tr>\n",
       "<tr><td>H2O_cluster_status:</td>\n",
       "<td>locked, healthy</td></tr>\n",
       "<tr><td>H2O_connection_url:</td>\n",
       "<td>http://172.25.197.59:54323</td></tr>\n",
       "<tr><td>H2O_connection_proxy:</td>\n",
       "<td>null</td></tr>\n",
       "<tr><td>H2O_internal_security:</td>\n",
       "<td>False</td></tr>\n",
       "<tr><td>Python_version:</td>\n",
       "<td>3.11.0 final</td></tr></tbody>\n",
       "  </table>\n",
       "</div>\n"
      ],
      "text/plain": [
       "--------------------------  --------------------------\n",
       "H2O_cluster_uptime:         4 hours 0 mins\n",
       "H2O_cluster_timezone:       America/Lima\n",
       "H2O_data_parsing_timezone:  UTC\n",
       "H2O_cluster_version:        3.46.0.7\n",
       "H2O_cluster_version_age:    3 months and 15 days\n",
       "H2O_cluster_name:           MyH2OCluster\n",
       "H2O_cluster_total_nodes:    2\n",
       "H2O_cluster_free_memory:    31.21 Gb\n",
       "H2O_cluster_total_cores:    28\n",
       "H2O_cluster_allowed_cores:  28\n",
       "H2O_cluster_status:         locked, healthy\n",
       "H2O_connection_url:         http://172.25.197.59:54323\n",
       "H2O_connection_proxy:       null\n",
       "H2O_internal_security:      False\n",
       "Python_version:             3.11.0 final\n",
       "--------------------------  --------------------------"
      ]
     },
     "metadata": {},
     "output_type": "display_data"
    }
   ],
   "source": [
    "h2o.init(ip=\"172.25.197.59\", port=54323)"
   ]
  },
  {
   "cell_type": "code",
   "execution_count": 37,
   "id": "c3c69230",
   "metadata": {},
   "outputs": [
    {
     "name": "stdout",
     "output_type": "stream",
     "text": [
      "Cargando datos: data/cleansingWine.csv\n",
      "/mnt/sambashare/BigData-DATA/cleansingWine.csv ['test', 'cleansingWine.csv']\n"
     ]
    }
   ],
   "source": [
    "kaggle_dir = \"data\"\n",
    "kaggle_path = os.path.join(kaggle_dir, \"cleansingWine.csv\")\n",
    "print(\"Cargando datos:\", kaggle_path)\n",
    "\n",
    "smb_dir = (\n",
    "    \"/mnt/sambashare/BigData-DATA\"\n",
    ")\n",
    "smb_path = os.path.join(smb_dir, \"cleansingWine.csv\")\n",
    "print(smb_path, os.listdir(smb_dir))"
   ]
  },
  {
   "cell_type": "markdown",
   "id": "53b2a9d2",
   "metadata": {},
   "source": [
    "# Carga de datos"
   ]
  },
  {
   "cell_type": "code",
   "execution_count": 38,
   "id": "1d50c96d",
   "metadata": {},
   "outputs": [
    {
     "name": "stdout",
     "output_type": "stream",
     "text": [
      "Parse progress: |████████████████████████████████████████████████████████████████| (done) 100%\n",
      "(21605, 32)\n"
     ]
    }
   ],
   "source": [
    "df = h2o.import_file(smb_path)\n",
    "print(df.shape)"
   ]
  },
  {
   "cell_type": "markdown",
   "id": "92c9e186",
   "metadata": {},
   "source": [
    "## Remover features"
   ]
  },
  {
   "cell_type": "code",
   "execution_count": 39,
   "id": "58593436",
   "metadata": {},
   "outputs": [
    {
     "data": {
      "text/html": [
       "<pre style='margin: 1em 0 1em 0;'>Rows:21605\n",
       "Cols:26\n",
       "</pre>"
      ],
      "text/plain": [
       "Rows:21605\n",
       "Cols:26\n"
      ]
     },
     "metadata": {},
     "output_type": "display_data"
    },
    {
     "data": {
      "text/html": [
       "<table class='dataframe'>\n",
       "<thead>\n",
       "<tr><th>       </th><th>producer    </th><th>nation  </th><th>local1         </th><th>local2              </th><th>local3  </th><th>local4  </th><th>varieties1        </th><th>varieties2        </th><th>varieties3    </th><th>varieties4    </th><th>varieties5    </th><th>varieties6  </th><th>varieties7  </th><th>varieties8  </th><th>varieties9  </th><th>varieties10  </th><th>varieties11  </th><th>varieties12  </th><th>type  </th><th>use  </th><th>abv               </th><th>degree  </th><th>sweet  </th><th>acidity  </th><th>body  </th><th>tannin  </th></tr>\n",
       "</thead>\n",
       "<tbody>\n",
       "<tr><td>type   </td><td>enum        </td><td>enum    </td><td>enum           </td><td>enum                </td><td>enum    </td><td>enum    </td><td>enum              </td><td>enum              </td><td>enum          </td><td>enum          </td><td>enum          </td><td>enum        </td><td>enum        </td><td>enum        </td><td>string      </td><td>string       </td><td>string       </td><td>string       </td><td>enum  </td><td>enum </td><td>real              </td><td>enum    </td><td>enum   </td><td>enum     </td><td>enum  </td><td>enum    </td></tr>\n",
       "<tr><td>mins   </td><td>            </td><td>        </td><td>               </td><td>                    </td><td>        </td><td>        </td><td>                  </td><td>                  </td><td>              </td><td>              </td><td>              </td><td>            </td><td>            </td><td>            </td><td>NaN         </td><td>NaN          </td><td>NaN          </td><td>NaN          </td><td>      </td><td>     </td><td>0.0               </td><td>        </td><td>       </td><td>         </td><td>      </td><td>        </td></tr>\n",
       "<tr><td>mean   </td><td>            </td><td>        </td><td>               </td><td>                    </td><td>        </td><td>        </td><td>                  </td><td>                  </td><td>              </td><td>              </td><td>              </td><td>            </td><td>            </td><td>            </td><td>0.0         </td><td>0.0          </td><td>0.0          </td><td>0.0          </td><td>      </td><td>     </td><td>13.269316517493897</td><td>        </td><td>       </td><td>         </td><td>      </td><td>        </td></tr>\n",
       "<tr><td>maxs   </td><td>            </td><td>        </td><td>               </td><td>                    </td><td>        </td><td>        </td><td>                  </td><td>                  </td><td>              </td><td>              </td><td>              </td><td>            </td><td>            </td><td>            </td><td>NaN         </td><td>NaN          </td><td>NaN          </td><td>NaN          </td><td>      </td><td>     </td><td>70.0              </td><td>        </td><td>       </td><td>         </td><td>      </td><td>        </td></tr>\n",
       "<tr><td>sigma  </td><td>            </td><td>        </td><td>               </td><td>                    </td><td>        </td><td>        </td><td>                  </td><td>                  </td><td>              </td><td>              </td><td>              </td><td>            </td><td>            </td><td>            </td><td>-0.0        </td><td>-0.0         </td><td>-0.0         </td><td>-0.0         </td><td>      </td><td>     </td><td>3.0673539938435073</td><td>        </td><td>       </td><td>         </td><td>      </td><td>        </td></tr>\n",
       "<tr><td>zeros  </td><td>            </td><td>        </td><td>               </td><td>                    </td><td>        </td><td>        </td><td>                  </td><td>                  </td><td>              </td><td>              </td><td>              </td><td>            </td><td>            </td><td>            </td><td>0           </td><td>0            </td><td>0            </td><td>0            </td><td>      </td><td>     </td><td>1                 </td><td>        </td><td>       </td><td>         </td><td>      </td><td>        </td></tr>\n",
       "<tr><td>missing</td><td>0           </td><td>2       </td><td>900            </td><td>10460               </td><td>18014   </td><td>21603   </td><td>349               </td><td>14087             </td><td>17577         </td><td>20275         </td><td>21226         </td><td>21500       </td><td>21574       </td><td>21587       </td><td>21598       </td><td>21599        </td><td>21600        </td><td>21601        </td><td>58    </td><td>14   </td><td>11773             </td><td>7145    </td><td>2      </td><td>13       </td><td>13    </td><td>13      </td></tr>\n",
       "<tr><td>0      </td><td>Altair      </td><td>Chile   </td><td>Rapel Valley   </td><td>                    </td><td>        </td><td>        </td><td>Cabernet Sauvignon</td><td>Carmenere         </td><td>Merlot        </td><td>              </td><td>              </td><td>            </td><td>            </td><td>            </td><td>            </td><td>             </td><td>             </td><td>             </td><td>Red   </td><td>Table</td><td>nan               </td><td>17~19   </td><td>SWEET1 </td><td>ACIDITY4 </td><td>BODY5 </td><td>TANNIN4 </td></tr>\n",
       "<tr><td>1      </td><td>Altair      </td><td>Chile   </td><td>Rapel Valley   </td><td>                    </td><td>        </td><td>        </td><td>Cabernet Sauvignon</td><td>Merlot            </td><td>Carmenere     </td><td>Cabernet Franc</td><td>Syrah &amp; Shiraz</td><td>Petit Verdot</td><td>            </td><td>            </td><td>            </td><td>             </td><td>             </td><td>             </td><td>Red   </td><td>Table</td><td>nan               </td><td>16~18   </td><td>SWEET1 </td><td>ACIDITY3 </td><td>BODY4 </td><td>TANNIN4 </td></tr>\n",
       "<tr><td>2      </td><td>Baron du Val</td><td>France  </td><td>               </td><td>                    </td><td>        </td><td>        </td><td>Carignan          </td><td>Cinsault          </td><td>Syrah &amp; Shiraz</td><td>Grenache Noir </td><td>              </td><td>            </td><td>            </td><td>            </td><td>            </td><td>             </td><td>             </td><td>             </td><td>Red   </td><td>Table</td><td>nan               </td><td>15~17   </td><td>SWEET2 </td><td>ACIDITY3 </td><td>BODY2 </td><td>TANNIN2 </td></tr>\n",
       "<tr><td>3      </td><td>Baron du Val</td><td>France  </td><td>               </td><td>                    </td><td>        </td><td>        </td><td>Carignan          </td><td>Ugni​ blanc        </td><td>Grenache Blanc</td><td>Picpoul       </td><td>              </td><td>            </td><td>            </td><td>            </td><td>            </td><td>             </td><td>             </td><td>             </td><td>White </td><td>Table</td><td>nan               </td><td>9~11    </td><td>SWEET1 </td><td>ACIDITY3 </td><td>BODY2 </td><td>TANNIN1 </td></tr>\n",
       "<tr><td>4      </td><td>Benziger    </td><td>USA     </td><td>California     </td><td>                    </td><td>        </td><td>        </td><td>Cabernet Sauvignon</td><td>                  </td><td>              </td><td>              </td><td>              </td><td>            </td><td>            </td><td>            </td><td>            </td><td>             </td><td>             </td><td>             </td><td>Red   </td><td>Table</td><td>nan               </td><td>17~19   </td><td>SWEET1 </td><td>ACIDITY3 </td><td>BODY3 </td><td>TANNIN4 </td></tr>\n",
       "<tr><td>5      </td><td>Calvet      </td><td>France  </td><td>Bourgogne      </td><td>Beaujolais          </td><td>        </td><td>        </td><td>Gamay             </td><td>                  </td><td>              </td><td>              </td><td>              </td><td>            </td><td>            </td><td>            </td><td>            </td><td>             </td><td>             </td><td>             </td><td>Red   </td><td>Table</td><td>12.0              </td><td>13~15   </td><td>SWEET2 </td><td>ACIDITY4 </td><td>BODY2 </td><td>TANNIN2 </td></tr>\n",
       "<tr><td>6      </td><td>Calvet      </td><td>France  </td><td>Bordeaux       </td><td>                    </td><td>        </td><td>        </td><td>Merlot            </td><td>                  </td><td>              </td><td>              </td><td>              </td><td>            </td><td>            </td><td>            </td><td>            </td><td>             </td><td>             </td><td>             </td><td>Red   </td><td>Table</td><td>13.0              </td><td>17~19   </td><td>SWEET1 </td><td>ACIDITY3 </td><td>BODY4 </td><td>TANNIN3 </td></tr>\n",
       "<tr><td>7      </td><td>Calvet      </td><td>France  </td><td>Bordeaux       </td><td>                    </td><td>        </td><td>        </td><td>Merlot            </td><td>Cabernet Sauvignon</td><td>              </td><td>              </td><td>              </td><td>            </td><td>            </td><td>            </td><td>            </td><td>             </td><td>             </td><td>             </td><td>Red   </td><td>Table</td><td>nan               </td><td>16~18   </td><td>SWEET1 </td><td>ACIDITY3 </td><td>BODY2 </td><td>TANNIN3 </td></tr>\n",
       "<tr><td>8      </td><td>Calvet      </td><td>France  </td><td>Bordeaux       </td><td>                    </td><td>        </td><td>        </td><td>Sauvignon blanc   </td><td>Semillon          </td><td>Muscadet      </td><td>              </td><td>              </td><td>            </td><td>            </td><td>            </td><td>            </td><td>             </td><td>             </td><td>             </td><td>White </td><td>Table</td><td>11.5              </td><td>9~11    </td><td>SWEET1 </td><td>ACIDITY4 </td><td>BODY2 </td><td>TANNIN1 </td></tr>\n",
       "<tr><td>9      </td><td>Calvet      </td><td>France  </td><td>Southern France</td><td>Languedoc Roussillon</td><td>        </td><td>        </td><td>Cabernet Sauvignon</td><td>                  </td><td>              </td><td>              </td><td>              </td><td>            </td><td>            </td><td>            </td><td>            </td><td>             </td><td>             </td><td>             </td><td>Red   </td><td>Table</td><td>nan               </td><td>16~18   </td><td>SWEET1 </td><td>ACIDITY3 </td><td>BODY2 </td><td>TANNIN3 </td></tr>\n",
       "</tbody>\n",
       "</table><pre style='font-size: smaller; margin-bottom: 1em;'>[21605 rows x 26 columns]</pre>"
      ],
      "text/plain": [
       "         producer      nation    local1           local2                local3    local4    varieties1          varieties2          varieties3      varieties4      varieties5      varieties6    varieties7    varieties8    varieties9    varieties10    varieties11    varieties12    type    use    abv                 degree    sweet    acidity    body    tannin\n",
       "-------  ------------  --------  ---------------  --------------------  --------  --------  ------------------  ------------------  --------------  --------------  --------------  ------------  ------------  ------------  ------------  -------------  -------------  -------------  ------  -----  ------------------  --------  -------  ---------  ------  --------\n",
       "type     enum          enum      enum             enum                  enum      enum      enum                enum                enum            enum            enum            enum          enum          enum          string        string         string         string         enum    enum   real                enum      enum     enum       enum    enum\n",
       "mins                                                                                                                                                                                                                          NaN           NaN            NaN            NaN                           0.0\n",
       "mean                                                                                                                                                                                                                          0.0           0.0            0.0            0.0                           13.269316517493897\n",
       "maxs                                                                                                                                                                                                                          NaN           NaN            NaN            NaN                           70.0\n",
       "sigma                                                                                                                                                                                                                         -0.0          -0.0           -0.0           -0.0                          3.0673539938435073\n",
       "zeros                                                                                                                                                                                                                         0             0              0              0                             1\n",
       "missing  0             2         900              10460                 18014     21603     349                 14087               17577           20275           21226           21500         21574         21587         21598         21599          21600          21601          58      14     11773               7145      2        13         13      13\n",
       "0        Altair        Chile     Rapel Valley                                               Cabernet Sauvignon  Carmenere           Merlot                                                                                                                                               Red     Table  nan                 17~19     SWEET1   ACIDITY4   BODY5   TANNIN4\n",
       "1        Altair        Chile     Rapel Valley                                               Cabernet Sauvignon  Merlot              Carmenere       Cabernet Franc  Syrah & Shiraz  Petit Verdot                                                                                         Red     Table  nan                 16~18     SWEET1   ACIDITY3   BODY4   TANNIN4\n",
       "2        Baron du Val  France                                                               Carignan            Cinsault            Syrah & Shiraz  Grenache Noir                                                                                                                        Red     Table  nan                 15~17     SWEET2   ACIDITY3   BODY2   TANNIN2\n",
       "3        Baron du Val  France                                                               Carignan            Ugni​ blanc          Grenache Blanc  Picpoul                                                                                                                              White   Table  nan                 9~11      SWEET1   ACIDITY3   BODY2   TANNIN1\n",
       "4        Benziger      USA       California                                                 Cabernet Sauvignon                                                                                                                                                                           Red     Table  nan                 17~19     SWEET1   ACIDITY3   BODY3   TANNIN4\n",
       "5        Calvet        France    Bourgogne        Beaujolais                                Gamay                                                                                                                                                                                        Red     Table  12.0                13~15     SWEET2   ACIDITY4   BODY2   TANNIN2\n",
       "6        Calvet        France    Bordeaux                                                   Merlot                                                                                                                                                                                       Red     Table  13.0                17~19     SWEET1   ACIDITY3   BODY4   TANNIN3\n",
       "7        Calvet        France    Bordeaux                                                   Merlot              Cabernet Sauvignon                                                                                                                                                       Red     Table  nan                 16~18     SWEET1   ACIDITY3   BODY2   TANNIN3\n",
       "8        Calvet        France    Bordeaux                                                   Sauvignon blanc     Semillon            Muscadet                                                                                                                                             White   Table  11.5                9~11      SWEET1   ACIDITY4   BODY2   TANNIN1\n",
       "9        Calvet        France    Southern France  Languedoc Roussillon                      Cabernet Sauvignon                                                                                                                                                                           Red     Table  nan                 16~18     SWEET1   ACIDITY3   BODY2   TANNIN3\n",
       "[21605 rows x 26 columns]\n"
      ]
     },
     "metadata": {},
     "output_type": "display_data"
    }
   ],
   "source": [
    "# Remove column C1\n",
    "\n",
    "df = df.drop(\"C1\")\n",
    "df = df.drop([\"price\", \"year\", \"ml\", \"id\", \"name\"])\n",
    "\n",
    "df.describe()"
   ]
  },
  {
   "cell_type": "markdown",
   "id": "3394cf6a",
   "metadata": {},
   "source": [
    "# EDA"
   ]
  },
  {
   "cell_type": "code",
   "execution_count": 40,
   "id": "ba32ded5",
   "metadata": {},
   "outputs": [],
   "source": [
    "#plt.pie(df[\"nation\"])\n",
    "nations = df.group_by(\"nation\").count()\n",
    "nationsDF = nations.get_frame()\n"
   ]
  },
  {
   "cell_type": "code",
   "execution_count": 41,
   "id": "51b0905f",
   "metadata": {},
   "outputs": [
    {
     "name": "stdout",
     "output_type": "stream",
     "text": [
      "Export File progress: |██████████████████████████████████████████████████████████| (done) 100%\n"
     ]
    },
    {
     "data": {
      "text/plain": [
       "<Axes: ylabel='nrow'>"
      ]
     },
     "execution_count": 41,
     "metadata": {},
     "output_type": "execute_result"
    },
    {
     "data": {
      "image/png": "[encoded data removed]",
      "text/plain": [
       "<Figure size 640x480 with 1 Axes>"
      ]
     },
     "metadata": {},
     "output_type": "display_data"
    }
   ],
   "source": [
    "nationsDF.as_data_frame(use_multi_thread=True).plot.pie(\n",
    "    x=\"nation\",y=\"nrow\",\n",
    ")"
   ]
  },
  {
   "cell_type": "markdown",
   "id": "784196f9",
   "metadata": {},
   "source": [
    "# Training"
   ]
  },
  {
   "cell_type": "code",
   "execution_count": 42,
   "id": "8b55c8d5",
   "metadata": {},
   "outputs": [],
   "source": [
    "train, valid = df.split_frame(ratios=[0.8], seed=1234)"
   ]
  },
  {
   "cell_type": "code",
   "execution_count": 43,
   "id": "a422ee1b",
   "metadata": {},
   "outputs": [
    {
     "name": "stdout",
     "output_type": "stream",
     "text": [
      "['producer', 'nation', 'local1', 'local2', 'local3', 'local4', 'varieties1', 'varieties2', 'varieties3', 'varieties4', 'varieties5', 'varieties6', 'varieties7', 'varieties8', 'varieties9', 'varieties10', 'varieties11', 'varieties12', 'type', 'use', 'abv', 'degree', 'sweet', 'acidity', 'body', 'tannin']\n"
     ]
    }
   ],
   "source": [
    "predictors = df.columns\n",
    "print(predictors)\n",
    "for col in [\"sweet\", \"acidity\", \"body\", \"tannin\"]:\n",
    "    predictors.remove(str(col))"
   ]
  },
  {
   "cell_type": "code",
   "execution_count": 45,
   "id": "3eec1eff",
   "metadata": {},
   "outputs": [
    {
     "name": "stdout",
     "output_type": "stream",
     "text": [
      "AutoML progress: |\n",
      "18:21:26.550: _train param, Dropping bad and constant columns: [varieties9, varieties10, varieties12, varieties11]\n",
      "\n",
      "\n",
      "18:21:27.306: XGBoost_1_AutoML_1_20250712_182126 [XGBoost def_2] failed: water.exceptions.H2OModelBuilderIllegalArgumentException: Illegal argument(s) for XGBoost model: XGBoost_1_AutoML_1_20250712_182126_cv_1.  Details: ERRR on field: _response_column: Response contains missing values (NAs) - not supported by XGBoost.\n",
      "\n",
      "18:21:27.329: _train param, Dropping bad and constant columns: [varieties9, varieties10, varieties12, local4, varieties11]\n",
      "\n",
      "████████████████████████████████████████████████ (cancelled)\n"
     ]
    },
    {
     "ename": "H2OJobCancelled",
     "evalue": "Job<$0301ac19c53b34d4ffffffff$_a0a402fe8d177499675165c7b3c94c13> was cancelled by the user.",
     "output_type": "error",
     "traceback": [
      "\u001b[31m---------------------------------------------------------------------------\u001b[39m",
      "\u001b[31mH2OJobCancelled\u001b[39m                           Traceback (most recent call last)",
      "\u001b[36mCell\u001b[39m\u001b[36m \u001b[39m\u001b[32mIn[45]\u001b[39m\u001b[32m, line 4\u001b[39m\n\u001b[32m      2\u001b[39m \u001b[38;5;28;01mfor\u001b[39;00m target \u001b[38;5;129;01min\u001b[39;00m [\u001b[33m\"\u001b[39m\u001b[33msweet\u001b[39m\u001b[33m\"\u001b[39m,\u001b[33m\"\u001b[39m\u001b[33macidity\u001b[39m\u001b[33m\"\u001b[39m,\u001b[33m\"\u001b[39m\u001b[33mbody\u001b[39m\u001b[33m\"\u001b[39m,\u001b[33m\"\u001b[39m\u001b[33mtannin\u001b[39m\u001b[33m\"\u001b[39m]:\n\u001b[32m      3\u001b[39m     aml = H2OAutoML(max_models=\u001b[32m20\u001b[39m, seed=\u001b[32m1\u001b[39m)\n\u001b[32m----> \u001b[39m\u001b[32m4\u001b[39m     \u001b[43maml\u001b[49m\u001b[43m.\u001b[49m\u001b[43mtrain\u001b[49m\u001b[43m(\u001b[49m\u001b[43mx\u001b[49m\u001b[43m=\u001b[49m\u001b[43mpredictors\u001b[49m\u001b[43m,\u001b[49m\u001b[43m \u001b[49m\u001b[43my\u001b[49m\u001b[43m=\u001b[49m\u001b[43mtarget\u001b[49m\u001b[43m,\u001b[49m\u001b[43m \u001b[49m\u001b[43mtraining_frame\u001b[49m\u001b[43m=\u001b[49m\u001b[43mtrain\u001b[49m\u001b[43m)\u001b[49m\n\u001b[32m      5\u001b[39m     models[target] = aml.leader\n",
      "\u001b[36mFile \u001b[39m\u001b[32m~/miniconda3/envs/BigData-TF/lib/python3.11/site-packages/h2o/automl/_estimator.py:682\u001b[39m, in \u001b[36mH2OAutoML.train\u001b[39m\u001b[34m(self, x, y, training_frame, fold_column, weights_column, validation_frame, leaderboard_frame, blending_frame)\u001b[39m\n\u001b[32m    680\u001b[39m poll_updates = ft.partial(\u001b[38;5;28mself\u001b[39m._poll_training_updates, verbosity=\u001b[38;5;28mself\u001b[39m._verbosity, state={})\n\u001b[32m    681\u001b[39m \u001b[38;5;28;01mtry\u001b[39;00m:\n\u001b[32m--> \u001b[39m\u001b[32m682\u001b[39m     \u001b[38;5;28;43mself\u001b[39;49m\u001b[43m.\u001b[49m\u001b[43m_job\u001b[49m\u001b[43m.\u001b[49m\u001b[43mpoll\u001b[49m\u001b[43m(\u001b[49m\u001b[43mpoll_updates\u001b[49m\u001b[43m=\u001b[49m\u001b[43mpoll_updates\u001b[49m\u001b[43m)\u001b[49m\n\u001b[32m    683\u001b[39m \u001b[38;5;28;01mfinally\u001b[39;00m:\n\u001b[32m    684\u001b[39m     poll_updates(\u001b[38;5;28mself\u001b[39m._job, \u001b[32m1\u001b[39m)\n",
      "\u001b[36mFile \u001b[39m\u001b[32m~/miniconda3/envs/BigData-TF/lib/python3.11/site-packages/h2o/job.py:85\u001b[39m, in \u001b[36mH2OJob.poll\u001b[39m\u001b[34m(self, poll_updates)\u001b[39m\n\u001b[32m     83\u001b[39m \u001b[38;5;66;03m# check if failed... and politely print relevant message\u001b[39;00m\n\u001b[32m     84\u001b[39m \u001b[38;5;28;01mif\u001b[39;00m \u001b[38;5;28mself\u001b[39m.status == \u001b[33m\"\u001b[39m\u001b[33mCANCELLED\u001b[39m\u001b[33m\"\u001b[39m:\n\u001b[32m---> \u001b[39m\u001b[32m85\u001b[39m     \u001b[38;5;28;01mraise\u001b[39;00m H2OJobCancelled(\u001b[33m\"\u001b[39m\u001b[33mJob<\u001b[39m\u001b[38;5;132;01m%s\u001b[39;00m\u001b[33m> was cancelled by the user.\u001b[39m\u001b[33m\"\u001b[39m % \u001b[38;5;28mself\u001b[39m.job_key)\n\u001b[32m     86\u001b[39m \u001b[38;5;28;01mif\u001b[39;00m \u001b[38;5;28mself\u001b[39m.status == \u001b[33m\"\u001b[39m\u001b[33mFAILED\u001b[39m\u001b[33m\"\u001b[39m:\n\u001b[32m     87\u001b[39m     \u001b[38;5;28;01mif\u001b[39;00m (\u001b[38;5;28misinstance\u001b[39m(\u001b[38;5;28mself\u001b[39m.job, \u001b[38;5;28mdict\u001b[39m)) \u001b[38;5;129;01mand\u001b[39;00m (\u001b[33m\"\u001b[39m\u001b[33mstacktrace\u001b[39m\u001b[33m\"\u001b[39m \u001b[38;5;129;01min\u001b[39;00m \u001b[38;5;28mlist\u001b[39m(\u001b[38;5;28mself\u001b[39m.job)):\n",
      "\u001b[31mH2OJobCancelled\u001b[39m: Job<$0301ac19c53b34d4ffffffff$_a0a402fe8d177499675165c7b3c94c13> was cancelled by the user."
     ]
    }
   ],
   "source": [
    "models1 = {}\n",
    "for target in [\"sweet\",\"acidity\",\"body\",\"tannin\"]:\n",
    "    aml = H2OAutoML(max_models=20, seed=1)\n",
    "    aml.train(x=predictors, y=target, training_frame=train)\n",
    "    models1[target] = aml.leader"
   ]
  },
  {
   "cell_type": "code",
   "execution_count": null,
   "id": "5398c0ac",
   "metadata": {},
   "outputs": [],
   "source": [
    "dl = H2ODeepLearningEstimator(\n",
    "    distribution=\"gaussian\",\n",
    "    hidden=[50,50],\n",
    "    epochs=20\n",
    ")\n",
    "dl.train(x=predictors, y=[\"sweet\",\"acidity\",\"body\",\"tannin\"], training_frame=train)\n",
    "models2 = {\"multi\": dl}"
   ]
  }
 ],
 "metadata": {
  "kernelspec": {
   "display_name": "BigData-TF",
   "language": "python",
   "name": "python3"
  },
  "language_info": {
   "codemirror_mode": {
    "name": "ipython",
    "version": 3
   },
   "file_extension": ".py",
   "mimetype": "text/x-python",
   "name": "python",
   "nbconvert_exporter": "python",
   "pygments_lexer": "ipython3",
   "version": "3.11.0"
  }
 },
 "nbformat": 4,
 "nbformat_minor": 5
}
