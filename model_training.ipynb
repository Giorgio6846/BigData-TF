{
 "cells": [
  {
   "cell_type": "code",
   "execution_count": 36,
   "id": "95f82484",
   "metadata": {},
   "outputs": [],
   "source": [
    "import os\n",
    "import h2o\n",
    "import seaborn as sns\n",
    "import matplotlib.pyplot as plt\n",
    "from h2o.automl import H2OAutoML\n",
    "from h2o.estimators import H2ODeepLearningEstimator, H2OAutoEncoderEstimator\n",
    "from h2o.frame import H2OFrame"
   ]
  },
  {
   "cell_type": "markdown",
   "id": "534fbc61",
   "metadata": {},
   "source": [
    "# H2O"
   ]
  },
  {
   "cell_type": "markdown",
   "id": "0a8f3caf",
   "metadata": {},
   "source": [
    "## Inicializacion"
   ]
  },
  {
   "cell_type": "code",
   "execution_count": 37,
   "id": "033d3848",
   "metadata": {},
   "outputs": [
    {
     "name": "stdout",
     "output_type": "stream",
     "text": [
      "Checking whether there is an H2O instance running at http://localhost:54321..... not found.\n",
      "Attempting to start a local H2O server...\n",
      "  Java Version: openjdk version \"1.8.0_452\"; OpenJDK Runtime Environment (build 1.8.0_452-8u452-ga~us1-0ubuntu1~25.04-b09); OpenJDK 64-Bit Server VM (build 25.452-b09, mixed mode)\n",
      "  Starting server from /home/giorgio6846/miniconda3/envs/BigData-TF/lib/python3.11/site-packages/h2o/backend/bin/h2o.jar\n",
      "  Ice root: /tmp/tmpge0d23hg\n",
      "  JVM stdout: /tmp/tmpge0d23hg/h2o_giorgio6846_started_from_python.out\n",
      "  JVM stderr: /tmp/tmpge0d23hg/h2o_giorgio6846_started_from_python.err\n",
      "  Server is running at http://127.0.0.1:54321\n",
      "Connecting to H2O server at http://127.0.0.1:54321 ... successful.\n",
      "Warning: Your H2O cluster version is (3 months and 15 days) old.  There may be a newer version available.\n",
      "Please download and install the latest version from: https://h2o-release.s3.amazonaws.com/h2o/latest_stable.html\n"
     ]
    },
    {
     "data": {
      "text/html": [
       "\n",
       "<style>\n",
       "\n",
       "#h2o-table-8.h2o-container {\n",
       "  overflow-x: auto;\n",
       "}\n",
       "#h2o-table-8 .h2o-table {\n",
       "  /* width: 100%; */\n",
       "  margin-top: 1em;\n",
       "  margin-bottom: 1em;\n",
       "}\n",
       "#h2o-table-8 .h2o-table caption {\n",
       "  white-space: nowrap;\n",
       "  caption-side: top;\n",
       "  text-align: left;\n",
       "  /* margin-left: 1em; */\n",
       "  margin: 0;\n",
       "  font-size: larger;\n",
       "}\n",
       "#h2o-table-8 .h2o-table thead {\n",
       "  white-space: nowrap; \n",
       "  position: sticky;\n",
       "  top: 0;\n",
       "  box-shadow: 0 -1px inset;\n",
       "}\n",
       "#h2o-table-8 .h2o-table tbody {\n",
       "  overflow: auto;\n",
       "}\n",
       "#h2o-table-8 .h2o-table th,\n",
       "#h2o-table-8 .h2o-table td {\n",
       "  text-align: right;\n",
       "  /* border: 1px solid; */\n",
       "}\n",
       "#h2o-table-8 .h2o-table tr:nth-child(even) {\n",
       "  /* background: #F5F5F5 */\n",
       "}\n",
       "\n",
       "</style>      \n",
       "<div id=\"h2o-table-8\" class=\"h2o-container\">\n",
       "  <table class=\"h2o-table\">\n",
       "    <caption></caption>\n",
       "    <thead></thead>\n",
       "    <tbody><tr><td>H2O_cluster_uptime:</td>\n",
       "<td>01 secs</td></tr>\n",
       "<tr><td>H2O_cluster_timezone:</td>\n",
       "<td>America/Lima</td></tr>\n",
       "<tr><td>H2O_data_parsing_timezone:</td>\n",
       "<td>UTC</td></tr>\n",
       "<tr><td>H2O_cluster_version:</td>\n",
       "<td>3.46.0.7</td></tr>\n",
       "<tr><td>H2O_cluster_version_age:</td>\n",
       "<td>3 months and 15 days</td></tr>\n",
       "<tr><td>H2O_cluster_name:</td>\n",
       "<td>H2O_from_python_giorgio6846_ygzv70</td></tr>\n",
       "<tr><td>H2O_cluster_total_nodes:</td>\n",
       "<td>1</td></tr>\n",
       "<tr><td>H2O_cluster_free_memory:</td>\n",
       "<td>14.21 Gb</td></tr>\n",
       "<tr><td>H2O_cluster_total_cores:</td>\n",
       "<td>12</td></tr>\n",
       "<tr><td>H2O_cluster_allowed_cores:</td>\n",
       "<td>12</td></tr>\n",
       "<tr><td>H2O_cluster_status:</td>\n",
       "<td>locked, healthy</td></tr>\n",
       "<tr><td>H2O_connection_url:</td>\n",
       "<td>http://127.0.0.1:54321</td></tr>\n",
       "<tr><td>H2O_connection_proxy:</td>\n",
       "<td>{\"http\": null, \"https\": null}</td></tr>\n",
       "<tr><td>H2O_internal_security:</td>\n",
       "<td>False</td></tr>\n",
       "<tr><td>Python_version:</td>\n",
       "<td>3.11.0 final</td></tr></tbody>\n",
       "  </table>\n",
       "</div>\n"
      ],
      "text/plain": [
       "--------------------------  ----------------------------------\n",
       "H2O_cluster_uptime:         01 secs\n",
       "H2O_cluster_timezone:       America/Lima\n",
       "H2O_data_parsing_timezone:  UTC\n",
       "H2O_cluster_version:        3.46.0.7\n",
       "H2O_cluster_version_age:    3 months and 15 days\n",
       "H2O_cluster_name:           H2O_from_python_giorgio6846_ygzv70\n",
       "H2O_cluster_total_nodes:    1\n",
       "H2O_cluster_free_memory:    14.21 Gb\n",
       "H2O_cluster_total_cores:    12\n",
       "H2O_cluster_allowed_cores:  12\n",
       "H2O_cluster_status:         locked, healthy\n",
       "H2O_connection_url:         http://127.0.0.1:54321\n",
       "H2O_connection_proxy:       {\"http\": null, \"https\": null}\n",
       "H2O_internal_security:      False\n",
       "Python_version:             3.11.0 final\n",
       "--------------------------  ----------------------------------"
      ]
     },
     "metadata": {},
     "output_type": "display_data"
    }
   ],
   "source": [
    "#h2o.init(ip=\"172.25.197.59\", port=54323)\n",
    "h2o.init(nthreads=-1, max_mem_size=\"16G\")"
   ]
  },
  {
   "cell_type": "markdown",
   "id": "4e28e6b7",
   "metadata": {},
   "source": [
    "## Carga de datos"
   ]
  },
  {
   "cell_type": "code",
   "execution_count": 38,
   "id": "8385b17e",
   "metadata": {},
   "outputs": [
    {
     "name": "stdout",
     "output_type": "stream",
     "text": [
      "Parse progress: |████████████████████████████████████████████████████████████████| (done) 100%\n"
     ]
    }
   ],
   "source": [
    "# Prepare data for H2O\n",
    "smb_dir = (\n",
    "    \"/mnt/sambashare/BigData-DATA/TF\"\n",
    ")\n",
    "df_h2o = h2o.import_file(os.path.join(smb_dir, \"processed\", \"yellow_tripdata_2016-03_processed.csv\"))"
   ]
  },
  {
   "cell_type": "markdown",
   "id": "a2be96d3",
   "metadata": {},
   "source": [
    "## Conversion de tablas categoricas"
   ]
  },
  {
   "cell_type": "code",
   "execution_count": 39,
   "id": "cb609070",
   "metadata": {},
   "outputs": [],
   "source": [
    "for col in ['store_and_fwd_flag', 'payment_type']:\n",
    "    df_h2o[col] = df_h2o[col].asfactor()"
   ]
  },
  {
   "cell_type": "markdown",
   "id": "2d0af30d",
   "metadata": {},
   "source": [
    "## Descripcion del dataset entero"
   ]
  },
  {
   "cell_type": "code",
   "execution_count": 40,
   "id": "f6b5d4d7",
   "metadata": {},
   "outputs": [
    {
     "data": {
      "text/html": [
       "<pre style='margin: 1em 0 1em 0;'>Rows:10886133\n",
       "Cols:18\n",
       "</pre>"
      ],
      "text/plain": [
       "Rows:10886133\n",
       "Cols:18\n"
      ]
     },
     "metadata": {},
     "output_type": "display_data"
    },
    {
     "data": {
      "text/html": [
       "<table class='dataframe'>\n",
       "<thead>\n",
       "<tr><th>       </th><th>passenger_count   </th><th>trip_distance    </th><th>pickup_longitude   </th><th>pickup_latitude  </th><th>store_and_fwd_flag  </th><th>dropoff_longitude  </th><th>dropoff_latitude  </th><th>payment_type  </th><th>fare_amount       </th><th>extra             </th><th>mta_tax             </th><th>tip_amount        </th><th>tolls_amount        </th><th>improvement_surcharge  </th><th>total_amount      </th><th>pickup             </th><th>dropoff            </th><th>trip_duration_min  </th></tr>\n",
       "</thead>\n",
       "<tbody>\n",
       "<tr><td>type   </td><td>int               </td><td>real             </td><td>real               </td><td>real             </td><td>enum                </td><td>real               </td><td>real              </td><td>enum          </td><td>real              </td><td>real              </td><td>real                </td><td>real              </td><td>real                </td><td>real                   </td><td>real              </td><td>time               </td><td>time               </td><td>int                </td></tr>\n",
       "<tr><td>mins   </td><td>0.0               </td><td>0.0              </td><td>-161.69866943359375</td><td>0.0              </td><td>                    </td><td>-161.69866943359375</td><td>0.0               </td><td>              </td><td>0.0               </td><td>-58.5             </td><td>-1.0                </td><td>0.0               </td><td>0.0                 </td><td>0.0                    </td><td>0.0               </td><td>1456790400000.0    </td><td>1456790400000.0    </td><td>-5.0               </td></tr>\n",
       "<tr><td>mean   </td><td>1.6544602201718448</td><td>5.008883154376352</td><td>-72.9006436524518  </td><td>40.15814214635303</td><td>                    </td><td>-72.9594841387262  </td><td>40.19227866283195 </td><td>              </td><td>9.78226483178188  </td><td>0.3348852076306618</td><td>0.49946400801827434 </td><td>1.3254321089040506</td><td>0.012480849719546877</td><td>0.29995432170450415    </td><td>12.254481327758915</td><td>1458118243747.071  </td><td>1458118913302.8508 </td><td>10.669024436868453 </td></tr>\n",
       "<tr><td>maxs   </td><td>9.0               </td><td>19072628.8       </td><td>0.0                </td><td>66.85681915283203</td><td>                    </td><td>0.0                </td><td>50.7978630065918  </td><td>              </td><td>28.8              </td><td>20.0              </td><td>59.3                </td><td>27.5              </td><td>26.54               </td><td>0.3                    </td><td>28.92             </td><td>1459468799000.0    </td><td>1459470676000.0    </td><td>33.0               </td></tr>\n",
       "<tr><td>sigma  </td><td>1.3098395929321303</td><td>6340.817768553748</td><td>8.87108352438827   </td><td>4.886558035998738</td><td>                    </td><td>8.620024484973852  </td><td>4.748454567785668 </td><td>              </td><td>4.6380936863267035</td><td>0.3746480907679032</td><td>0.024912710786969043</td><td>1.3091486463956896</td><td>0.27212929286655846 </td><td>0.00369852918970667    </td><td>5.299095582607836 </td><td>771684416.2055813  </td><td>771683689.6028124  </td><td>6.509007594515269  </td></tr>\n",
       "<tr><td>zeros  </td><td>310               </td><td>51698            </td><td>158829             </td><td>158829           </td><td>                    </td><td>149848             </td><td>149848            </td><td>              </td><td>3233              </td><td>5438386           </td><td>11937               </td><td>4023062           </td><td>10861942            </td><td>1652                   </td><td>1155              </td><td>0                  </td><td>0                  </td><td>74078              </td></tr>\n",
       "<tr><td>missing</td><td>0                 </td><td>0                </td><td>0                  </td><td>0                </td><td>0                   </td><td>0                  </td><td>0                 </td><td>0             </td><td>0                 </td><td>0                 </td><td>0                   </td><td>0                 </td><td>0                   </td><td>0                      </td><td>0                 </td><td>0                  </td><td>0                  </td><td>0                  </td></tr>\n",
       "<tr><td>0      </td><td>1.0               </td><td>2.5              </td><td>-73.97674560546875 </td><td>40.76515197753906</td><td>N                   </td><td>-74.00426483154297 </td><td>40.74612808227539 </td><td>1             </td><td>9.0               </td><td>0.5               </td><td>0.5                 </td><td>2.05              </td><td>0.0                 </td><td>0.3                    </td><td>12.35             </td><td>2016-03-01 00:00:00</td><td>2016-03-01 00:07:55</td><td>7.0                </td></tr>\n",
       "<tr><td>1      </td><td>1.0               </td><td>2.9              </td><td>-73.98348236083984 </td><td>40.76792526245117</td><td>N                   </td><td>-74.00594329833984 </td><td>40.7331657409668  </td><td>1             </td><td>11.0              </td><td>0.5               </td><td>0.5                 </td><td>3.05              </td><td>0.0                 </td><td>0.3                    </td><td>15.35             </td><td>2016-03-01 00:00:00</td><td>2016-03-01 00:11:06</td><td>11.0               </td></tr>\n",
       "<tr><td>2      </td><td>6.0               </td><td>5.72             </td><td>-73.99458312988281 </td><td>40.72784805297851</td><td>N                   </td><td>0.0                </td><td>0.0               </td><td>2             </td><td>23.0              </td><td>0.5               </td><td>0.5                 </td><td>0.0               </td><td>0.0                 </td><td>0.3                    </td><td>24.3              </td><td>2016-03-01 00:00:00</td><td>2016-03-01 00:00:00</td><td>0.0                </td></tr>\n",
       "<tr><td>3      </td><td>1.0               </td><td>6.2              </td><td>-73.78877258300781 </td><td>40.64775848388672</td><td>N                   </td><td>-73.82920837402344 </td><td>40.712345123291016</td><td>3             </td><td>20.5              </td><td>0.5               </td><td>0.5                 </td><td>0.0               </td><td>0.0                 </td><td>0.3                    </td><td>21.8              </td><td>2016-03-01 00:00:01</td><td>2016-03-01 00:16:04</td><td>16.0               </td></tr>\n",
       "<tr><td>4      </td><td>1.0               </td><td>0.7              </td><td>-73.95822143554688 </td><td>40.76464080810547</td><td>N                   </td><td>-73.9678955078125  </td><td>40.762901306152344</td><td>1             </td><td>5.5               </td><td>0.5               </td><td>0.5                 </td><td>2.0               </td><td>0.0                 </td><td>0.3                    </td><td>8.8               </td><td>2016-03-01 00:00:01</td><td>2016-03-01 00:05:00</td><td>4.0                </td></tr>\n",
       "<tr><td>5      </td><td>3.0               </td><td>7.18             </td><td>-73.98577880859375 </td><td>40.74119186401367</td><td>N                   </td><td>-73.94635009765625 </td><td>40.79787826538086 </td><td>1             </td><td>23.5              </td><td>0.5               </td><td>0.5                 </td><td>3.2               </td><td>0.0                 </td><td>0.3                    </td><td>28.0              </td><td>2016-03-01 00:00:01</td><td>2016-03-01 00:24:06</td><td>24.0               </td></tr>\n",
       "<tr><td>6      </td><td>2.0               </td><td>0.54             </td><td>-73.9884262084961  </td><td>40.76416015625   </td><td>N                   </td><td>-73.99239349365234 </td><td>40.75822448730469 </td><td>2             </td><td>4.0               </td><td>0.5               </td><td>0.5                 </td><td>0.0               </td><td>0.0                 </td><td>0.3                    </td><td>5.3               </td><td>2016-03-01 00:00:01</td><td>2016-03-01 00:02:03</td><td>2.0                </td></tr>\n",
       "<tr><td>7      </td><td>1.0               </td><td>1.7              </td><td>-73.96981811523438 </td><td>40.79742813110352</td><td>N                   </td><td>-73.94377136230469 </td><td>40.796199798583984</td><td>2             </td><td>8.0               </td><td>0.5               </td><td>0.5                 </td><td>0.0               </td><td>0.0                 </td><td>0.3                    </td><td>9.3               </td><td>2016-03-01 00:00:02</td><td>2016-03-01 00:07:49</td><td>7.0                </td></tr>\n",
       "<tr><td>8      </td><td>1.0               </td><td>1.1              </td><td>-73.95380401611328 </td><td>40.78812789916992</td><td>N                   </td><td>-73.97154998779297 </td><td>40.79523849487305 </td><td>1             </td><td>5.5               </td><td>0.5               </td><td>0.5                 </td><td>2.2               </td><td>0.0                 </td><td>0.3                    </td><td>9.0               </td><td>2016-03-01 00:00:02</td><td>2016-03-01 00:03:05</td><td>3.0                </td></tr>\n",
       "<tr><td>9      </td><td>1.0               </td><td>2.1              </td><td>-73.97608947753906 </td><td>40.75217056274414</td><td>N                   </td><td>-73.9874496459961  </td><td>40.770782470703125</td><td>1             </td><td>9.0               </td><td>0.5               </td><td>0.5                 </td><td>2.06              </td><td>0.0                 </td><td>0.3                    </td><td>12.36             </td><td>2016-03-01 00:00:02</td><td>2016-03-01 00:09:32</td><td>9.0                </td></tr>\n",
       "</tbody>\n",
       "</table><pre style='font-size: smaller; margin-bottom: 1em;'>[10886133 rows x 18 columns]</pre>"
      ],
      "text/plain": [
       "         passenger_count     trip_distance      pickup_longitude     pickup_latitude    store_and_fwd_flag    dropoff_longitude    dropoff_latitude    payment_type    fare_amount         extra               mta_tax               tip_amount          tolls_amount          improvement_surcharge    total_amount        pickup               dropoff              trip_duration_min\n",
       "-------  ------------------  -----------------  -------------------  -----------------  --------------------  -------------------  ------------------  --------------  ------------------  ------------------  --------------------  ------------------  --------------------  -----------------------  ------------------  -------------------  -------------------  -------------------\n",
       "type     int                 real               real                 real               enum                  real                 real                enum            real                real                real                  real                real                  real                     real                time                 time                 int\n",
       "mins     0.0                 0.0                -161.69866943359375  0.0                                      -161.69866943359375  0.0                                 0.0                 -58.5               -1.0                  0.0                 0.0                   0.0                      0.0                 1456790400000.0      1456790400000.0      -5.0\n",
       "mean     1.6544602201718448  5.008883154376352  -72.9006436524518    40.15814214635303                        -72.9594841387262    40.19227866283195                   9.78226483178188    0.3348852076306618  0.49946400801827434   1.3254321089040506  0.012480849719546877  0.29995432170450415      12.254481327758915  1458118243747.071    1458118913302.8508   10.669024436868453\n",
       "maxs     9.0                 19072628.8         0.0                  66.85681915283203                        0.0                  50.7978630065918                    28.8                20.0                59.3                  27.5                26.54                 0.3                      28.92               1459468799000.0      1459470676000.0      33.0\n",
       "sigma    1.3098395929321303  6340.817768553748  8.87108352438827     4.886558035998738                        8.620024484973852    4.748454567785668                   4.6380936863267035  0.3746480907679032  0.024912710786969043  1.3091486463956896  0.27212929286655846   0.00369852918970667      5.299095582607836   771684416.2055813    771683689.6028124    6.509007594515269\n",
       "zeros    310                 51698              158829               158829                                   149848               149848                              3233                5438386             11937                 4023062             10861942              1652                     1155                0                    0                    74078\n",
       "missing  0                   0                  0                    0                  0                     0                    0                   0               0                   0                   0                     0                   0                     0                        0                   0                    0                    0\n",
       "0        1.0                 2.5                -73.97674560546875   40.76515197753906  N                     -74.00426483154297   40.74612808227539   1               9.0                 0.5                 0.5                   2.05                0.0                   0.3                      12.35               2016-03-01 00:00:00  2016-03-01 00:07:55  7.0\n",
       "1        1.0                 2.9                -73.98348236083984   40.76792526245117  N                     -74.00594329833984   40.7331657409668    1               11.0                0.5                 0.5                   3.05                0.0                   0.3                      15.35               2016-03-01 00:00:00  2016-03-01 00:11:06  11.0\n",
       "2        6.0                 5.72               -73.99458312988281   40.72784805297851  N                     0.0                  0.0                 2               23.0                0.5                 0.5                   0.0                 0.0                   0.3                      24.3                2016-03-01 00:00:00  2016-03-01 00:00:00  0.0\n",
       "3        1.0                 6.2                -73.78877258300781   40.64775848388672  N                     -73.82920837402344   40.712345123291016  3               20.5                0.5                 0.5                   0.0                 0.0                   0.3                      21.8                2016-03-01 00:00:01  2016-03-01 00:16:04  16.0\n",
       "4        1.0                 0.7                -73.95822143554688   40.76464080810547  N                     -73.9678955078125    40.762901306152344  1               5.5                 0.5                 0.5                   2.0                 0.0                   0.3                      8.8                 2016-03-01 00:00:01  2016-03-01 00:05:00  4.0\n",
       "5        3.0                 7.18               -73.98577880859375   40.74119186401367  N                     -73.94635009765625   40.79787826538086   1               23.5                0.5                 0.5                   3.2                 0.0                   0.3                      28.0                2016-03-01 00:00:01  2016-03-01 00:24:06  24.0\n",
       "6        2.0                 0.54               -73.9884262084961    40.76416015625     N                     -73.99239349365234   40.75822448730469   2               4.0                 0.5                 0.5                   0.0                 0.0                   0.3                      5.3                 2016-03-01 00:00:01  2016-03-01 00:02:03  2.0\n",
       "7        1.0                 1.7                -73.96981811523438   40.79742813110352  N                     -73.94377136230469   40.796199798583984  2               8.0                 0.5                 0.5                   0.0                 0.0                   0.3                      9.3                 2016-03-01 00:00:02  2016-03-01 00:07:49  7.0\n",
       "8        1.0                 1.1                -73.95380401611328   40.78812789916992  N                     -73.97154998779297   40.79523849487305   1               5.5                 0.5                 0.5                   2.2                 0.0                   0.3                      9.0                 2016-03-01 00:00:02  2016-03-01 00:03:05  3.0\n",
       "9        1.0                 2.1                -73.97608947753906   40.75217056274414  N                     -73.9874496459961    40.770782470703125  1               9.0                 0.5                 0.5                   2.06                0.0                   0.3                      12.36               2016-03-01 00:00:02  2016-03-01 00:09:32  9.0\n",
       "[10886133 rows x 18 columns]\n"
      ]
     },
     "metadata": {},
     "output_type": "display_data"
    }
   ],
   "source": [
    "df_h2o.describe()"
   ]
  },
  {
   "cell_type": "markdown",
   "id": "dddc3701",
   "metadata": {},
   "source": [
    "## Seleccion de muestra del dataset"
   ]
  },
  {
   "cell_type": "code",
   "execution_count": 41,
   "id": "01f901fc",
   "metadata": {},
   "outputs": [],
   "source": [
    "t1, t2 = \"trip_duration_min\", \"fare_amount\"\n",
    "\n",
    "ratio = 500000 / df_h2o.nrows\n",
    "rand = df_h2o.runif(seed=42)\n",
    "\n",
    "sampled = df_h2o[rand < ratio]\n",
    "dataset_small = sampled[0:500000, :]"
   ]
  },
  {
   "cell_type": "markdown",
   "id": "e4ffc727",
   "metadata": {},
   "source": [
    "# EDA"
   ]
  },
  {
   "cell_type": "markdown",
   "id": "f56ab3c2",
   "metadata": {},
   "source": [
    "## Descripcion de la muestra del dataset"
   ]
  },
  {
   "cell_type": "code",
   "execution_count": 42,
   "id": "93100156",
   "metadata": {},
   "outputs": [
    {
     "data": {
      "text/html": [
       "<pre style='margin: 1em 0 1em 0;'>Rows:499936\n",
       "Cols:18\n",
       "</pre>"
      ],
      "text/plain": [
       "Rows:499936\n",
       "Cols:18\n"
      ]
     },
     "metadata": {},
     "output_type": "display_data"
    },
    {
     "data": {
      "text/html": [
       "<table class='dataframe'>\n",
       "<thead>\n",
       "<tr><th>       </th><th>passenger_count   </th><th>trip_distance     </th><th>pickup_longitude   </th><th>pickup_latitude   </th><th>store_and_fwd_flag  </th><th>dropoff_longitude  </th><th>dropoff_latitude  </th><th>payment_type  </th><th>fare_amount       </th><th>extra              </th><th>mta_tax             </th><th>tip_amount        </th><th>tolls_amount        </th><th>improvement_surcharge  </th><th>total_amount      </th><th>pickup             </th><th>dropoff            </th><th>trip_duration_min  </th></tr>\n",
       "</thead>\n",
       "<tbody>\n",
       "<tr><td>type   </td><td>int               </td><td>real              </td><td>real               </td><td>real              </td><td>enum                </td><td>real               </td><td>real              </td><td>enum          </td><td>real              </td><td>real               </td><td>real                </td><td>real              </td><td>real                </td><td>real                   </td><td>real              </td><td>time               </td><td>time               </td><td>int                </td></tr>\n",
       "<tr><td>mins   </td><td>0.0               </td><td>0.0               </td><td>-121.93335723876952</td><td>0.0               </td><td>                    </td><td>-121.93329620361328</td><td>0.0               </td><td>              </td><td>0.0               </td><td>0.0                </td><td>0.0                 </td><td>0.0               </td><td>0.0                 </td><td>0.0                    </td><td>0.0               </td><td>1456790402000.0    </td><td>1456790570000.0    </td><td>0.0                </td></tr>\n",
       "<tr><td>mean   </td><td>1.65588195288997  </td><td>1.9560249311911924</td><td>-72.89953325153854 </td><td>40.157497281569775</td><td>                    </td><td>-72.95313872015522 </td><td>40.18877804639479 </td><td>              </td><td>9.778006024771171 </td><td>0.33485486142226184</td><td>0.49947035220508246 </td><td>1.3265147338859382</td><td>0.012866686935927798</td><td>0.29995113374512017    </td><td>12.251663792965498</td><td>1458118780776.7698 </td><td>1458119449905.0735 </td><td>10.661132624976    </td></tr>\n",
       "<tr><td>maxs   </td><td>9.0               </td><td>29.2              </td><td>0.0                </td><td>44.262245178222656</td><td>                    </td><td>0.0                </td><td>44.262245178222656</td><td>              </td><td>28.58             </td><td>4.0                </td><td>3.0                 </td><td>25.0              </td><td>24.0                </td><td>0.3                    </td><td>28.9              </td><td>1459468797000.0    </td><td>1459470516000.0    </td><td>33.0               </td></tr>\n",
       "<tr><td>sigma  </td><td>1.3100744426995616</td><td>1.433530046961672 </td><td>8.87587896467595   </td><td>4.889132239380612 </td><td>                    </td><td>8.646793907650473  </td><td>4.763152965698006 </td><td>              </td><td>4.6366838193865485</td><td>0.3739100818042961 </td><td>0.017224513869044625</td><td>1.3080321358146452</td><td>0.2771007527695223  </td><td>0.0038227362092306152  </td><td>5.2939387219613945</td><td>771463671.4091961  </td><td>771462974.3294929  </td><td>6.5023872643624125 </td></tr>\n",
       "<tr><td>zeros  </td><td>17                </td><td>2367              </td><td>7302               </td><td>7302              </td><td>                    </td><td>6925               </td><td>6925              </td><td>              </td><td>165               </td><td>249601             </td><td>544                 </td><td>184116            </td><td>498794              </td><td>81                     </td><td>62                </td><td>0                  </td><td>0                  </td><td>3372               </td></tr>\n",
       "<tr><td>missing</td><td>0                 </td><td>0                 </td><td>0                  </td><td>0                 </td><td>0                   </td><td>0                  </td><td>0                 </td><td>0             </td><td>0                 </td><td>0                  </td><td>0                   </td><td>0                 </td><td>0                   </td><td>0                      </td><td>0                 </td><td>0                  </td><td>0                  </td><td>0                  </td></tr>\n",
       "<tr><td>0      </td><td>1.0               </td><td>2.1               </td><td>-73.97608947753906 </td><td>40.75217056274414 </td><td>N                   </td><td>-73.9874496459961  </td><td>40.770782470703125</td><td>1             </td><td>9.0               </td><td>0.5                </td><td>0.5                 </td><td>2.06              </td><td>0.0                 </td><td>0.3                    </td><td>12.36             </td><td>2016-03-01 00:00:02</td><td>2016-03-01 00:09:32</td><td>9.0                </td></tr>\n",
       "<tr><td>1      </td><td>2.0               </td><td>0.49              </td><td>-73.9898681640625  </td><td>40.757118225097656</td><td>N                   </td><td>-73.98538970947266 </td><td>40.76319122314453 </td><td>2             </td><td>4.0               </td><td>0.5                </td><td>0.5                 </td><td>0.0               </td><td>0.0                 </td><td>0.3                    </td><td>5.3               </td><td>2016-03-01 00:00:05</td><td>2016-03-01 00:02:50</td><td>2.0                </td></tr>\n",
       "<tr><td>2      </td><td>1.0               </td><td>2.82              </td><td>-73.97879028320312 </td><td>40.76246643066406 </td><td>N                   </td><td>-73.98910522460938 </td><td>40.730716705322266</td><td>1             </td><td>11.5              </td><td>0.5                </td><td>0.5                 </td><td>3.2               </td><td>0.0                 </td><td>0.3                    </td><td>16.0              </td><td>2016-03-01 00:00:17</td><td>2016-03-01 00:13:03</td><td>12.0               </td></tr>\n",
       "<tr><td>3      </td><td>1.0               </td><td>0.6               </td><td>-73.97259521484375 </td><td>40.759281158447266</td><td>N                   </td><td>-73.97032928466797 </td><td>40.75235366821289 </td><td>1             </td><td>5.0               </td><td>0.5                </td><td>0.5                 </td><td>1.25              </td><td>0.0                 </td><td>0.3                    </td><td>7.55              </td><td>2016-03-01 00:00:26</td><td>2016-03-01 00:04:54</td><td>4.0                </td></tr>\n",
       "<tr><td>4      </td><td>1.0               </td><td>9.79              </td><td>-73.87443542480469 </td><td>40.77402114868164 </td><td>N                   </td><td>-74.00138854980469 </td><td>40.72154998779297 </td><td>2             </td><td>27.5              </td><td>0.5                </td><td>0.5                 </td><td>0.0               </td><td>0.0                 </td><td>0.3                    </td><td>28.8              </td><td>2016-03-01 00:00:26</td><td>2016-03-01 00:16:58</td><td>16.0               </td></tr>\n",
       "<tr><td>5      </td><td>1.0               </td><td>1.0               </td><td>-73.9727554321289  </td><td>40.75590515136719 </td><td>N                   </td><td>-73.98736572265625 </td><td>40.7563591003418  </td><td>2             </td><td>6.0               </td><td>0.5                </td><td>0.5                 </td><td>0.0               </td><td>0.0                 </td><td>0.3                    </td><td>7.3               </td><td>2016-03-01 00:00:31</td><td>2016-03-01 00:06:19</td><td>5.0                </td></tr>\n",
       "<tr><td>6      </td><td>1.0               </td><td>2.46              </td><td>-73.97491455078125 </td><td>40.76174545288086 </td><td>N                   </td><td>-73.98908996582031 </td><td>40.732303619384766</td><td>1             </td><td>9.5               </td><td>0.5                </td><td>0.5                 </td><td>1.0               </td><td>0.0                 </td><td>0.3                    </td><td>11.8              </td><td>2016-03-01 00:00:32</td><td>2016-03-01 00:08:59</td><td>8.0                </td></tr>\n",
       "<tr><td>7      </td><td>1.0               </td><td>3.4               </td><td>-73.98661041259766 </td><td>40.76193618774414 </td><td>N                   </td><td>-73.94239044189453 </td><td>40.74867248535156 </td><td>1             </td><td>12.5              </td><td>0.5                </td><td>0.5                 </td><td>4.1               </td><td>0.0                 </td><td>0.3                    </td><td>17.900000000000002</td><td>2016-03-01 00:00:42</td><td>2016-03-01 00:12:52</td><td>12.0               </td></tr>\n",
       "<tr><td>8      </td><td>2.0               </td><td>2.3               </td><td>-73.97753143310547 </td><td>40.75334167480469 </td><td>N                   </td><td>-74.00135040283203 </td><td>40.731292724609375</td><td>1             </td><td>9.0               </td><td>0.5                </td><td>0.5                 </td><td>3.05              </td><td>0.0                 </td><td>0.3                    </td><td>13.35             </td><td>2016-03-01 00:00:44</td><td>2016-03-01 00:08:51</td><td>8.0                </td></tr>\n",
       "<tr><td>9      </td><td>2.0               </td><td>2.23              </td><td>-73.9984130859375  </td><td>40.73535919189453 </td><td>N                   </td><td>-73.97775268554688 </td><td>40.76005935668945 </td><td>1             </td><td>8.5               </td><td>0.0                </td><td>0.5                 </td><td>1.86              </td><td>0.0                 </td><td>0.3                    </td><td>11.16             </td><td>2016-03-10 07:07:11</td><td>2016-03-10 07:13:43</td><td>6.0                </td></tr>\n",
       "</tbody>\n",
       "</table><pre style='font-size: smaller; margin-bottom: 1em;'>[499936 rows x 18 columns]</pre>"
      ],
      "text/plain": [
       "         passenger_count     trip_distance       pickup_longitude     pickup_latitude     store_and_fwd_flag    dropoff_longitude    dropoff_latitude    payment_type    fare_amount         extra                mta_tax               tip_amount          tolls_amount          improvement_surcharge    total_amount        pickup               dropoff              trip_duration_min\n",
       "-------  ------------------  ------------------  -------------------  ------------------  --------------------  -------------------  ------------------  --------------  ------------------  -------------------  --------------------  ------------------  --------------------  -----------------------  ------------------  -------------------  -------------------  -------------------\n",
       "type     int                 real                real                 real                enum                  real                 real                enum            real                real                 real                  real                real                  real                     real                time                 time                 int\n",
       "mins     0.0                 0.0                 -121.93335723876952  0.0                                       -121.93329620361328  0.0                                 0.0                 0.0                  0.0                   0.0                 0.0                   0.0                      0.0                 1456790402000.0      1456790570000.0      0.0\n",
       "mean     1.65588195288997    1.9560249311911924  -72.89953325153854   40.157497281569775                        -72.95313872015522   40.18877804639479                   9.778006024771171   0.33485486142226184  0.49947035220508246   1.3265147338859382  0.012866686935927798  0.29995113374512017      12.251663792965498  1458118780776.7698   1458119449905.0735   10.661132624976\n",
       "maxs     9.0                 29.2                0.0                  44.262245178222656                        0.0                  44.262245178222656                  28.58               4.0                  3.0                   25.0                24.0                  0.3                      28.9                1459468797000.0      1459470516000.0      33.0\n",
       "sigma    1.3100744426995616  1.433530046961672   8.87587896467595     4.889132239380612                         8.646793907650473    4.763152965698006                   4.6366838193865485  0.3739100818042961   0.017224513869044625  1.3080321358146452  0.2771007527695223    0.0038227362092306152    5.2939387219613945  771463671.4091961    771462974.3294929    6.5023872643624125\n",
       "zeros    17                  2367                7302                 7302                                      6925                 6925                                165                 249601               544                   184116              498794                81                       62                  0                    0                    3372\n",
       "missing  0                   0                   0                    0                   0                     0                    0                   0               0                   0                    0                     0                   0                     0                        0                   0                    0                    0\n",
       "0        1.0                 2.1                 -73.97608947753906   40.75217056274414   N                     -73.9874496459961    40.770782470703125  1               9.0                 0.5                  0.5                   2.06                0.0                   0.3                      12.36               2016-03-01 00:00:02  2016-03-01 00:09:32  9.0\n",
       "1        2.0                 0.49                -73.9898681640625    40.757118225097656  N                     -73.98538970947266   40.76319122314453   2               4.0                 0.5                  0.5                   0.0                 0.0                   0.3                      5.3                 2016-03-01 00:00:05  2016-03-01 00:02:50  2.0\n",
       "2        1.0                 2.82                -73.97879028320312   40.76246643066406   N                     -73.98910522460938   40.730716705322266  1               11.5                0.5                  0.5                   3.2                 0.0                   0.3                      16.0                2016-03-01 00:00:17  2016-03-01 00:13:03  12.0\n",
       "3        1.0                 0.6                 -73.97259521484375   40.759281158447266  N                     -73.97032928466797   40.75235366821289   1               5.0                 0.5                  0.5                   1.25                0.0                   0.3                      7.55                2016-03-01 00:00:26  2016-03-01 00:04:54  4.0\n",
       "4        1.0                 9.79                -73.87443542480469   40.77402114868164   N                     -74.00138854980469   40.72154998779297   2               27.5                0.5                  0.5                   0.0                 0.0                   0.3                      28.8                2016-03-01 00:00:26  2016-03-01 00:16:58  16.0\n",
       "5        1.0                 1.0                 -73.9727554321289    40.75590515136719   N                     -73.98736572265625   40.7563591003418    2               6.0                 0.5                  0.5                   0.0                 0.0                   0.3                      7.3                 2016-03-01 00:00:31  2016-03-01 00:06:19  5.0\n",
       "6        1.0                 2.46                -73.97491455078125   40.76174545288086   N                     -73.98908996582031   40.732303619384766  1               9.5                 0.5                  0.5                   1.0                 0.0                   0.3                      11.8                2016-03-01 00:00:32  2016-03-01 00:08:59  8.0\n",
       "7        1.0                 3.4                 -73.98661041259766   40.76193618774414   N                     -73.94239044189453   40.74867248535156   1               12.5                0.5                  0.5                   4.1                 0.0                   0.3                      17.900000000000002  2016-03-01 00:00:42  2016-03-01 00:12:52  12.0\n",
       "8        2.0                 2.3                 -73.97753143310547   40.75334167480469   N                     -74.00135040283203   40.731292724609375  1               9.0                 0.5                  0.5                   3.05                0.0                   0.3                      13.35               2016-03-01 00:00:44  2016-03-01 00:08:51  8.0\n",
       "9        2.0                 2.23                -73.9984130859375    40.73535919189453   N                     -73.97775268554688   40.76005935668945   1               8.5                 0.0                  0.5                   1.86                0.0                   0.3                      11.16               2016-03-10 07:07:11  2016-03-10 07:13:43  6.0\n",
       "[499936 rows x 18 columns]\n"
      ]
     },
     "metadata": {},
     "output_type": "display_data"
    }
   ],
   "source": [
    "dataset_small.describe()"
   ]
  },
  {
   "cell_type": "markdown",
   "id": "61b63a9c",
   "metadata": {},
   "source": [
    "## Graficos"
   ]
  },
  {
   "cell_type": "markdown",
   "id": "e617c167",
   "metadata": {},
   "source": [
    "### Distribucion de la duracion de viaje"
   ]
  },
  {
   "cell_type": "code",
   "execution_count": 43,
   "id": "27305977",
   "metadata": {},
   "outputs": [
    {
     "data": {
      "image/png": "[encoded data removed]",
      "text/plain": [
       "<Figure size 640x480 with 1 Axes>"
      ]
     },
     "metadata": {},
     "output_type": "display_data"
    },
    {
     "data": {
      "text/html": [
       "<table class='dataframe'>\n",
       "<thead>\n",
       "<tr><th style=\"text-align: right;\">  breaks</th><th style=\"text-align: right;\">  counts</th><th style=\"text-align: right;\">  mids_true</th><th style=\"text-align: right;\">  mids</th><th style=\"text-align: right;\">  widths</th></tr>\n",
       "</thead>\n",
       "<tbody>\n",
       "<tr><td style=\"text-align: right;\">    0.66</td><td style=\"text-align: right;\">     nan</td><td style=\"text-align: right;\">      nan  </td><td style=\"text-align: right;\">nan   </td><td style=\"text-align: right;\">  nan   </td></tr>\n",
       "<tr><td style=\"text-align: right;\">    1.32</td><td style=\"text-align: right;\">    3372</td><td style=\"text-align: right;\">        0  </td><td style=\"text-align: right;\">  0.99</td><td style=\"text-align: right;\">    0.66</td></tr>\n",
       "<tr><td style=\"text-align: right;\">    1.98</td><td style=\"text-align: right;\">    7292</td><td style=\"text-align: right;\">        0.5</td><td style=\"text-align: right;\">  1.65</td><td style=\"text-align: right;\">    0.66</td></tr>\n",
       "<tr><td style=\"text-align: right;\">    2.64</td><td style=\"text-align: right;\">       0</td><td style=\"text-align: right;\">        0  </td><td style=\"text-align: right;\">  2.31</td><td style=\"text-align: right;\">    0.66</td></tr>\n",
       "<tr><td style=\"text-align: right;\">    3.3 </td><td style=\"text-align: right;\">   17045</td><td style=\"text-align: right;\">        1  </td><td style=\"text-align: right;\">  2.97</td><td style=\"text-align: right;\">    0.66</td></tr>\n",
       "<tr><td style=\"text-align: right;\">    3.96</td><td style=\"text-align: right;\">   26246</td><td style=\"text-align: right;\">        1.5</td><td style=\"text-align: right;\">  3.63</td><td style=\"text-align: right;\">    0.66</td></tr>\n",
       "<tr><td style=\"text-align: right;\">    4.62</td><td style=\"text-align: right;\">       0</td><td style=\"text-align: right;\">        0  </td><td style=\"text-align: right;\">  4.29</td><td style=\"text-align: right;\">    0.66</td></tr>\n",
       "<tr><td style=\"text-align: right;\">    5.28</td><td style=\"text-align: right;\">   31691</td><td style=\"text-align: right;\">        2  </td><td style=\"text-align: right;\">  4.95</td><td style=\"text-align: right;\">    0.66</td></tr>\n",
       "<tr><td style=\"text-align: right;\">    5.94</td><td style=\"text-align: right;\">   34241</td><td style=\"text-align: right;\">        2.5</td><td style=\"text-align: right;\">  5.61</td><td style=\"text-align: right;\">    0.66</td></tr>\n",
       "<tr><td style=\"text-align: right;\">    6.6 </td><td style=\"text-align: right;\">       0</td><td style=\"text-align: right;\">        0  </td><td style=\"text-align: right;\">  6.27</td><td style=\"text-align: right;\">    0.66</td></tr>\n",
       "</tbody>\n",
       "</table><pre style='font-size: smaller; margin-bottom: 1em;'>[50 rows x 5 columns]</pre>"
      ],
      "text/plain": [
       "  breaks    counts    mids_true    mids    widths\n",
       "--------  --------  -----------  ------  --------\n",
       "    0.66       nan        nan    nan       nan\n",
       "    1.32      3372          0      0.99      0.66\n",
       "    1.98      7292          0.5    1.65      0.66\n",
       "    2.64         0          0      2.31      0.66\n",
       "    3.3      17045          1      2.97      0.66\n",
       "    3.96     26246          1.5    3.63      0.66\n",
       "    4.62         0          0      4.29      0.66\n",
       "    5.28     31691          2      4.95      0.66\n",
       "    5.94     34241          2.5    5.61      0.66\n",
       "    6.6          0          0      6.27      0.66\n",
       "[50 rows x 5 columns]\n"
      ]
     },
     "execution_count": 43,
     "metadata": {},
     "output_type": "execute_result"
    }
   ],
   "source": [
    "dataset_small['trip_duration_min'].hist(breaks=50)"
   ]
  },
  {
   "cell_type": "markdown",
   "id": "ea43fbe0",
   "metadata": {},
   "source": [
    "### Distribucion del costo total"
   ]
  },
  {
   "cell_type": "code",
   "execution_count": 44,
   "id": "5af847a8",
   "metadata": {},
   "outputs": [
    {
     "data": {
      "image/png": "[encoded data removed]",
      "text/plain": [
       "<Figure size 640x480 with 1 Axes>"
      ]
     },
     "metadata": {},
     "output_type": "display_data"
    },
    {
     "data": {
      "text/html": [
       "<table class='dataframe'>\n",
       "<thead>\n",
       "<tr><th style=\"text-align: right;\">  breaks</th><th style=\"text-align: right;\">  counts</th><th style=\"text-align: right;\">  mids_true</th><th style=\"text-align: right;\">   mids</th><th style=\"text-align: right;\">  widths</th></tr>\n",
       "</thead>\n",
       "<tbody>\n",
       "<tr><td style=\"text-align: right;\">   0.578</td><td style=\"text-align: right;\">     nan</td><td style=\"text-align: right;\">    nan    </td><td style=\"text-align: right;\">nan    </td><td style=\"text-align: right;\"> nan    </td></tr>\n",
       "<tr><td style=\"text-align: right;\">   1.156</td><td style=\"text-align: right;\">     187</td><td style=\"text-align: right;\">      0    </td><td style=\"text-align: right;\">  0.867</td><td style=\"text-align: right;\">   0.578</td></tr>\n",
       "<tr><td style=\"text-align: right;\">   1.734</td><td style=\"text-align: right;\">       5</td><td style=\"text-align: right;\">      0.4  </td><td style=\"text-align: right;\">  1.445</td><td style=\"text-align: right;\">   0.578</td></tr>\n",
       "<tr><td style=\"text-align: right;\">   2.312</td><td style=\"text-align: right;\">       4</td><td style=\"text-align: right;\">      0.65 </td><td style=\"text-align: right;\">  2.023</td><td style=\"text-align: right;\">   0.578</td></tr>\n",
       "<tr><td style=\"text-align: right;\">   2.89 </td><td style=\"text-align: right;\">      21</td><td style=\"text-align: right;\">      0.9  </td><td style=\"text-align: right;\">  2.601</td><td style=\"text-align: right;\">   0.578</td></tr>\n",
       "<tr><td style=\"text-align: right;\">   3.468</td><td style=\"text-align: right;\">       8</td><td style=\"text-align: right;\">      1.2  </td><td style=\"text-align: right;\">  3.179</td><td style=\"text-align: right;\">   0.578</td></tr>\n",
       "<tr><td style=\"text-align: right;\">   4.046</td><td style=\"text-align: right;\">     879</td><td style=\"text-align: right;\">      1.45 </td><td style=\"text-align: right;\">  3.757</td><td style=\"text-align: right;\">   0.578</td></tr>\n",
       "<tr><td style=\"text-align: right;\">   4.624</td><td style=\"text-align: right;\">    1436</td><td style=\"text-align: right;\">      1.78 </td><td style=\"text-align: right;\">  4.335</td><td style=\"text-align: right;\">   0.578</td></tr>\n",
       "<tr><td style=\"text-align: right;\">   5.202</td><td style=\"text-align: right;\">    3138</td><td style=\"text-align: right;\">      2.025</td><td style=\"text-align: right;\">  4.913</td><td style=\"text-align: right;\">   0.578</td></tr>\n",
       "<tr><td style=\"text-align: right;\">   5.78 </td><td style=\"text-align: right;\">    6331</td><td style=\"text-align: right;\">      2.35 </td><td style=\"text-align: right;\">  5.491</td><td style=\"text-align: right;\">   0.578</td></tr>\n",
       "</tbody>\n",
       "</table><pre style='font-size: smaller; margin-bottom: 1em;'>[50 rows x 5 columns]</pre>"
      ],
      "text/plain": [
       "  breaks    counts    mids_true     mids    widths\n",
       "--------  --------  -----------  -------  --------\n",
       "   0.578       nan      nan      nan       nan\n",
       "   1.156       187        0        0.867     0.578\n",
       "   1.734         5        0.4      1.445     0.578\n",
       "   2.312         4        0.65     2.023     0.578\n",
       "   2.89         21        0.9      2.601     0.578\n",
       "   3.468         8        1.2      3.179     0.578\n",
       "   4.046       879        1.45     3.757     0.578\n",
       "   4.624      1436        1.78     4.335     0.578\n",
       "   5.202      3138        2.025    4.913     0.578\n",
       "   5.78       6331        2.35     5.491     0.578\n",
       "[50 rows x 5 columns]\n"
      ]
     },
     "execution_count": 44,
     "metadata": {},
     "output_type": "execute_result"
    }
   ],
   "source": [
    "dataset_small['total_amount'].hist(breaks=50)"
   ]
  },
  {
   "cell_type": "markdown",
   "id": "82c42211",
   "metadata": {},
   "source": [
    "# Entrenamiento"
   ]
  },
  {
   "cell_type": "code",
   "execution_count": null,
   "id": "520b3909",
   "metadata": {},
   "outputs": [
    {
     "name": "stdout",
     "output_type": "stream",
     "text": [
      "AutoML progress: |\n",
      "04:21:34.961: User specified a validation frame with cross-validation still enabled. Please note that the models will still be validated using cross-validation only, the validation frame will be used to provide purely informative validation metrics on the trained models.\n",
      "\n",
      "███████████████████████████████████████████████████████████████| (done) 100%\n",
      "AutoML progress: |\n",
      "04:37:57.165: User specified a validation frame with cross-validation still enabled. Please note that the models will still be validated using cross-validation only, the validation frame will be used to provide purely informative validation metrics on the trained models.\n",
      "\n",
      "███████████████████████████████████████████████████████████████| (done) 100%\n"
     ]
    }
   ],
   "source": [
    "# Select features for each model\n",
    "# For trip duration, use mainly trip and location features\n",
    "duration_features = [\n",
    "    'passenger_count', 'trip_distance',\n",
    "    'pickup_longitude', 'pickup_latitude',\n",
    "    'dropoff_longitude', 'dropoff_latitude',\n",
    "    'store_and_fwd_flag'\n",
    "]\n",
    "\n",
    "# For fare amount, use trip, location, and payment-related features\n",
    "fare_features = [\n",
    "    'passenger_count', 'trip_distance',\n",
    "    'pickup_longitude', 'pickup_latitude',\n",
    "    'dropoff_longitude', 'dropoff_latitude',\n",
    "    'store_and_fwd_flag', 'payment_type',\n",
    "]\n",
    "\n",
    "# Targets\n",
    "target_duration = 'trip_duration_min'\n",
    "target_fare = 'fare_amount'\n",
    "\n",
    "# Split data\n",
    "train, valid = dataset_small.split_frame(ratios=[0.8], seed=42)\n",
    "\n",
    "# Model 1: Predict trip duration\n",
    "aml_duration = H2OAutoML(max_models=20, seed=1, nfolds=5)\n",
    "aml_duration.train(x=duration_features, y=target_duration, training_frame=train, validation_frame=valid)\n",
    "duration_model = aml_duration.leader\n",
    "\n",
    "# Model 2: Predict fare amount\n",
    "aml_fare = H2OAutoML(max_models=20, seed=2, nfolds=5)\n",
    "aml_fare.train(x=fare_features, y=target_fare, training_frame=train, validation_frame=valid)\n",
    "fare_model = aml_fare.leader"
   ]
  },
  {
   "cell_type": "markdown",
   "id": "af71d8ff",
   "metadata": {},
   "source": [
    "## Informacion de modelos seleccionados"
   ]
  },
  {
   "cell_type": "markdown",
   "id": "20270b6e",
   "metadata": {},
   "source": [
    "### Modelo de duracion de viaje"
   ]
  },
  {
   "cell_type": "markdown",
   "id": "dccd6ded",
   "metadata": {},
   "source": [
    "#### Top 10 modelos"
   ]
  },
  {
   "cell_type": "code",
   "execution_count": 59,
   "id": "e5391518",
   "metadata": {},
   "outputs": [
    {
     "data": {
      "text/html": [
       "<table class='dataframe'>\n",
       "<thead>\n",
       "<tr><th>model_id                                              </th><th style=\"text-align: right;\">   rmse</th><th style=\"text-align: right;\">    mse</th><th style=\"text-align: right;\">    mae</th><th style=\"text-align: right;\">  rmsle</th><th style=\"text-align: right;\">  mean_residual_deviance</th></tr>\n",
       "</thead>\n",
       "<tbody>\n",
       "<tr><td>StackedEnsemble_AllModels_1_AutoML_1_20250713_42134   </td><td style=\"text-align: right;\">3.62056</td><td style=\"text-align: right;\">13.1085</td><td style=\"text-align: right;\">2.6361 </td><td style=\"text-align: right;\">    nan</td><td style=\"text-align: right;\">                 13.1085</td></tr>\n",
       "<tr><td>StackedEnsemble_BestOfFamily_1_AutoML_1_20250713_42134</td><td style=\"text-align: right;\">3.64182</td><td style=\"text-align: right;\">13.2628</td><td style=\"text-align: right;\">2.6562 </td><td style=\"text-align: right;\">    nan</td><td style=\"text-align: right;\">                 13.2628</td></tr>\n",
       "<tr><td>XGBoost_grid_1_AutoML_1_20250713_42134_model_3        </td><td style=\"text-align: right;\">3.6536 </td><td style=\"text-align: right;\">13.3488</td><td style=\"text-align: right;\">2.66516</td><td style=\"text-align: right;\">    nan</td><td style=\"text-align: right;\">                 13.3488</td></tr>\n",
       "<tr><td>XGBoost_3_AutoML_1_20250713_42134                     </td><td style=\"text-align: right;\">3.66954</td><td style=\"text-align: right;\">13.4655</td><td style=\"text-align: right;\">2.68143</td><td style=\"text-align: right;\">    nan</td><td style=\"text-align: right;\">                 13.4655</td></tr>\n",
       "<tr><td>XGBoost_grid_1_AutoML_1_20250713_42134_model_1        </td><td style=\"text-align: right;\">3.68424</td><td style=\"text-align: right;\">13.5736</td><td style=\"text-align: right;\">2.68706</td><td style=\"text-align: right;\">    nan</td><td style=\"text-align: right;\">                 13.5736</td></tr>\n",
       "<tr><td>GBM_1_AutoML_1_20250713_42134                         </td><td style=\"text-align: right;\">3.69113</td><td style=\"text-align: right;\">13.6244</td><td style=\"text-align: right;\">2.70048</td><td style=\"text-align: right;\">    nan</td><td style=\"text-align: right;\">                 13.6244</td></tr>\n",
       "<tr><td>XGBoost_2_AutoML_1_20250713_42134                     </td><td style=\"text-align: right;\">3.69427</td><td style=\"text-align: right;\">13.6477</td><td style=\"text-align: right;\">2.69137</td><td style=\"text-align: right;\">    nan</td><td style=\"text-align: right;\">                 13.6477</td></tr>\n",
       "<tr><td>XGBoost_grid_1_AutoML_1_20250713_42134_model_2        </td><td style=\"text-align: right;\">3.70405</td><td style=\"text-align: right;\">13.72  </td><td style=\"text-align: right;\">2.6949 </td><td style=\"text-align: right;\">    nan</td><td style=\"text-align: right;\">                 13.72  </td></tr>\n",
       "<tr><td>GBM_4_AutoML_1_20250713_42134                         </td><td style=\"text-align: right;\">3.73436</td><td style=\"text-align: right;\">13.9454</td><td style=\"text-align: right;\">2.74029</td><td style=\"text-align: right;\">    nan</td><td style=\"text-align: right;\">                 13.9454</td></tr>\n",
       "<tr><td>GBM_3_AutoML_1_20250713_42134                         </td><td style=\"text-align: right;\">3.76479</td><td style=\"text-align: right;\">14.1736</td><td style=\"text-align: right;\">2.76842</td><td style=\"text-align: right;\">    nan</td><td style=\"text-align: right;\">                 14.1736</td></tr>\n",
       "</tbody>\n",
       "</table><pre style='font-size: smaller; margin-bottom: 1em;'>[10 rows x 6 columns]</pre>"
      ],
      "text/plain": [
       "model_id                                                   rmse      mse      mae    rmsle    mean_residual_deviance\n",
       "------------------------------------------------------  -------  -------  -------  -------  ------------------------\n",
       "StackedEnsemble_AllModels_1_AutoML_1_20250713_42134     3.62056  13.1085  2.6361       nan                   13.1085\n",
       "StackedEnsemble_BestOfFamily_1_AutoML_1_20250713_42134  3.64182  13.2628  2.6562       nan                   13.2628\n",
       "XGBoost_grid_1_AutoML_1_20250713_42134_model_3          3.6536   13.3488  2.66516      nan                   13.3488\n",
       "XGBoost_3_AutoML_1_20250713_42134                       3.66954  13.4655  2.68143      nan                   13.4655\n",
       "XGBoost_grid_1_AutoML_1_20250713_42134_model_1          3.68424  13.5736  2.68706      nan                   13.5736\n",
       "GBM_1_AutoML_1_20250713_42134                           3.69113  13.6244  2.70048      nan                   13.6244\n",
       "XGBoost_2_AutoML_1_20250713_42134                       3.69427  13.6477  2.69137      nan                   13.6477\n",
       "XGBoost_grid_1_AutoML_1_20250713_42134_model_2          3.70405  13.72    2.6949       nan                   13.72\n",
       "GBM_4_AutoML_1_20250713_42134                           3.73436  13.9454  2.74029      nan                   13.9454\n",
       "GBM_3_AutoML_1_20250713_42134                           3.76479  14.1736  2.76842      nan                   14.1736\n",
       "[10 rows x 6 columns]\n"
      ]
     },
     "execution_count": 59,
     "metadata": {},
     "output_type": "execute_result"
    }
   ],
   "source": [
    "aml_duration.leaderboard.head(10)"
   ]
  },
  {
   "cell_type": "code",
   "execution_count": 46,
   "id": "03f8b0b8",
   "metadata": {},
   "outputs": [
    {
     "data": {
      "text/html": [
       "<pre style='margin: 1em 0 1em 0;'>Model Details\n",
       "=============\n",
       "H2OStackedEnsembleEstimator : Stacked Ensemble\n",
       "Model Key: StackedEnsemble_AllModels_1_AutoML_1_20250713_42134\n",
       "</pre>\n",
       "<div style='margin: 1em 0 1em 0;'>\n",
       "<style>\n",
       "\n",
       "#h2o-table-9.h2o-container {\n",
       "  overflow-x: auto;\n",
       "}\n",
       "#h2o-table-9 .h2o-table {\n",
       "  /* width: 100%; */\n",
       "  margin-top: 1em;\n",
       "  margin-bottom: 1em;\n",
       "}\n",
       "#h2o-table-9 .h2o-table caption {\n",
       "  white-space: nowrap;\n",
       "  caption-side: top;\n",
       "  text-align: left;\n",
       "  /* margin-left: 1em; */\n",
       "  margin: 0;\n",
       "  font-size: larger;\n",
       "}\n",
       "#h2o-table-9 .h2o-table thead {\n",
       "  white-space: nowrap; \n",
       "  position: sticky;\n",
       "  top: 0;\n",
       "  box-shadow: 0 -1px inset;\n",
       "}\n",
       "#h2o-table-9 .h2o-table tbody {\n",
       "  overflow: auto;\n",
       "}\n",
       "#h2o-table-9 .h2o-table th,\n",
       "#h2o-table-9 .h2o-table td {\n",
       "  text-align: right;\n",
       "  /* border: 1px solid; */\n",
       "}\n",
       "#h2o-table-9 .h2o-table tr:nth-child(even) {\n",
       "  /* background: #F5F5F5 */\n",
       "}\n",
       "\n",
       "</style>      \n",
       "<div id=\"h2o-table-9\" class=\"h2o-container\">\n",
       "  <table class=\"h2o-table\">\n",
       "    <caption>Model Summary for Stacked Ensemble: </caption>\n",
       "    <thead><tr><th>key</th>\n",
       "<th>value</th></tr></thead>\n",
       "    <tbody><tr><td>Stacking strategy</td>\n",
       "<td>cross_validation</td></tr>\n",
       "<tr><td>Number of base models (used / total)</td>\n",
       "<td>7/20</td></tr>\n",
       "<tr><td># GBM base models (used / total)</td>\n",
       "<td>1/7</td></tr>\n",
       "<tr><td># XGBoost base models (used / total)</td>\n",
       "<td>6/6</td></tr>\n",
       "<tr><td># DRF base models (used / total)</td>\n",
       "<td>0/2</td></tr>\n",
       "<tr><td># DeepLearning base models (used / total)</td>\n",
       "<td>0/4</td></tr>\n",
       "<tr><td># GLM base models (used / total)</td>\n",
       "<td>0/1</td></tr>\n",
       "<tr><td>Metalearner algorithm</td>\n",
       "<td>GLM</td></tr>\n",
       "<tr><td>Metalearner fold assignment scheme</td>\n",
       "<td>Random</td></tr>\n",
       "<tr><td>Metalearner nfolds</td>\n",
       "<td>5</td></tr>\n",
       "<tr><td>Metalearner fold_column</td>\n",
       "<td>None</td></tr>\n",
       "<tr><td>Custom metalearner hyperparameters</td>\n",
       "<td>None</td></tr></tbody>\n",
       "  </table>\n",
       "</div>\n",
       "</div>\n",
       "<div style='margin: 1em 0 1em 0;'><pre style='margin: 1em 0 1em 0;'>ModelMetricsRegressionGLM: stackedensemble\n",
       "** Reported on train data. **\n",
       "\n",
       "MSE: 10.787057135229716\n",
       "RMSE: 3.284365560535203\n",
       "MAE: 2.397724508822125\n",
       "RMSLE: 0.2930307568587166\n",
       "Mean Residual Deviance: 10.787057135229716\n",
       "R^2: 0.7432401733932802\n",
       "Null degrees of freedom: 9841\n",
       "Residual degrees of freedom: 9834\n",
       "Null deviance: 413501.3076035945\n",
       "Residual deviance: 106166.21632493087\n",
       "AIC: 51356.077281815655</pre></div>\n",
       "<div style='margin: 1em 0 1em 0;'><pre style='margin: 1em 0 1em 0;'>ModelMetricsRegressionGLM: stackedensemble\n",
       "** Reported on validation data. **\n",
       "\n",
       "MSE: 12.95586397727004\n",
       "RMSE: 3.599425506559351\n",
       "MAE: 2.6254323414685508\n",
       "RMSLE: NaN\n",
       "Mean Residual Deviance: 12.95586397727004\n",
       "R^2: 0.6928718986393632\n",
       "Null degrees of freedom: 99751\n",
       "Residual degrees of freedom: 99744\n",
       "Null deviance: 4207990.207277003\n",
       "Residual deviance: 1292373.343460641\n",
       "AIC: 538621.4993431194</pre></div>\n",
       "<div style='margin: 1em 0 1em 0;'><pre style='margin: 1em 0 1em 0;'>ModelMetricsRegressionGLM: stackedensemble\n",
       "** Reported on cross-validation data. **\n",
       "\n",
       "MSE: 13.108457458806022\n",
       "RMSE: 3.620560379113435\n",
       "MAE: 2.6361012098178955\n",
       "RMSLE: NaN\n",
       "Mean Residual Deviance: 13.108457458806022\n",
       "R^2: 0.69014419077682\n",
       "Null degrees of freedom: 400183\n",
       "Residual degrees of freedom: 400176\n",
       "Null deviance: 16929897.710072674\n",
       "Residual deviance: 5245794.939694829\n",
       "AIC: 2165467.527121636</pre></div>\n",
       "<div style='margin: 1em 0 1em 0;'>\n",
       "<style>\n",
       "\n",
       "#h2o-table-10.h2o-container {\n",
       "  overflow-x: auto;\n",
       "}\n",
       "#h2o-table-10 .h2o-table {\n",
       "  /* width: 100%; */\n",
       "  margin-top: 1em;\n",
       "  margin-bottom: 1em;\n",
       "}\n",
       "#h2o-table-10 .h2o-table caption {\n",
       "  white-space: nowrap;\n",
       "  caption-side: top;\n",
       "  text-align: left;\n",
       "  /* margin-left: 1em; */\n",
       "  margin: 0;\n",
       "  font-size: larger;\n",
       "}\n",
       "#h2o-table-10 .h2o-table thead {\n",
       "  white-space: nowrap; \n",
       "  position: sticky;\n",
       "  top: 0;\n",
       "  box-shadow: 0 -1px inset;\n",
       "}\n",
       "#h2o-table-10 .h2o-table tbody {\n",
       "  overflow: auto;\n",
       "}\n",
       "#h2o-table-10 .h2o-table th,\n",
       "#h2o-table-10 .h2o-table td {\n",
       "  text-align: right;\n",
       "  /* border: 1px solid; */\n",
       "}\n",
       "#h2o-table-10 .h2o-table tr:nth-child(even) {\n",
       "  /* background: #F5F5F5 */\n",
       "}\n",
       "\n",
       "</style>      \n",
       "<div id=\"h2o-table-10\" class=\"h2o-container\">\n",
       "  <table class=\"h2o-table\">\n",
       "    <caption>Cross-Validation Metrics Summary: </caption>\n",
       "    <thead><tr><th></th>\n",
       "<th>mean</th>\n",
       "<th>sd</th>\n",
       "<th>cv_1_valid</th>\n",
       "<th>cv_2_valid</th>\n",
       "<th>cv_3_valid</th>\n",
       "<th>cv_4_valid</th>\n",
       "<th>cv_5_valid</th></tr></thead>\n",
       "    <tbody><tr><td>aic</td>\n",
       "<td>433105.47</td>\n",
       "<td>797.44946</td>\n",
       "<td>433158.97</td>\n",
       "<td>433266.28</td>\n",
       "<td>433099.47</td>\n",
       "<td>431884.8</td>\n",
       "<td>434117.88</td></tr>\n",
       "<tr><td>loglikelihood</td>\n",
       "<td>0.0</td>\n",
       "<td>0.0</td>\n",
       "<td>0.0</td>\n",
       "<td>0.0</td>\n",
       "<td>0.0</td>\n",
       "<td>0.0</td>\n",
       "<td>0.0</td></tr>\n",
       "<tr><td>mae</td>\n",
       "<td>2.6362681</td>\n",
       "<td>0.0096951</td>\n",
       "<td>2.6299894</td>\n",
       "<td>2.6434836</td>\n",
       "<td>2.631218</td>\n",
       "<td>2.6271324</td>\n",
       "<td>2.6495168</td></tr>\n",
       "<tr><td>mean_residual_deviance</td>\n",
       "<td>13.108103</td>\n",
       "<td>0.0494064</td>\n",
       "<td>13.106896</td>\n",
       "<td>13.150248</td>\n",
       "<td>13.062693</td>\n",
       "<td>13.05596</td>\n",
       "<td>13.164719</td></tr>\n",
       "<tr><td>mse</td>\n",
       "<td>13.108103</td>\n",
       "<td>0.0494064</td>\n",
       "<td>13.106896</td>\n",
       "<td>13.150248</td>\n",
       "<td>13.062693</td>\n",
       "<td>13.05596</td>\n",
       "<td>13.164719</td></tr>\n",
       "<tr><td>null_deviance</td>\n",
       "<td>3385979.5</td>\n",
       "<td>22191.389</td>\n",
       "<td>3421707.5</td>\n",
       "<td>3363796.0</td>\n",
       "<td>3383402.0</td>\n",
       "<td>3372296.5</td>\n",
       "<td>3388695.8</td></tr>\n",
       "<tr><td>r2</td>\n",
       "<td>0.6901386</td>\n",
       "<td>0.0023681</td>\n",
       "<td>0.6933584</td>\n",
       "<td>0.6871702</td>\n",
       "<td>0.6907988</td>\n",
       "<td>0.6907789</td>\n",
       "<td>0.688587</td></tr>\n",
       "<tr><td>residual_deviance</td>\n",
       "<td>1049133.1</td>\n",
       "<td>4922.601</td>\n",
       "<td>1049180.9</td>\n",
       "<td>1052269.6</td>\n",
       "<td>1046151.9</td>\n",
       "<td>1042779.5</td>\n",
       "<td>1055283.9</td></tr>\n",
       "<tr><td>rmse</td>\n",
       "<td>3.6205063</td>\n",
       "<td>0.0068229</td>\n",
       "<td>3.6203449</td>\n",
       "<td>3.626327</td>\n",
       "<td>3.6142347</td>\n",
       "<td>3.6133032</td>\n",
       "<td>3.6283216</td></tr>\n",
       "<tr><td>rmsle</td>\n",
       "<td>0.3164078</td>\n",
       "<td>0.0014491</td>\n",
       "<td>0.3143762</td>\n",
       "<td>0.3176085</td>\n",
       "<td>nan</td>\n",
       "<td>0.3163841</td>\n",
       "<td>0.3172624</td></tr></tbody>\n",
       "  </table>\n",
       "</div>\n",
       "</div><pre style=\"font-size: smaller; margin: 1em 0 0 0;\">\n",
       "\n",
       "[tips]\n",
       "Use `model.explain()` to inspect the model.\n",
       "--\n",
       "Use `h2o.display.toggle_user_tips()` to switch on/off this section.</pre>"
      ],
      "text/plain": [
       "Model Details\n",
       "=============\n",
       "H2OStackedEnsembleEstimator : Stacked Ensemble\n",
       "Model Key: StackedEnsemble_AllModels_1_AutoML_1_20250713_42134\n",
       "\n",
       "\n",
       "Model Summary for Stacked Ensemble: \n",
       "key                                        value\n",
       "-----------------------------------------  ----------------\n",
       "Stacking strategy                          cross_validation\n",
       "Number of base models (used / total)       7/20\n",
       "# GBM base models (used / total)           1/7\n",
       "# XGBoost base models (used / total)       6/6\n",
       "# DRF base models (used / total)           0/2\n",
       "# DeepLearning base models (used / total)  0/4\n",
       "# GLM base models (used / total)           0/1\n",
       "Metalearner algorithm                      GLM\n",
       "Metalearner fold assignment scheme         Random\n",
       "Metalearner nfolds                         5\n",
       "Metalearner fold_column\n",
       "Custom metalearner hyperparameters         None\n",
       "\n",
       "ModelMetricsRegressionGLM: stackedensemble\n",
       "** Reported on train data. **\n",
       "\n",
       "MSE: 10.787057135229716\n",
       "RMSE: 3.284365560535203\n",
       "MAE: 2.397724508822125\n",
       "RMSLE: 0.2930307568587166\n",
       "Mean Residual Deviance: 10.787057135229716\n",
       "R^2: 0.7432401733932802\n",
       "Null degrees of freedom: 9841\n",
       "Residual degrees of freedom: 9834\n",
       "Null deviance: 413501.3076035945\n",
       "Residual deviance: 106166.21632493087\n",
       "AIC: 51356.077281815655\n",
       "\n",
       "ModelMetricsRegressionGLM: stackedensemble\n",
       "** Reported on validation data. **\n",
       "\n",
       "MSE: 12.95586397727004\n",
       "RMSE: 3.599425506559351\n",
       "MAE: 2.6254323414685508\n",
       "RMSLE: NaN\n",
       "Mean Residual Deviance: 12.95586397727004\n",
       "R^2: 0.6928718986393632\n",
       "Null degrees of freedom: 99751\n",
       "Residual degrees of freedom: 99744\n",
       "Null deviance: 4207990.207277003\n",
       "Residual deviance: 1292373.343460641\n",
       "AIC: 538621.4993431194\n",
       "\n",
       "ModelMetricsRegressionGLM: stackedensemble\n",
       "** Reported on cross-validation data. **\n",
       "\n",
       "MSE: 13.108457458806022\n",
       "RMSE: 3.620560379113435\n",
       "MAE: 2.6361012098178955\n",
       "RMSLE: NaN\n",
       "Mean Residual Deviance: 13.108457458806022\n",
       "R^2: 0.69014419077682\n",
       "Null degrees of freedom: 400183\n",
       "Residual degrees of freedom: 400176\n",
       "Null deviance: 16929897.710072674\n",
       "Residual deviance: 5245794.939694829\n",
       "AIC: 2165467.527121636\n",
       "\n",
       "Cross-Validation Metrics Summary: \n",
       "                        mean         sd          cv_1_valid    cv_2_valid    cv_3_valid    cv_4_valid    cv_5_valid\n",
       "----------------------  -----------  ----------  ------------  ------------  ------------  ------------  ------------\n",
       "aic                     433105       797.449     433159        433266        433099        431885        434118\n",
       "loglikelihood           0            0           0             0             0             0             0\n",
       "mae                     2.63627      0.00969505  2.62999       2.64348       2.63122       2.62713       2.64952\n",
       "mean_residual_deviance  13.1081      0.0494064   13.1069       13.1502       13.0627       13.056        13.1647\n",
       "mse                     13.1081      0.0494064   13.1069       13.1502       13.0627       13.056        13.1647\n",
       "null_deviance           3.38598e+06  22191.4     3.42171e+06   3.3638e+06    3.3834e+06    3.3723e+06    3.3887e+06\n",
       "r2                      0.690139     0.00236813  0.693358      0.68717       0.690799      0.690779      0.688587\n",
       "residual_deviance       1.04913e+06  4922.6      1.04918e+06   1.05227e+06   1.04615e+06   1.04278e+06   1.05528e+06\n",
       "rmse                    3.62051      0.00682286  3.62034       3.62633       3.61423       3.6133        3.62832\n",
       "rmsle                   0.316408     0.00144914  0.314376      0.317609      nan           0.316384      0.317262\n",
       "\n",
       "[tips]\n",
       "Use `model.explain()` to inspect the model.\n",
       "--\n",
       "Use `h2o.display.toggle_user_tips()` to switch on/off this section."
      ]
     },
     "execution_count": 46,
     "metadata": {},
     "output_type": "execute_result"
    }
   ],
   "source": [
    "duration_model"
   ]
  },
  {
   "cell_type": "markdown",
   "id": "e27f755b",
   "metadata": {},
   "source": [
    "##### Modelo con mejor rendimiento"
   ]
  },
  {
   "cell_type": "code",
   "execution_count": 62,
   "id": "cbf9011c",
   "metadata": {},
   "outputs": [
    {
     "data": {
      "text/plain": [
       "'StackedEnsemble_AllModels_1_AutoML_1_20250713_42134'"
      ]
     },
     "execution_count": 62,
     "metadata": {},
     "output_type": "execute_result"
    }
   ],
   "source": [
    "duration_model.model_id"
   ]
  },
  {
   "cell_type": "markdown",
   "id": "66415b5b",
   "metadata": {},
   "source": [
    "##### Metricas"
   ]
  },
  {
   "cell_type": "code",
   "execution_count": 54,
   "id": "00b2409f",
   "metadata": {},
   "outputs": [
    {
     "name": "stdout",
     "output_type": "stream",
     "text": [
      "Trip Duration RMSE: 3.599425506559351\n"
     ]
    }
   ],
   "source": [
    "perf_duration = duration_model.model_performance(valid)\n",
    "print('Trip Duration RMSE:', perf_duration.rmse())"
   ]
  },
  {
   "cell_type": "code",
   "execution_count": 55,
   "id": "882a56b3",
   "metadata": {},
   "outputs": [
    {
     "data": {
      "text/html": [
       "<pre style='margin: 1em 0 1em 0;'>ModelMetricsRegressionGLM: stackedensemble\n",
       "** Reported on test data. **\n",
       "\n",
       "MSE: 12.95586397727004\n",
       "RMSE: 3.599425506559351\n",
       "MAE: 2.6254323414685508\n",
       "RMSLE: NaN\n",
       "Mean Residual Deviance: 12.95586397727004\n",
       "R^2: 0.6928718986393632\n",
       "Null degrees of freedom: 99751\n",
       "Residual degrees of freedom: 99744\n",
       "Null deviance: 4207990.207277003\n",
       "Residual deviance: 1292373.343460641\n",
       "AIC: 538621.4993431194</pre>"
      ],
      "text/plain": [
       "ModelMetricsRegressionGLM: stackedensemble\n",
       "** Reported on test data. **\n",
       "\n",
       "MSE: 12.95586397727004\n",
       "RMSE: 3.599425506559351\n",
       "MAE: 2.6254323414685508\n",
       "RMSLE: NaN\n",
       "Mean Residual Deviance: 12.95586397727004\n",
       "R^2: 0.6928718986393632\n",
       "Null degrees of freedom: 99751\n",
       "Residual degrees of freedom: 99744\n",
       "Null deviance: 4207990.207277003\n",
       "Residual deviance: 1292373.343460641\n",
       "AIC: 538621.4993431194"
      ]
     },
     "execution_count": 55,
     "metadata": {},
     "output_type": "execute_result"
    }
   ],
   "source": [
    "perf_duration"
   ]
  },
  {
   "cell_type": "markdown",
   "id": "ebea3a51",
   "metadata": {},
   "source": [
    "### Modelo de duracion de precio"
   ]
  },
  {
   "cell_type": "markdown",
   "id": "8ccdbf5f",
   "metadata": {},
   "source": [
    "#### Top 10 modelos"
   ]
  },
  {
   "cell_type": "code",
   "execution_count": 61,
   "id": "1d1acd0e",
   "metadata": {},
   "outputs": [
    {
     "data": {
      "text/html": [
       "<table class='dataframe'>\n",
       "<thead>\n",
       "<tr><th>model_id                                              </th><th style=\"text-align: right;\">   rmse</th><th style=\"text-align: right;\">    mse</th><th style=\"text-align: right;\">    mae</th><th style=\"text-align: right;\">     rmsle</th><th style=\"text-align: right;\">  mean_residual_deviance</th></tr>\n",
       "</thead>\n",
       "<tbody>\n",
       "<tr><td>StackedEnsemble_AllModels_1_AutoML_2_20250713_43757   </td><td style=\"text-align: right;\">1.5812 </td><td style=\"text-align: right;\">2.50019</td><td style=\"text-align: right;\">1.1148 </td><td style=\"text-align: right;\">  0.149433</td><td style=\"text-align: right;\">                 2.50019</td></tr>\n",
       "<tr><td>StackedEnsemble_BestOfFamily_1_AutoML_2_20250713_43757</td><td style=\"text-align: right;\">1.5971 </td><td style=\"text-align: right;\">2.55072</td><td style=\"text-align: right;\">1.13166</td><td style=\"text-align: right;\">nan       </td><td style=\"text-align: right;\">                 2.55072</td></tr>\n",
       "<tr><td>XGBoost_3_AutoML_2_20250713_43757                     </td><td style=\"text-align: right;\">1.60858</td><td style=\"text-align: right;\">2.58754</td><td style=\"text-align: right;\">1.13743</td><td style=\"text-align: right;\">nan       </td><td style=\"text-align: right;\">                 2.58754</td></tr>\n",
       "<tr><td>GBM_4_AutoML_2_20250713_43757                         </td><td style=\"text-align: right;\">1.61126</td><td style=\"text-align: right;\">2.59614</td><td style=\"text-align: right;\">1.14467</td><td style=\"text-align: right;\">  0.152534</td><td style=\"text-align: right;\">                 2.59614</td></tr>\n",
       "<tr><td>XGBoost_2_AutoML_2_20250713_43757                     </td><td style=\"text-align: right;\">1.61142</td><td style=\"text-align: right;\">2.59667</td><td style=\"text-align: right;\">1.13541</td><td style=\"text-align: right;\">nan       </td><td style=\"text-align: right;\">                 2.59667</td></tr>\n",
       "<tr><td>XGBoost_grid_1_AutoML_2_20250713_43757_model_2        </td><td style=\"text-align: right;\">1.61164</td><td style=\"text-align: right;\">2.59739</td><td style=\"text-align: right;\">1.13345</td><td style=\"text-align: right;\">  0.152078</td><td style=\"text-align: right;\">                 2.59739</td></tr>\n",
       "<tr><td>GBM_1_AutoML_2_20250713_43757                         </td><td style=\"text-align: right;\">1.62248</td><td style=\"text-align: right;\">2.63244</td><td style=\"text-align: right;\">1.15017</td><td style=\"text-align: right;\">  0.152669</td><td style=\"text-align: right;\">                 2.63244</td></tr>\n",
       "<tr><td>GBM_3_AutoML_2_20250713_43757                         </td><td style=\"text-align: right;\">1.62752</td><td style=\"text-align: right;\">2.64881</td><td style=\"text-align: right;\">1.15992</td><td style=\"text-align: right;\">nan       </td><td style=\"text-align: right;\">                 2.64881</td></tr>\n",
       "<tr><td>XGBoost_grid_1_AutoML_2_20250713_43757_model_1        </td><td style=\"text-align: right;\">1.6369 </td><td style=\"text-align: right;\">2.67943</td><td style=\"text-align: right;\">1.16333</td><td style=\"text-align: right;\">  0.154895</td><td style=\"text-align: right;\">                 2.67943</td></tr>\n",
       "<tr><td>GBM_2_AutoML_2_20250713_43757                         </td><td style=\"text-align: right;\">1.63838</td><td style=\"text-align: right;\">2.6843 </td><td style=\"text-align: right;\">1.16955</td><td style=\"text-align: right;\">nan       </td><td style=\"text-align: right;\">                 2.6843 </td></tr>\n",
       "</tbody>\n",
       "</table><pre style='font-size: smaller; margin-bottom: 1em;'>[10 rows x 6 columns]</pre>"
      ],
      "text/plain": [
       "model_id                                                   rmse      mse      mae       rmsle    mean_residual_deviance\n",
       "------------------------------------------------------  -------  -------  -------  ----------  ------------------------\n",
       "StackedEnsemble_AllModels_1_AutoML_2_20250713_43757     1.5812   2.50019  1.1148     0.149433                   2.50019\n",
       "StackedEnsemble_BestOfFamily_1_AutoML_2_20250713_43757  1.5971   2.55072  1.13166  nan                          2.55072\n",
       "XGBoost_3_AutoML_2_20250713_43757                       1.60858  2.58754  1.13743  nan                          2.58754\n",
       "GBM_4_AutoML_2_20250713_43757                           1.61126  2.59614  1.14467    0.152534                   2.59614\n",
       "XGBoost_2_AutoML_2_20250713_43757                       1.61142  2.59667  1.13541  nan                          2.59667\n",
       "XGBoost_grid_1_AutoML_2_20250713_43757_model_2          1.61164  2.59739  1.13345    0.152078                   2.59739\n",
       "GBM_1_AutoML_2_20250713_43757                           1.62248  2.63244  1.15017    0.152669                   2.63244\n",
       "GBM_3_AutoML_2_20250713_43757                           1.62752  2.64881  1.15992  nan                          2.64881\n",
       "XGBoost_grid_1_AutoML_2_20250713_43757_model_1          1.6369   2.67943  1.16333    0.154895                   2.67943\n",
       "GBM_2_AutoML_2_20250713_43757                           1.63838  2.6843   1.16955  nan                          2.6843\n",
       "[10 rows x 6 columns]\n"
      ]
     },
     "execution_count": 61,
     "metadata": {},
     "output_type": "execute_result"
    }
   ],
   "source": [
    "aml_fare.leaderboard.head(10)"
   ]
  },
  {
   "cell_type": "code",
   "execution_count": 56,
   "id": "8d22ae27",
   "metadata": {},
   "outputs": [
    {
     "data": {
      "text/html": [
       "<pre style='margin: 1em 0 1em 0;'>Model Details\n",
       "=============\n",
       "H2OStackedEnsembleEstimator : Stacked Ensemble\n",
       "Model Key: StackedEnsemble_AllModels_1_AutoML_2_20250713_43757\n",
       "</pre>\n",
       "<div style='margin: 1em 0 1em 0;'>\n",
       "<style>\n",
       "\n",
       "#h2o-table-13.h2o-container {\n",
       "  overflow-x: auto;\n",
       "}\n",
       "#h2o-table-13 .h2o-table {\n",
       "  /* width: 100%; */\n",
       "  margin-top: 1em;\n",
       "  margin-bottom: 1em;\n",
       "}\n",
       "#h2o-table-13 .h2o-table caption {\n",
       "  white-space: nowrap;\n",
       "  caption-side: top;\n",
       "  text-align: left;\n",
       "  /* margin-left: 1em; */\n",
       "  margin: 0;\n",
       "  font-size: larger;\n",
       "}\n",
       "#h2o-table-13 .h2o-table thead {\n",
       "  white-space: nowrap; \n",
       "  position: sticky;\n",
       "  top: 0;\n",
       "  box-shadow: 0 -1px inset;\n",
       "}\n",
       "#h2o-table-13 .h2o-table tbody {\n",
       "  overflow: auto;\n",
       "}\n",
       "#h2o-table-13 .h2o-table th,\n",
       "#h2o-table-13 .h2o-table td {\n",
       "  text-align: right;\n",
       "  /* border: 1px solid; */\n",
       "}\n",
       "#h2o-table-13 .h2o-table tr:nth-child(even) {\n",
       "  /* background: #F5F5F5 */\n",
       "}\n",
       "\n",
       "</style>      \n",
       "<div id=\"h2o-table-13\" class=\"h2o-container\">\n",
       "  <table class=\"h2o-table\">\n",
       "    <caption>Model Summary for Stacked Ensemble: </caption>\n",
       "    <thead><tr><th>key</th>\n",
       "<th>value</th></tr></thead>\n",
       "    <tbody><tr><td>Stacking strategy</td>\n",
       "<td>cross_validation</td></tr>\n",
       "<tr><td>Number of base models (used / total)</td>\n",
       "<td>6/20</td></tr>\n",
       "<tr><td># GBM base models (used / total)</td>\n",
       "<td>2/7</td></tr>\n",
       "<tr><td># XGBoost base models (used / total)</td>\n",
       "<td>4/6</td></tr>\n",
       "<tr><td># DRF base models (used / total)</td>\n",
       "<td>0/2</td></tr>\n",
       "<tr><td># DeepLearning base models (used / total)</td>\n",
       "<td>0/4</td></tr>\n",
       "<tr><td># GLM base models (used / total)</td>\n",
       "<td>0/1</td></tr>\n",
       "<tr><td>Metalearner algorithm</td>\n",
       "<td>GLM</td></tr>\n",
       "<tr><td>Metalearner fold assignment scheme</td>\n",
       "<td>Random</td></tr>\n",
       "<tr><td>Metalearner nfolds</td>\n",
       "<td>5</td></tr>\n",
       "<tr><td>Metalearner fold_column</td>\n",
       "<td>None</td></tr>\n",
       "<tr><td>Custom metalearner hyperparameters</td>\n",
       "<td>None</td></tr></tbody>\n",
       "  </table>\n",
       "</div>\n",
       "</div>\n",
       "<div style='margin: 1em 0 1em 0;'><pre style='margin: 1em 0 1em 0;'>ModelMetricsRegressionGLM: stackedensemble\n",
       "** Reported on train data. **\n",
       "\n",
       "MSE: 1.9306098229740964\n",
       "RMSE: 1.3894638617013746\n",
       "MAE: 1.0073149110078183\n",
       "RMSLE: 0.1298970241744319\n",
       "Mean Residual Deviance: 1.9306098229740964\n",
       "R^2: 0.910250350299809\n",
       "Null degrees of freedom: 9841\n",
       "Residual degrees of freedom: 9835\n",
       "Null deviance: 211711.82303369913\n",
       "Residual deviance: 19001.061877711058\n",
       "AIC: 34420.80724630928</pre></div>\n",
       "<div style='margin: 1em 0 1em 0;'><pre style='margin: 1em 0 1em 0;'>ModelMetricsRegressionGLM: stackedensemble\n",
       "** Reported on validation data. **\n",
       "\n",
       "MSE: 2.483005116348461\n",
       "RMSE: 1.5757554113340246\n",
       "MAE: 1.1102710024483144\n",
       "RMSLE: 0.1480079827787611\n",
       "Mean Residual Deviance: 2.483005116348461\n",
       "R^2: 0.8849501391222914\n",
       "Null degrees of freedom: 99751\n",
       "Residual degrees of freedom: 99745\n",
       "Null deviance: 2152881.3691191887\n",
       "Residual deviance: 247684.7263659917\n",
       "AIC: 373821.3213833343</pre></div>\n",
       "<div style='margin: 1em 0 1em 0;'><pre style='margin: 1em 0 1em 0;'>ModelMetricsRegressionGLM: stackedensemble\n",
       "** Reported on cross-validation data. **\n",
       "\n",
       "MSE: 2.500188580516901\n",
       "RMSE: 1.5811984633552174\n",
       "MAE: 1.1148034371381266\n",
       "RMSLE: 0.14943296092957992\n",
       "Mean Residual Deviance: 2.500188580516901\n",
       "R^2: 0.883592971405354\n",
       "Null degrees of freedom: 400183\n",
       "Residual degrees of freedom: 400177\n",
       "Null deviance: 8595213.894143594\n",
       "Residual deviance: 1000535.4669055755\n",
       "AIC: 1502404.0718120448</pre></div>\n",
       "<div style='margin: 1em 0 1em 0;'>\n",
       "<style>\n",
       "\n",
       "#h2o-table-14.h2o-container {\n",
       "  overflow-x: auto;\n",
       "}\n",
       "#h2o-table-14 .h2o-table {\n",
       "  /* width: 100%; */\n",
       "  margin-top: 1em;\n",
       "  margin-bottom: 1em;\n",
       "}\n",
       "#h2o-table-14 .h2o-table caption {\n",
       "  white-space: nowrap;\n",
       "  caption-side: top;\n",
       "  text-align: left;\n",
       "  /* margin-left: 1em; */\n",
       "  margin: 0;\n",
       "  font-size: larger;\n",
       "}\n",
       "#h2o-table-14 .h2o-table thead {\n",
       "  white-space: nowrap; \n",
       "  position: sticky;\n",
       "  top: 0;\n",
       "  box-shadow: 0 -1px inset;\n",
       "}\n",
       "#h2o-table-14 .h2o-table tbody {\n",
       "  overflow: auto;\n",
       "}\n",
       "#h2o-table-14 .h2o-table th,\n",
       "#h2o-table-14 .h2o-table td {\n",
       "  text-align: right;\n",
       "  /* border: 1px solid; */\n",
       "}\n",
       "#h2o-table-14 .h2o-table tr:nth-child(even) {\n",
       "  /* background: #F5F5F5 */\n",
       "}\n",
       "\n",
       "</style>      \n",
       "<div id=\"h2o-table-14\" class=\"h2o-container\">\n",
       "  <table class=\"h2o-table\">\n",
       "    <caption>Cross-Validation Metrics Summary: </caption>\n",
       "    <thead><tr><th></th>\n",
       "<th>mean</th>\n",
       "<th>sd</th>\n",
       "<th>cv_1_valid</th>\n",
       "<th>cv_2_valid</th>\n",
       "<th>cv_3_valid</th>\n",
       "<th>cv_4_valid</th>\n",
       "<th>cv_5_valid</th></tr></thead>\n",
       "    <tbody><tr><td>aic</td>\n",
       "<td>300483.06</td>\n",
       "<td>908.137</td>\n",
       "<td>299637.44</td>\n",
       "<td>301566.5</td>\n",
       "<td>299441.84</td>\n",
       "<td>300923.44</td>\n",
       "<td>300846.2</td></tr>\n",
       "<tr><td>loglikelihood</td>\n",
       "<td>0.0</td>\n",
       "<td>0.0</td>\n",
       "<td>0.0</td>\n",
       "<td>0.0</td>\n",
       "<td>0.0</td>\n",
       "<td>0.0</td>\n",
       "<td>0.0</td></tr>\n",
       "<tr><td>mae</td>\n",
       "<td>1.1149954</td>\n",
       "<td>0.0043171</td>\n",
       "<td>1.1112424</td>\n",
       "<td>1.1200022</td>\n",
       "<td>1.1097572</td>\n",
       "<td>1.117094</td>\n",
       "<td>1.1168813</td></tr>\n",
       "<tr><td>mean_residual_deviance</td>\n",
       "<td>2.4999793</td>\n",
       "<td>0.0340395</td>\n",
       "<td>2.4722905</td>\n",
       "<td>2.536046</td>\n",
       "<td>2.4617684</td>\n",
       "<td>2.5330918</td>\n",
       "<td>2.4966996</td></tr>\n",
       "<tr><td>mse</td>\n",
       "<td>2.4999793</td>\n",
       "<td>0.0340395</td>\n",
       "<td>2.4722905</td>\n",
       "<td>2.536046</td>\n",
       "<td>2.4617684</td>\n",
       "<td>2.5330918</td>\n",
       "<td>2.4966996</td></tr>\n",
       "<tr><td>null_deviance</td>\n",
       "<td>1719042.8</td>\n",
       "<td>18513.92</td>\n",
       "<td>1711931.5</td>\n",
       "<td>1743487.4</td>\n",
       "<td>1727206.8</td>\n",
       "<td>1693424.6</td>\n",
       "<td>1719163.6</td></tr>\n",
       "<tr><td>r2</td>\n",
       "<td>0.8835914</td>\n",
       "<td>0.0019498</td>\n",
       "<td>0.8843983</td>\n",
       "<td>0.8836027</td>\n",
       "<td>0.8858523</td>\n",
       "<td>0.8805182</td>\n",
       "<td>0.8835856</td></tr>\n",
       "<tr><td>residual_deviance</td>\n",
       "<td>200088.58</td>\n",
       "<td>2570.8687</td>\n",
       "<td>197901.92</td>\n",
       "<td>202929.33</td>\n",
       "<td>197155.64</td>\n",
       "<td>202320.58</td>\n",
       "<td>200135.44</td></tr>\n",
       "<tr><td>rmse</td>\n",
       "<td>1.581103</td>\n",
       "<td>0.0107631</td>\n",
       "<td>1.5723519</td>\n",
       "<td>1.5924968</td>\n",
       "<td>1.5690023</td>\n",
       "<td>1.591569</td>\n",
       "<td>1.5800948</td></tr>\n",
       "<tr><td>rmsle</td>\n",
       "<td>0.1494287</td>\n",
       "<td>0.0020970</td>\n",
       "<td>0.1481289</td>\n",
       "<td>0.1499478</td>\n",
       "<td>0.1477635</td>\n",
       "<td>0.1528727</td>\n",
       "<td>0.1484308</td></tr></tbody>\n",
       "  </table>\n",
       "</div>\n",
       "</div><pre style=\"font-size: smaller; margin: 1em 0 0 0;\">\n",
       "\n",
       "[tips]\n",
       "Use `model.explain()` to inspect the model.\n",
       "--\n",
       "Use `h2o.display.toggle_user_tips()` to switch on/off this section.</pre>"
      ],
      "text/plain": [
       "Model Details\n",
       "=============\n",
       "H2OStackedEnsembleEstimator : Stacked Ensemble\n",
       "Model Key: StackedEnsemble_AllModels_1_AutoML_2_20250713_43757\n",
       "\n",
       "\n",
       "Model Summary for Stacked Ensemble: \n",
       "key                                        value\n",
       "-----------------------------------------  ----------------\n",
       "Stacking strategy                          cross_validation\n",
       "Number of base models (used / total)       6/20\n",
       "# GBM base models (used / total)           2/7\n",
       "# XGBoost base models (used / total)       4/6\n",
       "# DRF base models (used / total)           0/2\n",
       "# DeepLearning base models (used / total)  0/4\n",
       "# GLM base models (used / total)           0/1\n",
       "Metalearner algorithm                      GLM\n",
       "Metalearner fold assignment scheme         Random\n",
       "Metalearner nfolds                         5\n",
       "Metalearner fold_column\n",
       "Custom metalearner hyperparameters         None\n",
       "\n",
       "ModelMetricsRegressionGLM: stackedensemble\n",
       "** Reported on train data. **\n",
       "\n",
       "MSE: 1.9306098229740964\n",
       "RMSE: 1.3894638617013746\n",
       "MAE: 1.0073149110078183\n",
       "RMSLE: 0.1298970241744319\n",
       "Mean Residual Deviance: 1.9306098229740964\n",
       "R^2: 0.910250350299809\n",
       "Null degrees of freedom: 9841\n",
       "Residual degrees of freedom: 9835\n",
       "Null deviance: 211711.82303369913\n",
       "Residual deviance: 19001.061877711058\n",
       "AIC: 34420.80724630928\n",
       "\n",
       "ModelMetricsRegressionGLM: stackedensemble\n",
       "** Reported on validation data. **\n",
       "\n",
       "MSE: 2.483005116348461\n",
       "RMSE: 1.5757554113340246\n",
       "MAE: 1.1102710024483144\n",
       "RMSLE: 0.1480079827787611\n",
       "Mean Residual Deviance: 2.483005116348461\n",
       "R^2: 0.8849501391222914\n",
       "Null degrees of freedom: 99751\n",
       "Residual degrees of freedom: 99745\n",
       "Null deviance: 2152881.3691191887\n",
       "Residual deviance: 247684.7263659917\n",
       "AIC: 373821.3213833343\n",
       "\n",
       "ModelMetricsRegressionGLM: stackedensemble\n",
       "** Reported on cross-validation data. **\n",
       "\n",
       "MSE: 2.500188580516901\n",
       "RMSE: 1.5811984633552174\n",
       "MAE: 1.1148034371381266\n",
       "RMSLE: 0.14943296092957992\n",
       "Mean Residual Deviance: 2.500188580516901\n",
       "R^2: 0.883592971405354\n",
       "Null degrees of freedom: 400183\n",
       "Residual degrees of freedom: 400177\n",
       "Null deviance: 8595213.894143594\n",
       "Residual deviance: 1000535.4669055755\n",
       "AIC: 1502404.0718120448\n",
       "\n",
       "Cross-Validation Metrics Summary: \n",
       "                        mean         sd          cv_1_valid    cv_2_valid    cv_3_valid    cv_4_valid    cv_5_valid\n",
       "----------------------  -----------  ----------  ------------  ------------  ------------  ------------  ------------\n",
       "aic                     300483       908.137     299637        301566        299442        300923        300846\n",
       "loglikelihood           0            0           0             0             0             0             0\n",
       "mae                     1.115        0.00431715  1.11124       1.12          1.10976       1.11709       1.11688\n",
       "mean_residual_deviance  2.49998      0.0340395   2.47229       2.53605       2.46177       2.53309       2.4967\n",
       "mse                     2.49998      0.0340395   2.47229       2.53605       2.46177       2.53309       2.4967\n",
       "null_deviance           1.71904e+06  18513.9     1.71193e+06   1.74349e+06   1.72721e+06   1.69342e+06   1.71916e+06\n",
       "r2                      0.883591     0.00194982  0.884398      0.883603      0.885852      0.880518      0.883586\n",
       "residual_deviance       200089       2570.87     197902        202929        197156        202321        200135\n",
       "rmse                    1.5811       0.0107631   1.57235       1.5925        1.569         1.59157       1.58009\n",
       "rmsle                   0.149429     0.00209696  0.148129      0.149948      0.147763      0.152873      0.148431\n",
       "\n",
       "[tips]\n",
       "Use `model.explain()` to inspect the model.\n",
       "--\n",
       "Use `h2o.display.toggle_user_tips()` to switch on/off this section."
      ]
     },
     "execution_count": 56,
     "metadata": {},
     "output_type": "execute_result"
    }
   ],
   "source": [
    "fare_model"
   ]
  },
  {
   "cell_type": "markdown",
   "id": "d019bfee",
   "metadata": {},
   "source": [
    "##### Modelo con mejor rendimiento"
   ]
  },
  {
   "cell_type": "code",
   "execution_count": 64,
   "id": "95457624",
   "metadata": {},
   "outputs": [
    {
     "data": {
      "text/plain": [
       "'StackedEnsemble_AllModels_1_AutoML_2_20250713_43757'"
      ]
     },
     "execution_count": 64,
     "metadata": {},
     "output_type": "execute_result"
    }
   ],
   "source": [
    "fare_model.model_id"
   ]
  },
  {
   "cell_type": "markdown",
   "id": "83abe7c3",
   "metadata": {},
   "source": [
    "##### Metricas"
   ]
  },
  {
   "cell_type": "code",
   "execution_count": 57,
   "id": "c19972bd",
   "metadata": {},
   "outputs": [
    {
     "name": "stdout",
     "output_type": "stream",
     "text": [
      "Fare Amount RMSE: 1.5757554113340246\n"
     ]
    }
   ],
   "source": [
    "perf_fare = fare_model.model_performance(valid)\n",
    "print('Fare Amount RMSE:', perf_fare.rmse())"
   ]
  },
  {
   "cell_type": "code",
   "execution_count": 58,
   "id": "48ae245f",
   "metadata": {},
   "outputs": [
    {
     "data": {
      "text/html": [
       "<pre style='margin: 1em 0 1em 0;'>ModelMetricsRegressionGLM: stackedensemble\n",
       "** Reported on test data. **\n",
       "\n",
       "MSE: 2.483005116348461\n",
       "RMSE: 1.5757554113340246\n",
       "MAE: 1.1102710024483144\n",
       "RMSLE: 0.1480079827787611\n",
       "Mean Residual Deviance: 2.483005116348461\n",
       "R^2: 0.8849501391222914\n",
       "Null degrees of freedom: 99751\n",
       "Residual degrees of freedom: 99745\n",
       "Null deviance: 2152881.3691191887\n",
       "Residual deviance: 247684.7263659917\n",
       "AIC: 373821.3213833343</pre>"
      ],
      "text/plain": [
       "ModelMetricsRegressionGLM: stackedensemble\n",
       "** Reported on test data. **\n",
       "\n",
       "MSE: 2.483005116348461\n",
       "RMSE: 1.5757554113340246\n",
       "MAE: 1.1102710024483144\n",
       "RMSLE: 0.1480079827787611\n",
       "Mean Residual Deviance: 2.483005116348461\n",
       "R^2: 0.8849501391222914\n",
       "Null degrees of freedom: 99751\n",
       "Residual degrees of freedom: 99745\n",
       "Null deviance: 2152881.3691191887\n",
       "Residual deviance: 247684.7263659917\n",
       "AIC: 373821.3213833343"
      ]
     },
     "execution_count": 58,
     "metadata": {},
     "output_type": "execute_result"
    }
   ],
   "source": [
    "perf_fare"
   ]
  }
 ],
 "metadata": {
  "kernelspec": {
   "display_name": "BigData-TF",
   "language": "python",
   "name": "python3"
  },
  "language_info": {
   "codemirror_mode": {
    "name": "ipython",
    "version": 3
   },
   "file_extension": ".py",
   "mimetype": "text/x-python",
   "name": "python",
   "nbconvert_exporter": "python",
   "pygments_lexer": "ipython3",
   "version": "3.11.0"
  }
 },
 "nbformat": 4,
 "nbformat_minor": 5
}
