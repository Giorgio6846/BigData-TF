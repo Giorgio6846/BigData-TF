{
 "cells": [
  {
   "cell_type": "code",
   "execution_count": 33,
   "id": "7da46c85",
   "metadata": {},
   "outputs": [],
   "source": [
    "import os\n",
    "import kagglehub\n",
    "import pandas as pd"
   ]
  },
  {
   "cell_type": "markdown",
   "id": "02547f18",
   "metadata": {},
   "source": [
    "# Descarga de dataset Kaggle"
   ]
  },
  {
   "cell_type": "code",
   "execution_count": 34,
   "id": "513b932a",
   "metadata": {},
   "outputs": [
    {
     "name": "stdout",
     "output_type": "stream",
     "text": [
      "Dataset downloaded to: /home/giorgio6846/.cache/kagglehub/datasets/elemento/nyc-yellow-taxi-trip-data/versions/2\n"
     ]
    },
    {
     "data": {
      "text/plain": [
       "['yellow_tripdata_2016-02.csv',\n",
       " 'yellow_tripdata_2016-03.csv',\n",
       " 'yellow_tripdata_2016-01.csv',\n",
       " 'yellow_tripdata_2015-01.csv']"
      ]
     },
     "execution_count": 34,
     "metadata": {},
     "output_type": "execute_result"
    }
   ],
   "source": [
    "path = kagglehub.dataset_download(\"elemento/nyc-yellow-taxi-trip-data\")\n",
    "print(\"Dataset downloaded to:\", path)\n",
    "os.listdir(path)"
   ]
  },
  {
   "cell_type": "code",
   "execution_count": 35,
   "id": "c3c69230",
   "metadata": {},
   "outputs": [
    {
     "name": "stdout",
     "output_type": "stream",
     "text": [
      "Cargando datos: /home/giorgio6846/.cache/kagglehub/datasets/elemento/nyc-yellow-taxi-trip-data/versions/2/yellow_tripdata_2016-02.csv\n",
      "Cargando datos: /home/giorgio6846/.cache/kagglehub/datasets/elemento/nyc-yellow-taxi-trip-data/versions/2/yellow_tripdata_2016-03.csv\n",
      "Cargando datos: /home/giorgio6846/.cache/kagglehub/datasets/elemento/nyc-yellow-taxi-trip-data/versions/2/yellow_tripdata_2016-01.csv\n",
      "Cargando datos: /home/giorgio6846/.cache/kagglehub/datasets/elemento/nyc-yellow-taxi-trip-data/versions/2/yellow_tripdata_2015-01.csv\n",
      "['processed', 'yellow_tripdata_2016-02.csv', 'yellow_tripdata_2016-03.csv', 'yellow_tripdata_2016-01.csv', 'yellow_tripdata_2015-01.csv']\n"
     ]
    }
   ],
   "source": [
    "import shutil\n",
    "\n",
    "for file in os.listdir(path):\n",
    "    kaggle_path = os.path.join(path, file)\n",
    "    print(\"Cargando datos:\", kaggle_path)\n",
    "\n",
    "    smb_dir = (\n",
    "        \"/mnt/sambashare/BigData-DATA/TF\"\n",
    "    )\n",
    "\n",
    "    source = os.path.join(path, file)\n",
    "    dest = os.path.join(smb_dir, file)\n",
    "    \n",
    "    os.makedirs(smb_dir, exist_ok=True)\n",
    "    smb_path = os.path.join(smb_dir, file)\n",
    "    if not os.path.exists(dest):\n",
    "        shutil.copy2(source, dest)\n",
    "    \n",
    "print(os.listdir(smb_dir))"
   ]
  },
  {
   "cell_type": "markdown",
   "id": "53b2a9d2",
   "metadata": {},
   "source": [
    "# Carga de datos"
   ]
  },
  {
   "cell_type": "code",
   "execution_count": 36,
   "id": "1d50c96d",
   "metadata": {},
   "outputs": [
    {
     "name": "stdout",
     "output_type": "stream",
     "text": [
      "(12210952, 19)\n"
     ]
    },
    {
     "data": {
      "application/vnd.microsoft.datawrangler.viewer.v0+json": {
       "columns": [
        {
         "name": "index",
         "rawType": "object",
         "type": "string"
        },
        {
         "name": "VendorID",
         "rawType": "float64",
         "type": "float"
        },
        {
         "name": "tpep_pickup_datetime",
         "rawType": "object",
         "type": "unknown"
        },
        {
         "name": "tpep_dropoff_datetime",
         "rawType": "object",
         "type": "unknown"
        },
        {
         "name": "passenger_count",
         "rawType": "float64",
         "type": "float"
        },
        {
         "name": "trip_distance",
         "rawType": "float64",
         "type": "float"
        },
        {
         "name": "pickup_longitude",
         "rawType": "float64",
         "type": "float"
        },
        {
         "name": "pickup_latitude",
         "rawType": "float64",
         "type": "float"
        },
        {
         "name": "RatecodeID",
         "rawType": "float64",
         "type": "float"
        },
        {
         "name": "dropoff_longitude",
         "rawType": "float64",
         "type": "float"
        },
        {
         "name": "dropoff_latitude",
         "rawType": "float64",
         "type": "float"
        },
        {
         "name": "payment_type",
         "rawType": "float64",
         "type": "float"
        },
        {
         "name": "fare_amount",
         "rawType": "float64",
         "type": "float"
        },
        {
         "name": "extra",
         "rawType": "float64",
         "type": "float"
        },
        {
         "name": "mta_tax",
         "rawType": "float64",
         "type": "float"
        },
        {
         "name": "tip_amount",
         "rawType": "float64",
         "type": "float"
        },
        {
         "name": "tolls_amount",
         "rawType": "float64",
         "type": "float"
        },
        {
         "name": "improvement_surcharge",
         "rawType": "float64",
         "type": "float"
        },
        {
         "name": "total_amount",
         "rawType": "float64",
         "type": "float"
        }
       ],
       "ref": "4f5f05e5-f03f-428b-b5f8-b8bf649daeb7",
       "rows": [
        [
         "count",
         "12210952.0",
         "12210952",
         "12210952",
         "12210952.0",
         "12210952.0",
         "12210952.0",
         "12210952.0",
         "12210952.0",
         "12210952.0",
         "12210952.0",
         "12210952.0",
         "12210952.0",
         "12210952.0",
         "12210952.0",
         "12210952.0",
         "12210952.0",
         "12210952.0",
         "12210952.0"
        ],
        [
         "mean",
         "1.5306474057059598",
         "2016-03-16 09:20:13",
         "2016-03-16 09:35:54",
         "1.659580022917132",
         "6.131769762914472",
         "-72.87132991979787",
         "40.143488980644385",
         "1.0403949667478833",
         "-72.93678872569373",
         "40.180495249545515",
         "1.3409196924203781",
         "12.795078448428919",
         "0.3455599694438239",
         "0.49763632270440505",
         "1.7925818158977285",
         "0.3152554280780073",
         "0.2997199350222652",
         "16.045819674829612"
        ],
        [
         "min",
         "1.0",
         "2016-03-01 00:00:00",
         "2016-02-25 09:45:01",
         "0.0",
         "0.0",
         "-161.69866943359375",
         "0.0",
         "1.0",
         "-161.69866943359375",
         "0.0",
         "1.0",
         "-376.0",
         "-58.5",
         "-1.0",
         "-20.0",
         "-16.04",
         "-0.3",
         "-376.3"
        ],
        [
         "25%",
         "1.0",
         "2016-03-08 17:31:02",
         "2016-03-08 17:47:11",
         "1.0",
         "1.0",
         "-73.99174499511719",
         "40.73630142211914",
         "1.0",
         "-73.99124908447266",
         "40.734622955322266",
         "1.0",
         "6.5",
         "0.0",
         "0.5",
         "0.0",
         "0.0",
         "0.3",
         "8.75"
        ],
        [
         "50%",
         "2.0",
         "2016-03-16 10:37:04",
         "2016-03-16 10:55:05",
         "1.0",
         "1.7",
         "-73.98161315917969",
         "40.75325012207031",
         "1.0",
         "-73.97960662841797",
         "40.753746032714844",
         "1.0",
         "9.5",
         "0.0",
         "0.5",
         "1.35",
         "0.0",
         "0.3",
         "11.8"
        ],
        [
         "75%",
         "2.0",
         "2016-03-24 00:25:02",
         "2016-03-24 00:40:51",
         "2.0",
         "3.18",
         "-73.96678161621094",
         "40.76764678955078",
         "1.0",
         "-73.9622802734375",
         "40.769100189208984",
         "2.0",
         "14.5",
         "0.5",
         "0.5",
         "2.36",
         "0.0",
         "0.3",
         "17.76"
        ],
        [
         "max",
         "2.0",
         "2016-03-31 23:59:59",
         "2016-06-29 15:58:16",
         "9.0",
         "19072628.8",
         "0.0",
         "66.85681915283203",
         "99.0",
         "0.0",
         "50.7978630065918",
         "4.0",
         "429496.72",
         "80.0",
         "79.3",
         "850.0",
         "1410.32",
         "0.3",
         "429562.25"
        ],
        [
         "std",
         "0.4990598730813773",
         null,
         null,
         "1.3121892188373883",
         "6156.4826446948955",
         "8.964107681848231",
         "4.937995857941839",
         "0.5807341657706838",
         "8.696973999100033",
         "4.7909399268384325",
         "0.4902621290950876",
         "134.09792335003755",
         "0.4563068911109069",
         "0.04863318515002659",
         "2.5491241397467577",
         "1.7515260589956743",
         "0.01230646603939548",
         "134.35777288697636"
        ]
       ],
       "shape": {
        "columns": 18,
        "rows": 8
       }
      },
      "text/html": [
       "<div>\n",
       "<style scoped>\n",
       "    .dataframe tbody tr th:only-of-type {\n",
       "        vertical-align: middle;\n",
       "    }\n",
       "\n",
       "    .dataframe tbody tr th {\n",
       "        vertical-align: top;\n",
       "    }\n",
       "\n",
       "    .dataframe thead th {\n",
       "        text-align: right;\n",
       "    }\n",
       "</style>\n",
       "<table border=\"1\" class=\"dataframe\">\n",
       "  <thead>\n",
       "    <tr style=\"text-align: right;\">\n",
       "      <th></th>\n",
       "      <th>VendorID</th>\n",
       "      <th>tpep_pickup_datetime</th>\n",
       "      <th>tpep_dropoff_datetime</th>\n",
       "      <th>passenger_count</th>\n",
       "      <th>trip_distance</th>\n",
       "      <th>pickup_longitude</th>\n",
       "      <th>pickup_latitude</th>\n",
       "      <th>RatecodeID</th>\n",
       "      <th>dropoff_longitude</th>\n",
       "      <th>dropoff_latitude</th>\n",
       "      <th>payment_type</th>\n",
       "      <th>fare_amount</th>\n",
       "      <th>extra</th>\n",
       "      <th>mta_tax</th>\n",
       "      <th>tip_amount</th>\n",
       "      <th>tolls_amount</th>\n",
       "      <th>improvement_surcharge</th>\n",
       "      <th>total_amount</th>\n",
       "    </tr>\n",
       "  </thead>\n",
       "  <tbody>\n",
       "    <tr>\n",
       "      <th>count</th>\n",
       "      <td>1.221095e+07</td>\n",
       "      <td>12210952</td>\n",
       "      <td>12210952</td>\n",
       "      <td>1.221095e+07</td>\n",
       "      <td>1.221095e+07</td>\n",
       "      <td>1.221095e+07</td>\n",
       "      <td>1.221095e+07</td>\n",
       "      <td>1.221095e+07</td>\n",
       "      <td>1.221095e+07</td>\n",
       "      <td>1.221095e+07</td>\n",
       "      <td>1.221095e+07</td>\n",
       "      <td>1.221095e+07</td>\n",
       "      <td>1.221095e+07</td>\n",
       "      <td>1.221095e+07</td>\n",
       "      <td>1.221095e+07</td>\n",
       "      <td>1.221095e+07</td>\n",
       "      <td>1.221095e+07</td>\n",
       "      <td>1.221095e+07</td>\n",
       "    </tr>\n",
       "    <tr>\n",
       "      <th>mean</th>\n",
       "      <td>1.530647e+00</td>\n",
       "      <td>2016-03-16 09:20:13</td>\n",
       "      <td>2016-03-16 09:35:54</td>\n",
       "      <td>1.659580e+00</td>\n",
       "      <td>6.131770e+00</td>\n",
       "      <td>-7.287133e+01</td>\n",
       "      <td>4.014349e+01</td>\n",
       "      <td>1.040395e+00</td>\n",
       "      <td>-7.293679e+01</td>\n",
       "      <td>4.018050e+01</td>\n",
       "      <td>1.340920e+00</td>\n",
       "      <td>1.279508e+01</td>\n",
       "      <td>3.455600e-01</td>\n",
       "      <td>4.976363e-01</td>\n",
       "      <td>1.792582e+00</td>\n",
       "      <td>3.152554e-01</td>\n",
       "      <td>2.997199e-01</td>\n",
       "      <td>1.604582e+01</td>\n",
       "    </tr>\n",
       "    <tr>\n",
       "      <th>min</th>\n",
       "      <td>1.000000e+00</td>\n",
       "      <td>2016-03-01 00:00:00</td>\n",
       "      <td>2016-02-25 09:45:01</td>\n",
       "      <td>0.000000e+00</td>\n",
       "      <td>0.000000e+00</td>\n",
       "      <td>-1.616987e+02</td>\n",
       "      <td>0.000000e+00</td>\n",
       "      <td>1.000000e+00</td>\n",
       "      <td>-1.616987e+02</td>\n",
       "      <td>0.000000e+00</td>\n",
       "      <td>1.000000e+00</td>\n",
       "      <td>-3.760000e+02</td>\n",
       "      <td>-5.850000e+01</td>\n",
       "      <td>-1.000000e+00</td>\n",
       "      <td>-2.000000e+01</td>\n",
       "      <td>-1.604000e+01</td>\n",
       "      <td>-3.000000e-01</td>\n",
       "      <td>-3.763000e+02</td>\n",
       "    </tr>\n",
       "    <tr>\n",
       "      <th>25%</th>\n",
       "      <td>1.000000e+00</td>\n",
       "      <td>2016-03-08 17:31:02</td>\n",
       "      <td>2016-03-08 17:47:11</td>\n",
       "      <td>1.000000e+00</td>\n",
       "      <td>1.000000e+00</td>\n",
       "      <td>-7.399174e+01</td>\n",
       "      <td>4.073630e+01</td>\n",
       "      <td>1.000000e+00</td>\n",
       "      <td>-7.399125e+01</td>\n",
       "      <td>4.073462e+01</td>\n",
       "      <td>1.000000e+00</td>\n",
       "      <td>6.500000e+00</td>\n",
       "      <td>0.000000e+00</td>\n",
       "      <td>5.000000e-01</td>\n",
       "      <td>0.000000e+00</td>\n",
       "      <td>0.000000e+00</td>\n",
       "      <td>3.000000e-01</td>\n",
       "      <td>8.750000e+00</td>\n",
       "    </tr>\n",
       "    <tr>\n",
       "      <th>50%</th>\n",
       "      <td>2.000000e+00</td>\n",
       "      <td>2016-03-16 10:37:04</td>\n",
       "      <td>2016-03-16 10:55:05</td>\n",
       "      <td>1.000000e+00</td>\n",
       "      <td>1.700000e+00</td>\n",
       "      <td>-7.398161e+01</td>\n",
       "      <td>4.075325e+01</td>\n",
       "      <td>1.000000e+00</td>\n",
       "      <td>-7.397961e+01</td>\n",
       "      <td>4.075375e+01</td>\n",
       "      <td>1.000000e+00</td>\n",
       "      <td>9.500000e+00</td>\n",
       "      <td>0.000000e+00</td>\n",
       "      <td>5.000000e-01</td>\n",
       "      <td>1.350000e+00</td>\n",
       "      <td>0.000000e+00</td>\n",
       "      <td>3.000000e-01</td>\n",
       "      <td>1.180000e+01</td>\n",
       "    </tr>\n",
       "    <tr>\n",
       "      <th>75%</th>\n",
       "      <td>2.000000e+00</td>\n",
       "      <td>2016-03-24 00:25:02</td>\n",
       "      <td>2016-03-24 00:40:51</td>\n",
       "      <td>2.000000e+00</td>\n",
       "      <td>3.180000e+00</td>\n",
       "      <td>-7.396678e+01</td>\n",
       "      <td>4.076765e+01</td>\n",
       "      <td>1.000000e+00</td>\n",
       "      <td>-7.396228e+01</td>\n",
       "      <td>4.076910e+01</td>\n",
       "      <td>2.000000e+00</td>\n",
       "      <td>1.450000e+01</td>\n",
       "      <td>5.000000e-01</td>\n",
       "      <td>5.000000e-01</td>\n",
       "      <td>2.360000e+00</td>\n",
       "      <td>0.000000e+00</td>\n",
       "      <td>3.000000e-01</td>\n",
       "      <td>1.776000e+01</td>\n",
       "    </tr>\n",
       "    <tr>\n",
       "      <th>max</th>\n",
       "      <td>2.000000e+00</td>\n",
       "      <td>2016-03-31 23:59:59</td>\n",
       "      <td>2016-06-29 15:58:16</td>\n",
       "      <td>9.000000e+00</td>\n",
       "      <td>1.907263e+07</td>\n",
       "      <td>0.000000e+00</td>\n",
       "      <td>6.685682e+01</td>\n",
       "      <td>9.900000e+01</td>\n",
       "      <td>0.000000e+00</td>\n",
       "      <td>5.079786e+01</td>\n",
       "      <td>4.000000e+00</td>\n",
       "      <td>4.294967e+05</td>\n",
       "      <td>8.000000e+01</td>\n",
       "      <td>7.930000e+01</td>\n",
       "      <td>8.500000e+02</td>\n",
       "      <td>1.410320e+03</td>\n",
       "      <td>3.000000e-01</td>\n",
       "      <td>4.295622e+05</td>\n",
       "    </tr>\n",
       "    <tr>\n",
       "      <th>std</th>\n",
       "      <td>4.990599e-01</td>\n",
       "      <td>NaN</td>\n",
       "      <td>NaN</td>\n",
       "      <td>1.312189e+00</td>\n",
       "      <td>6.156483e+03</td>\n",
       "      <td>8.964108e+00</td>\n",
       "      <td>4.937996e+00</td>\n",
       "      <td>5.807342e-01</td>\n",
       "      <td>8.696974e+00</td>\n",
       "      <td>4.790940e+00</td>\n",
       "      <td>4.902621e-01</td>\n",
       "      <td>1.340979e+02</td>\n",
       "      <td>4.563069e-01</td>\n",
       "      <td>4.863319e-02</td>\n",
       "      <td>2.549124e+00</td>\n",
       "      <td>1.751526e+00</td>\n",
       "      <td>1.230647e-02</td>\n",
       "      <td>1.343578e+02</td>\n",
       "    </tr>\n",
       "  </tbody>\n",
       "</table>\n",
       "</div>"
      ],
      "text/plain": [
       "           VendorID tpep_pickup_datetime tpep_dropoff_datetime  \\\n",
       "count  1.221095e+07             12210952              12210952   \n",
       "mean   1.530647e+00  2016-03-16 09:20:13   2016-03-16 09:35:54   \n",
       "min    1.000000e+00  2016-03-01 00:00:00   2016-02-25 09:45:01   \n",
       "25%    1.000000e+00  2016-03-08 17:31:02   2016-03-08 17:47:11   \n",
       "50%    2.000000e+00  2016-03-16 10:37:04   2016-03-16 10:55:05   \n",
       "75%    2.000000e+00  2016-03-24 00:25:02   2016-03-24 00:40:51   \n",
       "max    2.000000e+00  2016-03-31 23:59:59   2016-06-29 15:58:16   \n",
       "std    4.990599e-01                  NaN                   NaN   \n",
       "\n",
       "       passenger_count  trip_distance  pickup_longitude  pickup_latitude  \\\n",
       "count     1.221095e+07   1.221095e+07      1.221095e+07     1.221095e+07   \n",
       "mean      1.659580e+00   6.131770e+00     -7.287133e+01     4.014349e+01   \n",
       "min       0.000000e+00   0.000000e+00     -1.616987e+02     0.000000e+00   \n",
       "25%       1.000000e+00   1.000000e+00     -7.399174e+01     4.073630e+01   \n",
       "50%       1.000000e+00   1.700000e+00     -7.398161e+01     4.075325e+01   \n",
       "75%       2.000000e+00   3.180000e+00     -7.396678e+01     4.076765e+01   \n",
       "max       9.000000e+00   1.907263e+07      0.000000e+00     6.685682e+01   \n",
       "std       1.312189e+00   6.156483e+03      8.964108e+00     4.937996e+00   \n",
       "\n",
       "         RatecodeID  dropoff_longitude  dropoff_latitude  payment_type  \\\n",
       "count  1.221095e+07       1.221095e+07      1.221095e+07  1.221095e+07   \n",
       "mean   1.040395e+00      -7.293679e+01      4.018050e+01  1.340920e+00   \n",
       "min    1.000000e+00      -1.616987e+02      0.000000e+00  1.000000e+00   \n",
       "25%    1.000000e+00      -7.399125e+01      4.073462e+01  1.000000e+00   \n",
       "50%    1.000000e+00      -7.397961e+01      4.075375e+01  1.000000e+00   \n",
       "75%    1.000000e+00      -7.396228e+01      4.076910e+01  2.000000e+00   \n",
       "max    9.900000e+01       0.000000e+00      5.079786e+01  4.000000e+00   \n",
       "std    5.807342e-01       8.696974e+00      4.790940e+00  4.902621e-01   \n",
       "\n",
       "        fare_amount         extra       mta_tax    tip_amount  tolls_amount  \\\n",
       "count  1.221095e+07  1.221095e+07  1.221095e+07  1.221095e+07  1.221095e+07   \n",
       "mean   1.279508e+01  3.455600e-01  4.976363e-01  1.792582e+00  3.152554e-01   \n",
       "min   -3.760000e+02 -5.850000e+01 -1.000000e+00 -2.000000e+01 -1.604000e+01   \n",
       "25%    6.500000e+00  0.000000e+00  5.000000e-01  0.000000e+00  0.000000e+00   \n",
       "50%    9.500000e+00  0.000000e+00  5.000000e-01  1.350000e+00  0.000000e+00   \n",
       "75%    1.450000e+01  5.000000e-01  5.000000e-01  2.360000e+00  0.000000e+00   \n",
       "max    4.294967e+05  8.000000e+01  7.930000e+01  8.500000e+02  1.410320e+03   \n",
       "std    1.340979e+02  4.563069e-01  4.863319e-02  2.549124e+00  1.751526e+00   \n",
       "\n",
       "       improvement_surcharge  total_amount  \n",
       "count           1.221095e+07  1.221095e+07  \n",
       "mean            2.997199e-01  1.604582e+01  \n",
       "min            -3.000000e-01 -3.763000e+02  \n",
       "25%             3.000000e-01  8.750000e+00  \n",
       "50%             3.000000e-01  1.180000e+01  \n",
       "75%             3.000000e-01  1.776000e+01  \n",
       "max             3.000000e-01  4.295622e+05  \n",
       "std             1.230647e-02  1.343578e+02  "
      ]
     },
     "execution_count": 36,
     "metadata": {},
     "output_type": "execute_result"
    }
   ],
   "source": [
    "df = pd.read_csv(os.path.join(smb_dir,\"yellow_tripdata_2016-03.csv\"), header=0, sep=\",\", engine='pyarrow')\n",
    "print(df.shape)\n",
    "df.describe()"
   ]
  },
  {
   "cell_type": "markdown",
   "id": "79f733fa",
   "metadata": {},
   "source": [
    "# Preprocesamiento de datos"
   ]
  },
  {
   "cell_type": "markdown",
   "id": "92c9e186",
   "metadata": {},
   "source": [
    "## Remover features"
   ]
  },
  {
   "cell_type": "markdown",
   "id": "cf30bb97",
   "metadata": {},
   "source": [
    "## Descripcion de columnas"
   ]
  },
  {
   "cell_type": "code",
   "execution_count": 37,
   "id": "58593436",
   "metadata": {},
   "outputs": [
    {
     "data": {
      "application/vnd.microsoft.datawrangler.viewer.v0+json": {
       "columns": [
        {
         "name": "index",
         "rawType": "object",
         "type": "string"
        },
        {
         "name": "VendorID",
         "rawType": "float64",
         "type": "float"
        },
        {
         "name": "tpep_pickup_datetime",
         "rawType": "object",
         "type": "unknown"
        },
        {
         "name": "tpep_dropoff_datetime",
         "rawType": "object",
         "type": "unknown"
        },
        {
         "name": "passenger_count",
         "rawType": "float64",
         "type": "float"
        },
        {
         "name": "trip_distance",
         "rawType": "float64",
         "type": "float"
        },
        {
         "name": "pickup_longitude",
         "rawType": "float64",
         "type": "float"
        },
        {
         "name": "pickup_latitude",
         "rawType": "float64",
         "type": "float"
        },
        {
         "name": "RatecodeID",
         "rawType": "float64",
         "type": "float"
        },
        {
         "name": "dropoff_longitude",
         "rawType": "float64",
         "type": "float"
        },
        {
         "name": "dropoff_latitude",
         "rawType": "float64",
         "type": "float"
        },
        {
         "name": "payment_type",
         "rawType": "float64",
         "type": "float"
        },
        {
         "name": "fare_amount",
         "rawType": "float64",
         "type": "float"
        },
        {
         "name": "extra",
         "rawType": "float64",
         "type": "float"
        },
        {
         "name": "mta_tax",
         "rawType": "float64",
         "type": "float"
        },
        {
         "name": "tip_amount",
         "rawType": "float64",
         "type": "float"
        },
        {
         "name": "tolls_amount",
         "rawType": "float64",
         "type": "float"
        },
        {
         "name": "improvement_surcharge",
         "rawType": "float64",
         "type": "float"
        },
        {
         "name": "total_amount",
         "rawType": "float64",
         "type": "float"
        }
       ],
       "ref": "570722d0-e779-465d-860f-4914d4386ae8",
       "rows": [
        [
         "count",
         "12210952.0",
         "12210952",
         "12210952",
         "12210952.0",
         "12210952.0",
         "12210952.0",
         "12210952.0",
         "12210952.0",
         "12210952.0",
         "12210952.0",
         "12210952.0",
         "12210952.0",
         "12210952.0",
         "12210952.0",
         "12210952.0",
         "12210952.0",
         "12210952.0",
         "12210952.0"
        ],
        [
         "mean",
         "1.5306474057059598",
         "2016-03-16 09:20:13",
         "2016-03-16 09:35:54",
         "1.659580022917132",
         "6.131769762914472",
         "-72.87132991979787",
         "40.143488980644385",
         "1.0403949667478833",
         "-72.93678872569373",
         "40.180495249545515",
         "1.3409196924203781",
         "12.795078448428919",
         "0.3455599694438239",
         "0.49763632270440505",
         "1.7925818158977285",
         "0.3152554280780073",
         "0.2997199350222652",
         "16.045819674829612"
        ],
        [
         "min",
         "1.0",
         "2016-03-01 00:00:00",
         "2016-02-25 09:45:01",
         "0.0",
         "0.0",
         "-161.69866943359375",
         "0.0",
         "1.0",
         "-161.69866943359375",
         "0.0",
         "1.0",
         "-376.0",
         "-58.5",
         "-1.0",
         "-20.0",
         "-16.04",
         "-0.3",
         "-376.3"
        ],
        [
         "25%",
         "1.0",
         "2016-03-08 17:31:02",
         "2016-03-08 17:47:11",
         "1.0",
         "1.0",
         "-73.99174499511719",
         "40.73630142211914",
         "1.0",
         "-73.99124908447266",
         "40.734622955322266",
         "1.0",
         "6.5",
         "0.0",
         "0.5",
         "0.0",
         "0.0",
         "0.3",
         "8.75"
        ],
        [
         "50%",
         "2.0",
         "2016-03-16 10:37:04",
         "2016-03-16 10:55:05",
         "1.0",
         "1.7",
         "-73.98161315917969",
         "40.75325012207031",
         "1.0",
         "-73.97960662841797",
         "40.753746032714844",
         "1.0",
         "9.5",
         "0.0",
         "0.5",
         "1.35",
         "0.0",
         "0.3",
         "11.8"
        ],
        [
         "75%",
         "2.0",
         "2016-03-24 00:25:02",
         "2016-03-24 00:40:51",
         "2.0",
         "3.18",
         "-73.96678161621094",
         "40.76764678955078",
         "1.0",
         "-73.9622802734375",
         "40.769100189208984",
         "2.0",
         "14.5",
         "0.5",
         "0.5",
         "2.36",
         "0.0",
         "0.3",
         "17.76"
        ],
        [
         "max",
         "2.0",
         "2016-03-31 23:59:59",
         "2016-06-29 15:58:16",
         "9.0",
         "19072628.8",
         "0.0",
         "66.85681915283203",
         "99.0",
         "0.0",
         "50.7978630065918",
         "4.0",
         "429496.72",
         "80.0",
         "79.3",
         "850.0",
         "1410.32",
         "0.3",
         "429562.25"
        ],
        [
         "std",
         "0.4990598730813773",
         null,
         null,
         "1.3121892188373883",
         "6156.4826446948955",
         "8.964107681848231",
         "4.937995857941839",
         "0.5807341657706838",
         "8.696973999100033",
         "4.7909399268384325",
         "0.4902621290950876",
         "134.09792335003755",
         "0.4563068911109069",
         "0.04863318515002659",
         "2.5491241397467577",
         "1.7515260589956743",
         "0.01230646603939548",
         "134.35777288697636"
        ]
       ],
       "shape": {
        "columns": 18,
        "rows": 8
       }
      },
      "text/html": [
       "<div>\n",
       "<style scoped>\n",
       "    .dataframe tbody tr th:only-of-type {\n",
       "        vertical-align: middle;\n",
       "    }\n",
       "\n",
       "    .dataframe tbody tr th {\n",
       "        vertical-align: top;\n",
       "    }\n",
       "\n",
       "    .dataframe thead th {\n",
       "        text-align: right;\n",
       "    }\n",
       "</style>\n",
       "<table border=\"1\" class=\"dataframe\">\n",
       "  <thead>\n",
       "    <tr style=\"text-align: right;\">\n",
       "      <th></th>\n",
       "      <th>VendorID</th>\n",
       "      <th>tpep_pickup_datetime</th>\n",
       "      <th>tpep_dropoff_datetime</th>\n",
       "      <th>passenger_count</th>\n",
       "      <th>trip_distance</th>\n",
       "      <th>pickup_longitude</th>\n",
       "      <th>pickup_latitude</th>\n",
       "      <th>RatecodeID</th>\n",
       "      <th>dropoff_longitude</th>\n",
       "      <th>dropoff_latitude</th>\n",
       "      <th>payment_type</th>\n",
       "      <th>fare_amount</th>\n",
       "      <th>extra</th>\n",
       "      <th>mta_tax</th>\n",
       "      <th>tip_amount</th>\n",
       "      <th>tolls_amount</th>\n",
       "      <th>improvement_surcharge</th>\n",
       "      <th>total_amount</th>\n",
       "    </tr>\n",
       "  </thead>\n",
       "  <tbody>\n",
       "    <tr>\n",
       "      <th>count</th>\n",
       "      <td>1.221095e+07</td>\n",
       "      <td>12210952</td>\n",
       "      <td>12210952</td>\n",
       "      <td>1.221095e+07</td>\n",
       "      <td>1.221095e+07</td>\n",
       "      <td>1.221095e+07</td>\n",
       "      <td>1.221095e+07</td>\n",
       "      <td>1.221095e+07</td>\n",
       "      <td>1.221095e+07</td>\n",
       "      <td>1.221095e+07</td>\n",
       "      <td>1.221095e+07</td>\n",
       "      <td>1.221095e+07</td>\n",
       "      <td>1.221095e+07</td>\n",
       "      <td>1.221095e+07</td>\n",
       "      <td>1.221095e+07</td>\n",
       "      <td>1.221095e+07</td>\n",
       "      <td>1.221095e+07</td>\n",
       "      <td>1.221095e+07</td>\n",
       "    </tr>\n",
       "    <tr>\n",
       "      <th>mean</th>\n",
       "      <td>1.530647e+00</td>\n",
       "      <td>2016-03-16 09:20:13</td>\n",
       "      <td>2016-03-16 09:35:54</td>\n",
       "      <td>1.659580e+00</td>\n",
       "      <td>6.131770e+00</td>\n",
       "      <td>-7.287133e+01</td>\n",
       "      <td>4.014349e+01</td>\n",
       "      <td>1.040395e+00</td>\n",
       "      <td>-7.293679e+01</td>\n",
       "      <td>4.018050e+01</td>\n",
       "      <td>1.340920e+00</td>\n",
       "      <td>1.279508e+01</td>\n",
       "      <td>3.455600e-01</td>\n",
       "      <td>4.976363e-01</td>\n",
       "      <td>1.792582e+00</td>\n",
       "      <td>3.152554e-01</td>\n",
       "      <td>2.997199e-01</td>\n",
       "      <td>1.604582e+01</td>\n",
       "    </tr>\n",
       "    <tr>\n",
       "      <th>min</th>\n",
       "      <td>1.000000e+00</td>\n",
       "      <td>2016-03-01 00:00:00</td>\n",
       "      <td>2016-02-25 09:45:01</td>\n",
       "      <td>0.000000e+00</td>\n",
       "      <td>0.000000e+00</td>\n",
       "      <td>-1.616987e+02</td>\n",
       "      <td>0.000000e+00</td>\n",
       "      <td>1.000000e+00</td>\n",
       "      <td>-1.616987e+02</td>\n",
       "      <td>0.000000e+00</td>\n",
       "      <td>1.000000e+00</td>\n",
       "      <td>-3.760000e+02</td>\n",
       "      <td>-5.850000e+01</td>\n",
       "      <td>-1.000000e+00</td>\n",
       "      <td>-2.000000e+01</td>\n",
       "      <td>-1.604000e+01</td>\n",
       "      <td>-3.000000e-01</td>\n",
       "      <td>-3.763000e+02</td>\n",
       "    </tr>\n",
       "    <tr>\n",
       "      <th>25%</th>\n",
       "      <td>1.000000e+00</td>\n",
       "      <td>2016-03-08 17:31:02</td>\n",
       "      <td>2016-03-08 17:47:11</td>\n",
       "      <td>1.000000e+00</td>\n",
       "      <td>1.000000e+00</td>\n",
       "      <td>-7.399174e+01</td>\n",
       "      <td>4.073630e+01</td>\n",
       "      <td>1.000000e+00</td>\n",
       "      <td>-7.399125e+01</td>\n",
       "      <td>4.073462e+01</td>\n",
       "      <td>1.000000e+00</td>\n",
       "      <td>6.500000e+00</td>\n",
       "      <td>0.000000e+00</td>\n",
       "      <td>5.000000e-01</td>\n",
       "      <td>0.000000e+00</td>\n",
       "      <td>0.000000e+00</td>\n",
       "      <td>3.000000e-01</td>\n",
       "      <td>8.750000e+00</td>\n",
       "    </tr>\n",
       "    <tr>\n",
       "      <th>50%</th>\n",
       "      <td>2.000000e+00</td>\n",
       "      <td>2016-03-16 10:37:04</td>\n",
       "      <td>2016-03-16 10:55:05</td>\n",
       "      <td>1.000000e+00</td>\n",
       "      <td>1.700000e+00</td>\n",
       "      <td>-7.398161e+01</td>\n",
       "      <td>4.075325e+01</td>\n",
       "      <td>1.000000e+00</td>\n",
       "      <td>-7.397961e+01</td>\n",
       "      <td>4.075375e+01</td>\n",
       "      <td>1.000000e+00</td>\n",
       "      <td>9.500000e+00</td>\n",
       "      <td>0.000000e+00</td>\n",
       "      <td>5.000000e-01</td>\n",
       "      <td>1.350000e+00</td>\n",
       "      <td>0.000000e+00</td>\n",
       "      <td>3.000000e-01</td>\n",
       "      <td>1.180000e+01</td>\n",
       "    </tr>\n",
       "    <tr>\n",
       "      <th>75%</th>\n",
       "      <td>2.000000e+00</td>\n",
       "      <td>2016-03-24 00:25:02</td>\n",
       "      <td>2016-03-24 00:40:51</td>\n",
       "      <td>2.000000e+00</td>\n",
       "      <td>3.180000e+00</td>\n",
       "      <td>-7.396678e+01</td>\n",
       "      <td>4.076765e+01</td>\n",
       "      <td>1.000000e+00</td>\n",
       "      <td>-7.396228e+01</td>\n",
       "      <td>4.076910e+01</td>\n",
       "      <td>2.000000e+00</td>\n",
       "      <td>1.450000e+01</td>\n",
       "      <td>5.000000e-01</td>\n",
       "      <td>5.000000e-01</td>\n",
       "      <td>2.360000e+00</td>\n",
       "      <td>0.000000e+00</td>\n",
       "      <td>3.000000e-01</td>\n",
       "      <td>1.776000e+01</td>\n",
       "    </tr>\n",
       "    <tr>\n",
       "      <th>max</th>\n",
       "      <td>2.000000e+00</td>\n",
       "      <td>2016-03-31 23:59:59</td>\n",
       "      <td>2016-06-29 15:58:16</td>\n",
       "      <td>9.000000e+00</td>\n",
       "      <td>1.907263e+07</td>\n",
       "      <td>0.000000e+00</td>\n",
       "      <td>6.685682e+01</td>\n",
       "      <td>9.900000e+01</td>\n",
       "      <td>0.000000e+00</td>\n",
       "      <td>5.079786e+01</td>\n",
       "      <td>4.000000e+00</td>\n",
       "      <td>4.294967e+05</td>\n",
       "      <td>8.000000e+01</td>\n",
       "      <td>7.930000e+01</td>\n",
       "      <td>8.500000e+02</td>\n",
       "      <td>1.410320e+03</td>\n",
       "      <td>3.000000e-01</td>\n",
       "      <td>4.295622e+05</td>\n",
       "    </tr>\n",
       "    <tr>\n",
       "      <th>std</th>\n",
       "      <td>4.990599e-01</td>\n",
       "      <td>NaN</td>\n",
       "      <td>NaN</td>\n",
       "      <td>1.312189e+00</td>\n",
       "      <td>6.156483e+03</td>\n",
       "      <td>8.964108e+00</td>\n",
       "      <td>4.937996e+00</td>\n",
       "      <td>5.807342e-01</td>\n",
       "      <td>8.696974e+00</td>\n",
       "      <td>4.790940e+00</td>\n",
       "      <td>4.902621e-01</td>\n",
       "      <td>1.340979e+02</td>\n",
       "      <td>4.563069e-01</td>\n",
       "      <td>4.863319e-02</td>\n",
       "      <td>2.549124e+00</td>\n",
       "      <td>1.751526e+00</td>\n",
       "      <td>1.230647e-02</td>\n",
       "      <td>1.343578e+02</td>\n",
       "    </tr>\n",
       "  </tbody>\n",
       "</table>\n",
       "</div>"
      ],
      "text/plain": [
       "           VendorID tpep_pickup_datetime tpep_dropoff_datetime  \\\n",
       "count  1.221095e+07             12210952              12210952   \n",
       "mean   1.530647e+00  2016-03-16 09:20:13   2016-03-16 09:35:54   \n",
       "min    1.000000e+00  2016-03-01 00:00:00   2016-02-25 09:45:01   \n",
       "25%    1.000000e+00  2016-03-08 17:31:02   2016-03-08 17:47:11   \n",
       "50%    2.000000e+00  2016-03-16 10:37:04   2016-03-16 10:55:05   \n",
       "75%    2.000000e+00  2016-03-24 00:25:02   2016-03-24 00:40:51   \n",
       "max    2.000000e+00  2016-03-31 23:59:59   2016-06-29 15:58:16   \n",
       "std    4.990599e-01                  NaN                   NaN   \n",
       "\n",
       "       passenger_count  trip_distance  pickup_longitude  pickup_latitude  \\\n",
       "count     1.221095e+07   1.221095e+07      1.221095e+07     1.221095e+07   \n",
       "mean      1.659580e+00   6.131770e+00     -7.287133e+01     4.014349e+01   \n",
       "min       0.000000e+00   0.000000e+00     -1.616987e+02     0.000000e+00   \n",
       "25%       1.000000e+00   1.000000e+00     -7.399174e+01     4.073630e+01   \n",
       "50%       1.000000e+00   1.700000e+00     -7.398161e+01     4.075325e+01   \n",
       "75%       2.000000e+00   3.180000e+00     -7.396678e+01     4.076765e+01   \n",
       "max       9.000000e+00   1.907263e+07      0.000000e+00     6.685682e+01   \n",
       "std       1.312189e+00   6.156483e+03      8.964108e+00     4.937996e+00   \n",
       "\n",
       "         RatecodeID  dropoff_longitude  dropoff_latitude  payment_type  \\\n",
       "count  1.221095e+07       1.221095e+07      1.221095e+07  1.221095e+07   \n",
       "mean   1.040395e+00      -7.293679e+01      4.018050e+01  1.340920e+00   \n",
       "min    1.000000e+00      -1.616987e+02      0.000000e+00  1.000000e+00   \n",
       "25%    1.000000e+00      -7.399125e+01      4.073462e+01  1.000000e+00   \n",
       "50%    1.000000e+00      -7.397961e+01      4.075375e+01  1.000000e+00   \n",
       "75%    1.000000e+00      -7.396228e+01      4.076910e+01  2.000000e+00   \n",
       "max    9.900000e+01       0.000000e+00      5.079786e+01  4.000000e+00   \n",
       "std    5.807342e-01       8.696974e+00      4.790940e+00  4.902621e-01   \n",
       "\n",
       "        fare_amount         extra       mta_tax    tip_amount  tolls_amount  \\\n",
       "count  1.221095e+07  1.221095e+07  1.221095e+07  1.221095e+07  1.221095e+07   \n",
       "mean   1.279508e+01  3.455600e-01  4.976363e-01  1.792582e+00  3.152554e-01   \n",
       "min   -3.760000e+02 -5.850000e+01 -1.000000e+00 -2.000000e+01 -1.604000e+01   \n",
       "25%    6.500000e+00  0.000000e+00  5.000000e-01  0.000000e+00  0.000000e+00   \n",
       "50%    9.500000e+00  0.000000e+00  5.000000e-01  1.350000e+00  0.000000e+00   \n",
       "75%    1.450000e+01  5.000000e-01  5.000000e-01  2.360000e+00  0.000000e+00   \n",
       "max    4.294967e+05  8.000000e+01  7.930000e+01  8.500000e+02  1.410320e+03   \n",
       "std    1.340979e+02  4.563069e-01  4.863319e-02  2.549124e+00  1.751526e+00   \n",
       "\n",
       "       improvement_surcharge  total_amount  \n",
       "count           1.221095e+07  1.221095e+07  \n",
       "mean            2.997199e-01  1.604582e+01  \n",
       "min            -3.000000e-01 -3.763000e+02  \n",
       "25%             3.000000e-01  8.750000e+00  \n",
       "50%             3.000000e-01  1.180000e+01  \n",
       "75%             3.000000e-01  1.776000e+01  \n",
       "max             3.000000e-01  4.295622e+05  \n",
       "std             1.230647e-02  1.343578e+02  "
      ]
     },
     "execution_count": 37,
     "metadata": {},
     "output_type": "execute_result"
    }
   ],
   "source": [
    "df.describe()"
   ]
  },
  {
   "cell_type": "code",
   "execution_count": 38,
   "id": "2ae5c981",
   "metadata": {},
   "outputs": [
    {
     "name": "stdout",
     "output_type": "stream",
     "text": [
      "tpep_pickup_datetime: 0 missing\n",
      "tpep_dropoff_datetime: 0 missing\n"
     ]
    }
   ],
   "source": [
    "key_cols = ['tpep_pickup_datetime', 'tpep_dropoff_datetime']\n",
    "for col in key_cols:\n",
    "    print(f\"{col}: {df[col].isna().sum()} missing\")"
   ]
  },
  {
   "cell_type": "markdown",
   "id": "df863e8f",
   "metadata": {},
   "source": [
    "## Transformacion de columnas"
   ]
  },
  {
   "cell_type": "code",
   "execution_count": 39,
   "id": "1a084b92",
   "metadata": {},
   "outputs": [
    {
     "name": "stdout",
     "output_type": "stream",
     "text": [
      "Before filtering:  (12210952, 31)\n"
     ]
    }
   ],
   "source": [
    "import numpy as np\n",
    "\n",
    "# Convert pickup/dropoff to string, then to datetime, and compute trip duration (in minutes)\n",
    "df['pickup'] = pd.to_datetime(df['tpep_pickup_datetime'], format='%Y-%m-%d %H:%M:%S', errors='coerce')\n",
    "df['dropoff'] = pd.to_datetime(df['tpep_dropoff_datetime'], format='%Y-%m-%d %H:%M:%S', errors='coerce')\n",
    "\n",
    "df = df[df['pickup'].notna()]\n",
    "df = df[df['dropoff'].notna()]\n",
    "\n",
    "df['trip_duration_min'] = np.floor((df['dropoff'] - df['pickup']).dt.total_seconds() / 60)\n",
    "\n",
    "df[\"pickup_hour\"] = df[\"pickup\"].dt.hour\n",
    "df[\"pickup_dayweek\"] = df[\"pickup\"].dt.dayofweek\n",
    "df[\"pickup_daymonth\"] = df[\"pickup\"].dt.days_in_month\n",
    "\n",
    "df[\"pickup_hour_cos\"] = np.cos(2 * np.pi * df[\"pickup_hour\"] / 24)\n",
    "df[\"pickup_hour_sin\"] = np.sin(2 * np.pi * df[\"pickup_hour\"] / 24)\n",
    "df[\"pickup_dayweek_cos\"] = np.cos(2 * np.pi * df[\"pickup_dayweek\"] / 7)\n",
    "df[\"pickup_dayweek_sin\"] = np.sin(2 * np.pi * df[\"pickup_dayweek\"] / 7)\n",
    "df[\"pickup_daymonth_cos\"] = np.cos(2 * np.pi * df[\"pickup_daymonth\"] / 31)\n",
    "df[\"pickup_daymonth_sin\"] = np.sin(2 * np.pi * df[\"pickup_daymonth\"] / 31)\n",
    "\n",
    "\n",
    "print(\"Before filtering: \", df.shape)"
   ]
  },
  {
   "cell_type": "markdown",
   "id": "f0ed4d21",
   "metadata": {},
   "source": [
    "## Eliminacion de datos atipicos"
   ]
  },
  {
   "cell_type": "markdown",
   "id": "61e7b645",
   "metadata": {},
   "source": [
    "### trip_duration_min"
   ]
  },
  {
   "cell_type": "code",
   "execution_count": 40,
   "id": "5dfa8317",
   "metadata": {},
   "outputs": [
    {
     "data": {
      "application/vnd.microsoft.datawrangler.viewer.v0+json": {
       "columns": [
        {
         "name": "index",
         "rawType": "object",
         "type": "string"
        },
        {
         "name": "trip_duration_min",
         "rawType": "float64",
         "type": "float"
        }
       ],
       "ref": "fdb51fd3-c2be-4db3-a8f1-9afb90f64147",
       "rows": [
        [
         "count",
         "12210952.0"
        ],
        [
         "mean",
         "15.20347668224394"
        ],
        [
         "std",
         "115.26110881942276"
        ],
        [
         "min",
         "-50521.0"
        ],
        [
         "25%",
         "6.0"
        ],
        [
         "50%",
         "10.0"
        ],
        [
         "75%",
         "17.0"
        ],
        [
         "max",
         "145867.0"
        ]
       ],
       "shape": {
        "columns": 1,
        "rows": 8
       }
      },
      "text/plain": [
       "count    1.221095e+07\n",
       "mean     1.520348e+01\n",
       "std      1.152611e+02\n",
       "min     -5.052100e+04\n",
       "25%      6.000000e+00\n",
       "50%      1.000000e+01\n",
       "75%      1.700000e+01\n",
       "max      1.458670e+05\n",
       "Name: trip_duration_min, dtype: float64"
      ]
     },
     "execution_count": 40,
     "metadata": {},
     "output_type": "execute_result"
    }
   ],
   "source": [
    "df['trip_duration_min'].describe()"
   ]
  },
  {
   "cell_type": "code",
   "execution_count": 41,
   "id": "86d7bccc",
   "metadata": {},
   "outputs": [
    {
     "name": "stdout",
     "output_type": "stream",
     "text": [
      "Outliers:\n",
      "           VendorID tpep_pickup_datetime tpep_dropoff_datetime  \\\n",
      "28               2  2016-03-01 00:00:07   2016-03-01 00:36:51   \n",
      "64               2  2016-03-01 00:00:21   2016-03-01 00:38:01   \n",
      "69               2  2016-03-01 00:00:24   2016-03-01 00:35:29   \n",
      "129              2  2016-03-01 00:00:45   2016-03-01 00:39:48   \n",
      "131              1  2016-03-01 00:00:46   2016-03-01 00:40:15   \n",
      "...            ...                  ...                   ...   \n",
      "12210946         1  2016-03-20 08:59:21   2016-04-18 10:58:05   \n",
      "12210948         1  2016-03-26 03:02:32   2016-06-14 18:47:55   \n",
      "12210949         1  2016-03-20 08:43:59   2016-06-27 15:05:01   \n",
      "12210950         1  2016-03-20 08:49:47   2016-06-28 19:11:27   \n",
      "12210951         1  2016-03-20 08:50:24   2016-06-29 15:58:16   \n",
      "\n",
      "          passenger_count  trip_distance  pickup_longitude  pickup_latitude  \\\n",
      "28                      1          18.03        -73.789413        40.647018   \n",
      "64                      1          19.35        -73.789429        40.647717   \n",
      "69                      1          10.34        -73.990059        40.761936   \n",
      "129                     3          18.34        -73.793167        40.656830   \n",
      "131                     1          20.20        -73.789932        40.643650   \n",
      "...                   ...            ...               ...              ...   \n",
      "12210946                1          12.10        -73.789154        40.646736   \n",
      "12210948                1           0.40        -73.977356        40.774471   \n",
      "12210949                1          20.20          0.000000         0.000000   \n",
      "12210950                1          15.40        -73.790077        40.647377   \n",
      "12210951                1          17.50        -73.798485        40.645096   \n",
      "\n",
      "          RatecodeID store_and_fwd_flag  dropoff_longitude  ...  \\\n",
      "28                 2                  N         -74.000992  ...   \n",
      "64                 2                  N         -73.970741  ...   \n",
      "69                 1                  N         -73.857773  ...   \n",
      "129                5                  N         -73.793167  ...   \n",
      "131                2                  Y         -73.979767  ...   \n",
      "...              ...                ...                ...  ...   \n",
      "12210946           1                  N         -73.875351  ...   \n",
      "12210948           1                  N         -73.982536  ...   \n",
      "12210949           2                  N         -74.008614  ...   \n",
      "12210950           1                  N         -73.971756  ...   \n",
      "12210951           2                  N         -73.993111  ...   \n",
      "\n",
      "          trip_duration_min  pickup_hour  pickup_dayweek  pickup_daymonth  \\\n",
      "28                     36.0            0               1               31   \n",
      "64                     37.0            0               1               31   \n",
      "69                     35.0            0               1               31   \n",
      "129                    39.0            0               1               31   \n",
      "131                    39.0            0               1               31   \n",
      "...                     ...          ...             ...              ...   \n",
      "12210946            41878.0            8               6               31   \n",
      "12210948           116145.0            3               5               31   \n",
      "12210949           142941.0            8               6               31   \n",
      "12210950           144621.0            8               6               31   \n",
      "12210951           145867.0            8               6               31   \n",
      "\n",
      "          pickup_hour_cos  pickup_hour_sin  pickup_dayweek_cos  \\\n",
      "28               1.000000         0.000000            0.623490   \n",
      "64               1.000000         0.000000            0.623490   \n",
      "69               1.000000         0.000000            0.623490   \n",
      "129              1.000000         0.000000            0.623490   \n",
      "131              1.000000         0.000000            0.623490   \n",
      "...                   ...              ...                 ...   \n",
      "12210946        -0.500000         0.866025            0.623490   \n",
      "12210948         0.707107         0.707107           -0.222521   \n",
      "12210949        -0.500000         0.866025            0.623490   \n",
      "12210950        -0.500000         0.866025            0.623490   \n",
      "12210951        -0.500000         0.866025            0.623490   \n",
      "\n",
      "          pickup_dayweek_sin  pickup_daymonth_cos pickup_daymonth_sin  \n",
      "28                  0.781831                  1.0       -2.449294e-16  \n",
      "64                  0.781831                  1.0       -2.449294e-16  \n",
      "69                  0.781831                  1.0       -2.449294e-16  \n",
      "129                 0.781831                  1.0       -2.449294e-16  \n",
      "131                 0.781831                  1.0       -2.449294e-16  \n",
      "...                      ...                  ...                 ...  \n",
      "12210946           -0.781831                  1.0       -2.449294e-16  \n",
      "12210948           -0.974928                  1.0       -2.449294e-16  \n",
      "12210949           -0.781831                  1.0       -2.449294e-16  \n",
      "12210950           -0.781831                  1.0       -2.449294e-16  \n",
      "12210951           -0.781831                  1.0       -2.449294e-16  \n",
      "\n",
      "[603592 rows x 31 columns]\n",
      "Outliers shape:\n",
      " (603592, 31)\n",
      "Outliers: 0.049430380202952234 (4.94%) of total data\n"
     ]
    }
   ],
   "source": [
    "total_count = len(df)\n",
    "df = df[df['trip_duration_min'] >= 0]\n",
    "\n",
    "# Compute Q1, Q3, and IQR\n",
    "Q1 = df['trip_duration_min'].quantile(0.25)\n",
    "Q3 = df['trip_duration_min'].quantile(0.75)\n",
    "IQR = Q3 - Q1\n",
    "\n",
    "lower_bound = Q1 - 1.5 * IQR\n",
    "upper_bound = Q3 + 1.5 * IQR\n",
    "\n",
    "outliers_mask = (df['trip_duration_min'] < lower_bound) | (df['trip_duration_min'] > upper_bound)\n",
    "outliers = df[outliers_mask]\n",
    "\n",
    "print(\"Outliers:\\n\", outliers)\n",
    "print(\"Outliers shape:\\n\", outliers.shape)\n",
    "print(f\"Outliers: {outliers.shape[0] / total_count} ({outliers.shape[0] / total_count * 100:.2f}%) of total data\")"
   ]
  },
  {
   "cell_type": "code",
   "execution_count": 42,
   "id": "a0850748",
   "metadata": {},
   "outputs": [
    {
     "data": {
      "application/vnd.microsoft.datawrangler.viewer.v0+json": {
       "columns": [
        {
         "name": "index",
         "rawType": "object",
         "type": "string"
        },
        {
         "name": "trip_duration_min",
         "rawType": "float64",
         "type": "float"
        }
       ],
       "ref": "ee67f5aa-06e8-4658-8049-d26c494d3cdd",
       "rows": [
        [
         "count",
         "11607251.0"
        ],
        [
         "mean",
         "11.498200392151423"
        ],
        [
         "std",
         "7.300859855109816"
        ],
        [
         "min",
         "0.0"
        ],
        [
         "25%",
         "6.0"
        ],
        [
         "50%",
         "10.0"
        ],
        [
         "75%",
         "16.0"
        ],
        [
         "max",
         "33.0"
        ]
       ],
       "shape": {
        "columns": 1,
        "rows": 8
       }
      },
      "text/plain": [
       "count    1.160725e+07\n",
       "mean     1.149820e+01\n",
       "std      7.300860e+00\n",
       "min      0.000000e+00\n",
       "25%      6.000000e+00\n",
       "50%      1.000000e+01\n",
       "75%      1.600000e+01\n",
       "max      3.300000e+01\n",
       "Name: trip_duration_min, dtype: float64"
      ]
     },
     "execution_count": 42,
     "metadata": {},
     "output_type": "execute_result"
    }
   ],
   "source": [
    "df = df[~outliers_mask].reset_index(drop=True)\n",
    "df['trip_duration_min'].describe()"
   ]
  },
  {
   "cell_type": "code",
   "execution_count": null,
   "id": "a9a9e8f5",
   "metadata": {},
   "outputs": [],
   "source": []
  },
  {
   "cell_type": "markdown",
   "id": "67c93c4d",
   "metadata": {},
   "source": [
    "### total_amount"
   ]
  },
  {
   "cell_type": "code",
   "execution_count": 43,
   "id": "f2bab7c9",
   "metadata": {},
   "outputs": [
    {
     "data": {
      "application/vnd.microsoft.datawrangler.viewer.v0+json": {
       "columns": [
        {
         "name": "index",
         "rawType": "object",
         "type": "string"
        },
        {
         "name": "total_amount",
         "rawType": "float64",
         "type": "float"
        }
       ],
       "ref": "8d4911ad-0aa0-4375-a6e7-f33143df6045",
       "rows": [
        [
         "count",
         "11607251.0"
        ],
        [
         "mean",
         "14.161275519069934"
        ],
        [
         "std",
         "54.78407692244754"
        ],
        [
         "min",
         "-376.3"
        ],
        [
         "25%",
         "8.3"
        ],
        [
         "50%",
         "11.4"
        ],
        [
         "75%",
         "16.55"
        ],
        [
         "max",
         "133131.2"
        ]
       ],
       "shape": {
        "columns": 1,
        "rows": 8
       }
      },
      "text/plain": [
       "count    1.160725e+07\n",
       "mean     1.416128e+01\n",
       "std      5.478408e+01\n",
       "min     -3.763000e+02\n",
       "25%      8.300000e+00\n",
       "50%      1.140000e+01\n",
       "75%      1.655000e+01\n",
       "max      1.331312e+05\n",
       "Name: total_amount, dtype: float64"
      ]
     },
     "execution_count": 43,
     "metadata": {},
     "output_type": "execute_result"
    }
   ],
   "source": [
    "df['total_amount'].describe()"
   ]
  },
  {
   "cell_type": "code",
   "execution_count": 44,
   "id": "b733dbd4",
   "metadata": {},
   "outputs": [
    {
     "name": "stdout",
     "output_type": "stream",
     "text": [
      "Outliers:\n",
      "           VendorID tpep_pickup_datetime tpep_dropoff_datetime  \\\n",
      "2                2  2016-03-01 00:00:00   2016-03-01 00:31:06   \n",
      "3                2  2016-03-01 00:00:00   2016-03-01 00:00:00   \n",
      "4                2  2016-03-01 00:00:00   2016-03-01 00:00:00   \n",
      "5                2  2016-03-01 00:00:00   2016-03-01 00:00:00   \n",
      "14               2  2016-03-01 00:00:02   2016-03-01 00:24:11   \n",
      "...            ...                  ...                   ...   \n",
      "11607204         2  2016-03-31 23:59:51   2016-04-01 00:27:05   \n",
      "11607206         2  2016-03-31 23:59:51   2016-04-01 00:28:35   \n",
      "11607235         1  2016-03-31 23:59:58   2016-04-01 00:29:16   \n",
      "11607241         2  2016-03-31 23:59:58   2016-04-01 00:18:16   \n",
      "11607245         1  2016-03-29 16:46:55   2016-03-29 16:49:21   \n",
      "\n",
      "          passenger_count  trip_distance  pickup_longitude  pickup_latitude  \\\n",
      "2                       2          19.98        -73.782021        40.644810   \n",
      "3                       3          10.78        -73.863419        40.769814   \n",
      "4                       5          30.43        -73.971741        40.792183   \n",
      "5                       5           5.92        -74.017197        40.705383   \n",
      "14                      1           8.54        -74.002068        40.719120   \n",
      "...                   ...            ...               ...              ...   \n",
      "11607204                2          10.36        -73.979843        40.761131   \n",
      "11607206                1          17.55        -73.776703        40.645279   \n",
      "11607235                2           7.20        -73.999077        40.739471   \n",
      "11607241                1           6.21        -74.005898        40.725761   \n",
      "11607245                4           0.40        -73.981949        40.766346   \n",
      "\n",
      "          RatecodeID store_and_fwd_flag  dropoff_longitude  ...  \\\n",
      "2                  1                  N         -73.974541  ...   \n",
      "3                  1                  N         -73.969650  ...   \n",
      "4                  3                  N         -74.177170  ...   \n",
      "5                  1                  N         -73.978073  ...   \n",
      "14                 1                  N         -73.952118  ...   \n",
      "...              ...                ...                ...  ...   \n",
      "11607204           1                  N         -73.892838  ...   \n",
      "11607206           2                  N         -73.969093  ...   \n",
      "11607235           1                  N         -73.930878  ...   \n",
      "11607241           5                  N         -74.009331  ...   \n",
      "11607245           2                  Y         -73.987587  ...   \n",
      "\n",
      "          trip_duration_min  pickup_hour  pickup_dayweek  pickup_daymonth  \\\n",
      "2                      31.0            0               1               31   \n",
      "3                       0.0            0               1               31   \n",
      "4                       0.0            0               1               31   \n",
      "5                       0.0            0               1               31   \n",
      "14                     24.0            0               1               31   \n",
      "...                     ...          ...             ...              ...   \n",
      "11607204               27.0           23               3               31   \n",
      "11607206               28.0           23               3               31   \n",
      "11607235               29.0           23               3               31   \n",
      "11607241               18.0           23               3               31   \n",
      "11607245                2.0           16               1               31   \n",
      "\n",
      "          pickup_hour_cos  pickup_hour_sin  pickup_dayweek_cos  \\\n",
      "2                1.000000         0.000000            0.623490   \n",
      "3                1.000000         0.000000            0.623490   \n",
      "4                1.000000         0.000000            0.623490   \n",
      "5                1.000000         0.000000            0.623490   \n",
      "14               1.000000         0.000000            0.623490   \n",
      "...                   ...              ...                 ...   \n",
      "11607204         0.965926        -0.258819           -0.900969   \n",
      "11607206         0.965926        -0.258819           -0.900969   \n",
      "11607235         0.965926        -0.258819           -0.900969   \n",
      "11607241         0.965926        -0.258819           -0.900969   \n",
      "11607245        -0.500000        -0.866025            0.623490   \n",
      "\n",
      "          pickup_dayweek_sin  pickup_daymonth_cos pickup_daymonth_sin  \n",
      "2                   0.781831                  1.0       -2.449294e-16  \n",
      "3                   0.781831                  1.0       -2.449294e-16  \n",
      "4                   0.781831                  1.0       -2.449294e-16  \n",
      "5                   0.781831                  1.0       -2.449294e-16  \n",
      "14                  0.781831                  1.0       -2.449294e-16  \n",
      "...                      ...                  ...                 ...  \n",
      "11607204            0.433884                  1.0       -2.449294e-16  \n",
      "11607206            0.433884                  1.0       -2.449294e-16  \n",
      "11607235            0.433884                  1.0       -2.449294e-16  \n",
      "11607241            0.433884                  1.0       -2.449294e-16  \n",
      "11607245            0.781831                  1.0       -2.449294e-16  \n",
      "\n",
      "[716593 rows x 31 columns]\n",
      "Outliers shape:\n",
      " (716593, 31)\n",
      "Outliers: 0.0617366678811374 (6.17%) of total data\n"
     ]
    }
   ],
   "source": [
    "total_count = len(df)\n",
    "df['total_amount'] = df['fare_amount'] + df['extra'] + df['mta_tax'] + df['tip_amount'] + df['tolls_amount'] + df['improvement_surcharge']\n",
    "\n",
    "df = df[df['total_amount'] >= 0]\n",
    "\n",
    "Q1 = df['total_amount'].quantile(0.25)\n",
    "Q3 = df['total_amount'].quantile(0.75)\n",
    "IQR = Q3 - Q1\n",
    "\n",
    "lower_bound = Q1 - 1.5 * IQR\n",
    "upper_bound = Q3 + 1.5 * IQR\n",
    "\n",
    "outliers_mask = (df['total_amount'] < lower_bound) | (df['total_amount'] > upper_bound)\n",
    "outliers = df[outliers_mask]\n",
    "\n",
    "print(\"Outliers:\\n\", outliers)\n",
    "print(\"Outliers shape:\\n\", outliers.shape)\n",
    "print(f\"Outliers: {outliers.shape[0] / total_count} ({outliers.shape[0] / total_count * 100:.2f}%) of total data\")"
   ]
  },
  {
   "cell_type": "code",
   "execution_count": 45,
   "id": "80484002",
   "metadata": {},
   "outputs": [
    {
     "name": "stdout",
     "output_type": "stream",
     "text": [
      "Cleaned DataFrame:\n",
      "\n"
     ]
    },
    {
     "data": {
      "application/vnd.microsoft.datawrangler.viewer.v0+json": {
       "columns": [
        {
         "name": "index",
         "rawType": "object",
         "type": "string"
        },
        {
         "name": "total_amount",
         "rawType": "float64",
         "type": "float"
        }
       ],
       "ref": "e8386090-1c0b-4c21-be52-23d5d656f838",
       "rows": [
        [
         "count",
         "10886108.0"
        ],
        [
         "mean",
         "12.254480344122987"
        ],
        [
         "std",
         "5.2990947828578125"
        ],
        [
         "min",
         "0.0"
        ],
        [
         "25%",
         "8.3"
        ],
        [
         "50%",
         "11.15"
        ],
        [
         "75%",
         "15.3"
        ],
        [
         "max",
         "28.92"
        ]
       ],
       "shape": {
        "columns": 1,
        "rows": 8
       }
      },
      "text/plain": [
       "count    1.088611e+07\n",
       "mean     1.225448e+01\n",
       "std      5.299095e+00\n",
       "min      0.000000e+00\n",
       "25%      8.300000e+00\n",
       "50%      1.115000e+01\n",
       "75%      1.530000e+01\n",
       "max      2.892000e+01\n",
       "Name: total_amount, dtype: float64"
      ]
     },
     "execution_count": 45,
     "metadata": {},
     "output_type": "execute_result"
    }
   ],
   "source": [
    "df = df[~outliers_mask].reset_index(drop=True)\n",
    "print(\"Cleaned DataFrame:\\n\") \n",
    "df['total_amount'].describe()"
   ]
  },
  {
   "cell_type": "code",
   "execution_count": 46,
   "id": "69686bb6",
   "metadata": {},
   "outputs": [
    {
     "name": "stdout",
     "output_type": "stream",
     "text": [
      "pickup_longitude: 0 missing\n",
      "pickup_latitude: 0 missing\n",
      "dropoff_longitude: 0 missing\n",
      "dropoff_latitude: 0 missing\n",
      "trip_distance: 0 missing\n",
      "pickup_latitude: 0 missing\n",
      "dropoff_longitude: 0 missing\n",
      "dropoff_latitude: 0 missing\n",
      "trip_distance: 0 missing\n"
     ]
    }
   ],
   "source": [
    "key_cols = ['pickup_longitude', 'pickup_latitude', 'dropoff_longitude', 'dropoff_latitude', 'trip_distance']\n",
    "for col in key_cols:\n",
    "    print(f\"{col}: {df[col].isna().sum()} missing\")"
   ]
  },
  {
   "cell_type": "code",
   "execution_count": 47,
   "id": "9f3df1df",
   "metadata": {},
   "outputs": [
    {
     "data": {
      "application/vnd.microsoft.datawrangler.viewer.v0+json": {
       "columns": [
        {
         "name": "index",
         "rawType": "object",
         "type": "string"
        },
        {
         "name": "VendorID",
         "rawType": "float64",
         "type": "float"
        },
        {
         "name": "passenger_count",
         "rawType": "float64",
         "type": "float"
        },
        {
         "name": "trip_distance",
         "rawType": "float64",
         "type": "float"
        },
        {
         "name": "pickup_longitude",
         "rawType": "float64",
         "type": "float"
        },
        {
         "name": "pickup_latitude",
         "rawType": "float64",
         "type": "float"
        },
        {
         "name": "RatecodeID",
         "rawType": "float64",
         "type": "float"
        },
        {
         "name": "dropoff_longitude",
         "rawType": "float64",
         "type": "float"
        },
        {
         "name": "dropoff_latitude",
         "rawType": "float64",
         "type": "float"
        },
        {
         "name": "payment_type",
         "rawType": "float64",
         "type": "float"
        },
        {
         "name": "fare_amount",
         "rawType": "float64",
         "type": "float"
        },
        {
         "name": "extra",
         "rawType": "float64",
         "type": "float"
        },
        {
         "name": "mta_tax",
         "rawType": "float64",
         "type": "float"
        },
        {
         "name": "tip_amount",
         "rawType": "float64",
         "type": "float"
        },
        {
         "name": "tolls_amount",
         "rawType": "float64",
         "type": "float"
        },
        {
         "name": "improvement_surcharge",
         "rawType": "float64",
         "type": "float"
        },
        {
         "name": "total_amount",
         "rawType": "float64",
         "type": "float"
        },
        {
         "name": "pickup",
         "rawType": "object",
         "type": "unknown"
        },
        {
         "name": "dropoff",
         "rawType": "object",
         "type": "unknown"
        },
        {
         "name": "trip_duration_min",
         "rawType": "float64",
         "type": "float"
        },
        {
         "name": "pickup_hour",
         "rawType": "float64",
         "type": "float"
        },
        {
         "name": "pickup_dayweek",
         "rawType": "float64",
         "type": "float"
        },
        {
         "name": "pickup_daymonth",
         "rawType": "float64",
         "type": "float"
        },
        {
         "name": "pickup_hour_cos",
         "rawType": "float64",
         "type": "float"
        },
        {
         "name": "pickup_hour_sin",
         "rawType": "float64",
         "type": "float"
        },
        {
         "name": "pickup_dayweek_cos",
         "rawType": "float64",
         "type": "float"
        },
        {
         "name": "pickup_dayweek_sin",
         "rawType": "float64",
         "type": "float"
        },
        {
         "name": "pickup_daymonth_cos",
         "rawType": "float64",
         "type": "float"
        },
        {
         "name": "pickup_daymonth_sin",
         "rawType": "float64",
         "type": "float"
        }
       ],
       "ref": "080d4fc8-5efe-4f4f-a9e8-022cf9052ce0",
       "rows": [
        [
         "count",
         "10886108.0",
         "10886108.0",
         "10886108.0",
         "10886108.0",
         "10886108.0",
         "10886108.0",
         "10886108.0",
         "10886108.0",
         "10886108.0",
         "10886108.0",
         "10886108.0",
         "10886108.0",
         "10886108.0",
         "10886108.0",
         "10886108.0",
         "10886108.0",
         "10886108",
         "10886108",
         "10886108.0",
         "10886108.0",
         "10886108.0",
         "10886108.0",
         "10886108.0",
         "10886108.0",
         "10886108.0",
         "10886108.0",
         "10886108.0",
         "10886108.0"
        ],
        [
         "mean",
         "1.52798511644382",
         "1.6544614475623427",
         "5.008889724408393",
         "-72.90081106913506",
         "40.15823436972191",
         "1.0058636199457143",
         "-72.95948860661287",
         "40.192281144581365",
         "1.3517295621171497",
         "9.782265755585009",
         "0.3348851958845163",
         "0.49946409864756075",
         "1.3254300940244208",
         "0.012480878381878996",
         "0.29995432159960195",
         "12.254480344122987",
         "2016-03-16 08:50:44",
         "2016-03-16 09:01:53",
         "10.669052796463163",
         "13.714522857939679",
         "2.9789952478884096",
         "31.0",
         "-0.088550549504351",
         "-0.20898766822094178",
         "-0.05492470953639202",
         "0.05042475838233376",
         "1.0",
         "-2.4492935982947064e-16"
        ],
        [
         "min",
         "1.0",
         "0.0",
         "0.0",
         "-161.69866943359375",
         "0.0",
         "1.0",
         "-161.69866943359375",
         "0.0",
         "1.0",
         "0.0",
         "-58.5",
         "-1.0",
         "0.0",
         "0.0",
         "0.0",
         "0.0",
         "2016-03-01 00:00:00",
         "2016-03-01 00:00:00",
         "0.0",
         "0.0",
         "0.0",
         "31.0",
         "-1.0",
         "-1.0",
         "-0.9009688679024191",
         "-0.9749279121818236",
         "1.0",
         "-2.4492935982947064e-16"
        ],
        [
         "25%",
         "1.0",
         "1.0",
         "0.95",
         "-73.99211120605469",
         "40.737571716308594",
         "1.0",
         "-73.99152374267578",
         "40.736976623535156",
         "1.0",
         "6.5",
         "0.0",
         "0.5",
         "0.0",
         "0.0",
         "0.3",
         "8.3",
         "2016-03-08 16:27:34",
         "2016-03-08 16:39:10",
         "6.0",
         "9.0",
         "1.0",
         "31.0",
         "-0.7071067811865479",
         "-0.8660254037844384",
         "-0.900968867902419",
         "-0.7818314824680299",
         "1.0",
         "-2.4492935982947064e-16"
        ],
        [
         "50%",
         "2.0",
         "1.0",
         "1.52",
         "-73.98217010498047",
         "40.75334167480469",
         "1.0",
         "-73.98052215576172",
         "40.7541389465332",
         "1.0",
         "8.5",
         "0.5",
         "0.5",
         "1.2",
         "0.0",
         "0.3",
         "11.15",
         "2016-03-16 09:51:21",
         "2016-03-16 10:04:15",
         "9.0",
         "14.0",
         "3.0",
         "31.0",
         "-0.25881904510252063",
         "-0.25881904510252157",
         "-0.22252093395631434",
         "0.0",
         "1.0",
         "-2.4492935982947064e-16"
        ],
        [
         "75%",
         "2.0",
         "2.0",
         "2.51",
         "-73.96925354003906",
         "40.7669677734375",
         "1.0",
         "-73.9655532836914",
         "40.768714904785156",
         "2.0",
         "12.5",
         "0.5",
         "0.5",
         "2.06",
         "0.0",
         "0.3",
         "15.3",
         "2016-03-24 00:34:52",
         "2016-03-24 00:45:47",
         "15.0",
         "19.0",
         "5.0",
         "31.0",
         "0.7071067811865474",
         "0.49999999999999994",
         "0.6234898018587336",
         "0.7818314824680298",
         "1.0",
         "-2.4492935982947064e-16"
        ],
        [
         "max",
         "2.0",
         "9.0",
         "19072628.8",
         "0.0",
         "66.85681915283203",
         "99.0",
         "0.0",
         "50.7978630065918",
         "4.0",
         "28.8",
         "20.0",
         "59.3",
         "27.5",
         "26.54",
         "0.3",
         "28.92",
         "2016-03-31 23:59:59",
         "2016-04-01 00:31:16",
         "33.0",
         "23.0",
         "6.0",
         "31.0",
         "1.0",
         "1.0",
         "1.0",
         "0.9749279121818236",
         "1.0",
         "-2.4492935982947064e-16"
        ],
        [
         "std",
         "0.4992162418739346",
         "1.3098406838450167",
         "6340.825049407818",
         "8.870405786074608",
         "4.886184682158722",
         "0.3856325407356839",
         "8.620005888314958",
         "4.748444324497812",
         "0.49183911197231284",
         "4.638092157457269",
         "0.37464810895807715",
         "0.024911819519426368",
         "1.3091424913814935",
         "0.2721296046822496",
         "0.0036985334359019638",
         "5.2990947828578125",
         null,
         null,
         "6.508987986685255",
         "6.334782143263295",
         "1.9041309295597675",
         "0.0",
         "0.7015056529855878",
         "0.6755537437326153",
         "0.6935252433907367",
         "0.716563638593086",
         "0.0",
         "0.0"
        ]
       ],
       "shape": {
        "columns": 28,
        "rows": 8
       }
      },
      "text/html": [
       "<div>\n",
       "<style scoped>\n",
       "    .dataframe tbody tr th:only-of-type {\n",
       "        vertical-align: middle;\n",
       "    }\n",
       "\n",
       "    .dataframe tbody tr th {\n",
       "        vertical-align: top;\n",
       "    }\n",
       "\n",
       "    .dataframe thead th {\n",
       "        text-align: right;\n",
       "    }\n",
       "</style>\n",
       "<table border=\"1\" class=\"dataframe\">\n",
       "  <thead>\n",
       "    <tr style=\"text-align: right;\">\n",
       "      <th></th>\n",
       "      <th>VendorID</th>\n",
       "      <th>passenger_count</th>\n",
       "      <th>trip_distance</th>\n",
       "      <th>pickup_longitude</th>\n",
       "      <th>pickup_latitude</th>\n",
       "      <th>RatecodeID</th>\n",
       "      <th>dropoff_longitude</th>\n",
       "      <th>dropoff_latitude</th>\n",
       "      <th>payment_type</th>\n",
       "      <th>fare_amount</th>\n",
       "      <th>...</th>\n",
       "      <th>trip_duration_min</th>\n",
       "      <th>pickup_hour</th>\n",
       "      <th>pickup_dayweek</th>\n",
       "      <th>pickup_daymonth</th>\n",
       "      <th>pickup_hour_cos</th>\n",
       "      <th>pickup_hour_sin</th>\n",
       "      <th>pickup_dayweek_cos</th>\n",
       "      <th>pickup_dayweek_sin</th>\n",
       "      <th>pickup_daymonth_cos</th>\n",
       "      <th>pickup_daymonth_sin</th>\n",
       "    </tr>\n",
       "  </thead>\n",
       "  <tbody>\n",
       "    <tr>\n",
       "      <th>count</th>\n",
       "      <td>1.088611e+07</td>\n",
       "      <td>1.088611e+07</td>\n",
       "      <td>1.088611e+07</td>\n",
       "      <td>1.088611e+07</td>\n",
       "      <td>1.088611e+07</td>\n",
       "      <td>1.088611e+07</td>\n",
       "      <td>1.088611e+07</td>\n",
       "      <td>1.088611e+07</td>\n",
       "      <td>1.088611e+07</td>\n",
       "      <td>1.088611e+07</td>\n",
       "      <td>...</td>\n",
       "      <td>1.088611e+07</td>\n",
       "      <td>1.088611e+07</td>\n",
       "      <td>1.088611e+07</td>\n",
       "      <td>10886108.0</td>\n",
       "      <td>1.088611e+07</td>\n",
       "      <td>1.088611e+07</td>\n",
       "      <td>1.088611e+07</td>\n",
       "      <td>1.088611e+07</td>\n",
       "      <td>10886108.0</td>\n",
       "      <td>1.088611e+07</td>\n",
       "    </tr>\n",
       "    <tr>\n",
       "      <th>mean</th>\n",
       "      <td>1.527985e+00</td>\n",
       "      <td>1.654461e+00</td>\n",
       "      <td>5.008890e+00</td>\n",
       "      <td>-7.290081e+01</td>\n",
       "      <td>4.015823e+01</td>\n",
       "      <td>1.005864e+00</td>\n",
       "      <td>-7.295949e+01</td>\n",
       "      <td>4.019228e+01</td>\n",
       "      <td>1.351730e+00</td>\n",
       "      <td>9.782266e+00</td>\n",
       "      <td>...</td>\n",
       "      <td>1.066905e+01</td>\n",
       "      <td>1.371452e+01</td>\n",
       "      <td>2.978995e+00</td>\n",
       "      <td>31.0</td>\n",
       "      <td>-8.855055e-02</td>\n",
       "      <td>-2.089877e-01</td>\n",
       "      <td>-5.492471e-02</td>\n",
       "      <td>5.042476e-02</td>\n",
       "      <td>1.0</td>\n",
       "      <td>-2.449294e-16</td>\n",
       "    </tr>\n",
       "    <tr>\n",
       "      <th>min</th>\n",
       "      <td>1.000000e+00</td>\n",
       "      <td>0.000000e+00</td>\n",
       "      <td>0.000000e+00</td>\n",
       "      <td>-1.616987e+02</td>\n",
       "      <td>0.000000e+00</td>\n",
       "      <td>1.000000e+00</td>\n",
       "      <td>-1.616987e+02</td>\n",
       "      <td>0.000000e+00</td>\n",
       "      <td>1.000000e+00</td>\n",
       "      <td>0.000000e+00</td>\n",
       "      <td>...</td>\n",
       "      <td>0.000000e+00</td>\n",
       "      <td>0.000000e+00</td>\n",
       "      <td>0.000000e+00</td>\n",
       "      <td>31.0</td>\n",
       "      <td>-1.000000e+00</td>\n",
       "      <td>-1.000000e+00</td>\n",
       "      <td>-9.009689e-01</td>\n",
       "      <td>-9.749279e-01</td>\n",
       "      <td>1.0</td>\n",
       "      <td>-2.449294e-16</td>\n",
       "    </tr>\n",
       "    <tr>\n",
       "      <th>25%</th>\n",
       "      <td>1.000000e+00</td>\n",
       "      <td>1.000000e+00</td>\n",
       "      <td>9.500000e-01</td>\n",
       "      <td>-7.399211e+01</td>\n",
       "      <td>4.073757e+01</td>\n",
       "      <td>1.000000e+00</td>\n",
       "      <td>-7.399152e+01</td>\n",
       "      <td>4.073698e+01</td>\n",
       "      <td>1.000000e+00</td>\n",
       "      <td>6.500000e+00</td>\n",
       "      <td>...</td>\n",
       "      <td>6.000000e+00</td>\n",
       "      <td>9.000000e+00</td>\n",
       "      <td>1.000000e+00</td>\n",
       "      <td>31.0</td>\n",
       "      <td>-7.071068e-01</td>\n",
       "      <td>-8.660254e-01</td>\n",
       "      <td>-9.009689e-01</td>\n",
       "      <td>-7.818315e-01</td>\n",
       "      <td>1.0</td>\n",
       "      <td>-2.449294e-16</td>\n",
       "    </tr>\n",
       "    <tr>\n",
       "      <th>50%</th>\n",
       "      <td>2.000000e+00</td>\n",
       "      <td>1.000000e+00</td>\n",
       "      <td>1.520000e+00</td>\n",
       "      <td>-7.398217e+01</td>\n",
       "      <td>4.075334e+01</td>\n",
       "      <td>1.000000e+00</td>\n",
       "      <td>-7.398052e+01</td>\n",
       "      <td>4.075414e+01</td>\n",
       "      <td>1.000000e+00</td>\n",
       "      <td>8.500000e+00</td>\n",
       "      <td>...</td>\n",
       "      <td>9.000000e+00</td>\n",
       "      <td>1.400000e+01</td>\n",
       "      <td>3.000000e+00</td>\n",
       "      <td>31.0</td>\n",
       "      <td>-2.588190e-01</td>\n",
       "      <td>-2.588190e-01</td>\n",
       "      <td>-2.225209e-01</td>\n",
       "      <td>0.000000e+00</td>\n",
       "      <td>1.0</td>\n",
       "      <td>-2.449294e-16</td>\n",
       "    </tr>\n",
       "    <tr>\n",
       "      <th>75%</th>\n",
       "      <td>2.000000e+00</td>\n",
       "      <td>2.000000e+00</td>\n",
       "      <td>2.510000e+00</td>\n",
       "      <td>-7.396925e+01</td>\n",
       "      <td>4.076697e+01</td>\n",
       "      <td>1.000000e+00</td>\n",
       "      <td>-7.396555e+01</td>\n",
       "      <td>4.076871e+01</td>\n",
       "      <td>2.000000e+00</td>\n",
       "      <td>1.250000e+01</td>\n",
       "      <td>...</td>\n",
       "      <td>1.500000e+01</td>\n",
       "      <td>1.900000e+01</td>\n",
       "      <td>5.000000e+00</td>\n",
       "      <td>31.0</td>\n",
       "      <td>7.071068e-01</td>\n",
       "      <td>5.000000e-01</td>\n",
       "      <td>6.234898e-01</td>\n",
       "      <td>7.818315e-01</td>\n",
       "      <td>1.0</td>\n",
       "      <td>-2.449294e-16</td>\n",
       "    </tr>\n",
       "    <tr>\n",
       "      <th>max</th>\n",
       "      <td>2.000000e+00</td>\n",
       "      <td>9.000000e+00</td>\n",
       "      <td>1.907263e+07</td>\n",
       "      <td>0.000000e+00</td>\n",
       "      <td>6.685682e+01</td>\n",
       "      <td>9.900000e+01</td>\n",
       "      <td>0.000000e+00</td>\n",
       "      <td>5.079786e+01</td>\n",
       "      <td>4.000000e+00</td>\n",
       "      <td>2.880000e+01</td>\n",
       "      <td>...</td>\n",
       "      <td>3.300000e+01</td>\n",
       "      <td>2.300000e+01</td>\n",
       "      <td>6.000000e+00</td>\n",
       "      <td>31.0</td>\n",
       "      <td>1.000000e+00</td>\n",
       "      <td>1.000000e+00</td>\n",
       "      <td>1.000000e+00</td>\n",
       "      <td>9.749279e-01</td>\n",
       "      <td>1.0</td>\n",
       "      <td>-2.449294e-16</td>\n",
       "    </tr>\n",
       "    <tr>\n",
       "      <th>std</th>\n",
       "      <td>4.992162e-01</td>\n",
       "      <td>1.309841e+00</td>\n",
       "      <td>6.340825e+03</td>\n",
       "      <td>8.870406e+00</td>\n",
       "      <td>4.886185e+00</td>\n",
       "      <td>3.856325e-01</td>\n",
       "      <td>8.620006e+00</td>\n",
       "      <td>4.748444e+00</td>\n",
       "      <td>4.918391e-01</td>\n",
       "      <td>4.638092e+00</td>\n",
       "      <td>...</td>\n",
       "      <td>6.508988e+00</td>\n",
       "      <td>6.334782e+00</td>\n",
       "      <td>1.904131e+00</td>\n",
       "      <td>0.0</td>\n",
       "      <td>7.015057e-01</td>\n",
       "      <td>6.755537e-01</td>\n",
       "      <td>6.935252e-01</td>\n",
       "      <td>7.165636e-01</td>\n",
       "      <td>0.0</td>\n",
       "      <td>0.000000e+00</td>\n",
       "    </tr>\n",
       "  </tbody>\n",
       "</table>\n",
       "<p>8 rows × 28 columns</p>\n",
       "</div>"
      ],
      "text/plain": [
       "           VendorID  passenger_count  trip_distance  pickup_longitude  \\\n",
       "count  1.088611e+07     1.088611e+07   1.088611e+07      1.088611e+07   \n",
       "mean   1.527985e+00     1.654461e+00   5.008890e+00     -7.290081e+01   \n",
       "min    1.000000e+00     0.000000e+00   0.000000e+00     -1.616987e+02   \n",
       "25%    1.000000e+00     1.000000e+00   9.500000e-01     -7.399211e+01   \n",
       "50%    2.000000e+00     1.000000e+00   1.520000e+00     -7.398217e+01   \n",
       "75%    2.000000e+00     2.000000e+00   2.510000e+00     -7.396925e+01   \n",
       "max    2.000000e+00     9.000000e+00   1.907263e+07      0.000000e+00   \n",
       "std    4.992162e-01     1.309841e+00   6.340825e+03      8.870406e+00   \n",
       "\n",
       "       pickup_latitude    RatecodeID  dropoff_longitude  dropoff_latitude  \\\n",
       "count     1.088611e+07  1.088611e+07       1.088611e+07      1.088611e+07   \n",
       "mean      4.015823e+01  1.005864e+00      -7.295949e+01      4.019228e+01   \n",
       "min       0.000000e+00  1.000000e+00      -1.616987e+02      0.000000e+00   \n",
       "25%       4.073757e+01  1.000000e+00      -7.399152e+01      4.073698e+01   \n",
       "50%       4.075334e+01  1.000000e+00      -7.398052e+01      4.075414e+01   \n",
       "75%       4.076697e+01  1.000000e+00      -7.396555e+01      4.076871e+01   \n",
       "max       6.685682e+01  9.900000e+01       0.000000e+00      5.079786e+01   \n",
       "std       4.886185e+00  3.856325e-01       8.620006e+00      4.748444e+00   \n",
       "\n",
       "       payment_type   fare_amount  ...  trip_duration_min   pickup_hour  \\\n",
       "count  1.088611e+07  1.088611e+07  ...       1.088611e+07  1.088611e+07   \n",
       "mean   1.351730e+00  9.782266e+00  ...       1.066905e+01  1.371452e+01   \n",
       "min    1.000000e+00  0.000000e+00  ...       0.000000e+00  0.000000e+00   \n",
       "25%    1.000000e+00  6.500000e+00  ...       6.000000e+00  9.000000e+00   \n",
       "50%    1.000000e+00  8.500000e+00  ...       9.000000e+00  1.400000e+01   \n",
       "75%    2.000000e+00  1.250000e+01  ...       1.500000e+01  1.900000e+01   \n",
       "max    4.000000e+00  2.880000e+01  ...       3.300000e+01  2.300000e+01   \n",
       "std    4.918391e-01  4.638092e+00  ...       6.508988e+00  6.334782e+00   \n",
       "\n",
       "       pickup_dayweek  pickup_daymonth  pickup_hour_cos  pickup_hour_sin  \\\n",
       "count    1.088611e+07       10886108.0     1.088611e+07     1.088611e+07   \n",
       "mean     2.978995e+00             31.0    -8.855055e-02    -2.089877e-01   \n",
       "min      0.000000e+00             31.0    -1.000000e+00    -1.000000e+00   \n",
       "25%      1.000000e+00             31.0    -7.071068e-01    -8.660254e-01   \n",
       "50%      3.000000e+00             31.0    -2.588190e-01    -2.588190e-01   \n",
       "75%      5.000000e+00             31.0     7.071068e-01     5.000000e-01   \n",
       "max      6.000000e+00             31.0     1.000000e+00     1.000000e+00   \n",
       "std      1.904131e+00              0.0     7.015057e-01     6.755537e-01   \n",
       "\n",
       "      pickup_dayweek_cos pickup_dayweek_sin  pickup_daymonth_cos  \\\n",
       "count       1.088611e+07       1.088611e+07           10886108.0   \n",
       "mean       -5.492471e-02       5.042476e-02                  1.0   \n",
       "min        -9.009689e-01      -9.749279e-01                  1.0   \n",
       "25%        -9.009689e-01      -7.818315e-01                  1.0   \n",
       "50%        -2.225209e-01       0.000000e+00                  1.0   \n",
       "75%         6.234898e-01       7.818315e-01                  1.0   \n",
       "max         1.000000e+00       9.749279e-01                  1.0   \n",
       "std         6.935252e-01       7.165636e-01                  0.0   \n",
       "\n",
       "       pickup_daymonth_sin  \n",
       "count         1.088611e+07  \n",
       "mean         -2.449294e-16  \n",
       "min          -2.449294e-16  \n",
       "25%          -2.449294e-16  \n",
       "50%          -2.449294e-16  \n",
       "75%          -2.449294e-16  \n",
       "max          -2.449294e-16  \n",
       "std           0.000000e+00  \n",
       "\n",
       "[8 rows x 28 columns]"
      ]
     },
     "execution_count": 47,
     "metadata": {},
     "output_type": "execute_result"
    }
   ],
   "source": [
    "df.drop(columns=['tpep_pickup_datetime', 'tpep_dropoff_datetime'], inplace=True)\n",
    "df.describe()"
   ]
  },
  {
   "cell_type": "markdown",
   "id": "b725f004",
   "metadata": {},
   "source": [
    "### Guardado de archivo"
   ]
  },
  {
   "cell_type": "code",
   "execution_count": 48,
   "id": "a38f7052",
   "metadata": {},
   "outputs": [],
   "source": [
    "# Prepare data for H2O\n",
    "os.makedirs(os.path.join(smb_dir,\"processed\"), exist_ok=True)\n",
    "df.to_csv(os.path.join(\"/home/giorgio6846/Code/BigData-DATA/TF/processed\", \"yellow_tripdata_2016-03_processed.csv\"), index=False)"
   ]
  }
 ],
 "metadata": {
  "kernelspec": {
   "display_name": "BigData-TF",
   "language": "python",
   "name": "python3"
  },
  "language_info": {
   "codemirror_mode": {
    "name": "ipython",
    "version": 3
   },
   "file_extension": ".py",
   "mimetype": "text/x-python",
   "name": "python",
   "nbconvert_exporter": "python",
   "pygments_lexer": "ipython3",
   "version": "3.11.0"
  }
 },
 "nbformat": 4,
 "nbformat_minor": 5
}
